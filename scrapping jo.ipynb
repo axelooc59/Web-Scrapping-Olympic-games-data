{
 "cells": [
  {
   "cell_type": "code",
   "execution_count": 2,
   "metadata": {},
   "outputs": [
    {
     "name": "stdout",
     "output_type": "stream",
     "text": [
      "200\n"
     ]
    }
   ],
   "source": [
    "from requests_html import HTMLSession\n",
    "from bs4 import BeautifulSoup\n",
    "\n",
    "url=\"https://olympics.com/fr/olympic-games/tokyo-2020/results/athletisme/100m-f\"\n",
    "\n",
    "session = HTMLSession()\n",
    "resp = session.get(url)\n",
    "print(resp.status_code)\n",
    "\n"
   ]
  },
  {
   "attachments": {},
   "cell_type": "markdown",
   "metadata": {},
   "source": [
    "## Extraction des infos d'une épreuve"
   ]
  },
  {
   "cell_type": "code",
   "execution_count": 2,
   "metadata": {},
   "outputs": [
    {
     "name": "stdout",
     "output_type": "stream",
     "text": [
      "elaine thompson-herah\n",
      "shelly-ann fraser-pryce\n",
      "shericka jackson\n",
      "marie-josee ta lou\n",
      "ajla del ponte\n",
      "mujinga kambundji\n",
      "teahna daniels\n",
      "daryll neita\n",
      "JAM\n",
      "JAM\n",
      "JAM\n",
      "CIV\n",
      "SUI\n",
      "SUI\n",
      "USA\n",
      "GBR\n",
      "10.61\n",
      "10.74\n",
      "10.76\n",
      "10.91\n",
      "10.97\n",
      "10.99\n",
      "11.02\n",
      "11.12\n"
     ]
    }
   ],
   "source": [
    "string2=resp.html.html\n",
    "soup = BeautifulSoup(string2, 'html.parser')\n",
    "\n",
    "# with open(\"res.txt\",\"w\") as f:\n",
    "#     f.write(string2)\n",
    "with open(\"res.txt\",\"w\",encoding=\"utf-8\") as f:\n",
    "    f.write(string2)\n",
    "\n",
    "\n",
    "name_nodes = soup.find_all('h3', class_=\"styles__AthleteName-sc-1yhe77y-3 jkTgwS\")\n",
    "pays_nodes= soup.find_all('span', class_=\"styles__CountryName-sc-1r5phm6-1 bojjbG\")\n",
    "resultat_nodes=soup.find_all('span',class_=\"styles__Info-sc-cjoz4h-0 kLiUyB\")\n",
    "for name in name_nodes:\n",
    "    print(name.text)\n",
    "for pays in pays_nodes:\n",
    "    print(pays.text)\n",
    "for resultat in resultat_nodes:\n",
    "    print(resultat.text.split(\":\")[1])\n",
    "\n",
    "\n",
    "\n",
    "\n",
    "\n",
    "\n",
    "\n",
    "\n",
    "\n"
   ]
  },
  {
   "attachments": {},
   "cell_type": "markdown",
   "metadata": {},
   "source": [
    "### Extraction du nom des épreuves pour une catégorie donnée"
   ]
  },
  {
   "cell_type": "code",
   "execution_count": 3,
   "metadata": {},
   "outputs": [],
   "source": [
    "url2=\"https://olympics.com/fr/olympic-games/tokyo-2020/results/athletisme\"\n"
   ]
  },
  {
   "cell_type": "code",
   "execution_count": 4,
   "metadata": {},
   "outputs": [
    {
     "name": "stdout",
     "output_type": "stream",
     "text": [
      "200\n",
      "['10,000m (F)', '10,000m (H)', '100m (F)', '100m (H)', '100m Haies (F)', '110m Haies (H)', '1500m (F)', '1500m (H)', '200m (F)', '200m (H)', '20km Marche (F)', '20km Marche (H)', '3000m Steeple (F)', '3000m Steeple (H)', '400m (H)', '400m (H)', '400m Haies (F)', '400m Haies (H)', '5000m (F)', '5000m (H)', '50km Marche (H)', '800m (F)', '800m (H)', 'Décathlon (H)', 'Heptathlon (F)', 'Lancer du Disque (F)', 'Lancer du Disque (H)', 'Lancer du Javelot (F)', 'Lancer du Javelot (H)', 'Lancer du Marteau (F)', 'Lancer du Marteau (H)', 'Lancer du Poids (F)', 'Lancer du Poids (H)', 'Marathon (F)', 'Marathon (H)', 'Relais 4x100m (F)', 'Relais 4x100m (H)', 'Relais 4x400m (F)', 'Relais 4x400m (H)', 'Relais Mixte 4x400m', 'Saut en Hauteur (F)', 'Saut en Hauteur (H)', 'Saut en Longueur (F)', 'Saut en Longueur (H)', 'Saut à la Perche (F)', 'Saut à la Perche (H)', 'Triple Saut (F)', 'Triple Saut (H)']\n",
      "48\n"
     ]
    }
   ],
   "source": [
    "resp = session.get(url2)\n",
    "print(resp.status_code)\n",
    "string2=resp.html.html\n",
    "soup = BeautifulSoup(string2, 'html.parser')\n",
    "listeath=soup.find_all('h2','styles__Title-sc-282810-2 hdLbhC')\n",
    "liste_epreuve=[]\n",
    "for sport in listeath:\n",
    "    liste_epreuve.append(sport.text)\n",
    "\n",
    "print(liste_epreuve)\n",
    "print(len(liste_epreuve))\n"
   ]
  },
  {
   "attachments": {},
   "cell_type": "markdown",
   "metadata": {},
   "source": [
    "Extraction toute catégorie confondu"
   ]
  },
  {
   "cell_type": "code",
   "execution_count": 5,
   "metadata": {},
   "outputs": [
    {
     "name": "stdout",
     "output_type": "stream",
     "text": [
      "['athletisme', 'aviron', 'badminton', 'baseball-softball', 'basketball', 'basketball-3x3', 'boxe', 'canoe-slalom', 'canoe-sprint', 'cyclisme-bmx-freestyle', 'cyclisme-bmx-racing', 'cyclisme-sur-piste', 'cyclisme-sur-route', 'equitation', 'escalade', 'escrime', 'football', 'golf', 'gymnastique-artistique', 'gymnastique-rythmique', 'gymnastique-trampoline', 'halterophilie', 'handball', 'hockey-sur-gazon', 'judo', 'karate', 'lutte', 'marathon-de-natation', 'natation', 'natation-artistique', 'pentathlon-moderne', 'plongeon', 'rugby-a-7', 'skateboard', 'surf', 'taekwondo', 'tennis', 'tennis-de-table', 'tir', 'tir-a-l-arc', 'triathlon', 'voile', 'volleyball', 'volleyball-de-plage', 'vtt', 'water-polo']\n"
     ]
    }
   ],
   "source": [
    "listeSport=\"\"\"Athlétisme\n",
    "Aviron\n",
    "Badminton\n",
    "Baseball/Softball\n",
    "Basketball\n",
    "Basketball 3x3\n",
    "Boxe\n",
    "Canoë Slalom\n",
    "Canoë Sprint\n",
    "Cyclisme BMX Freestyle\n",
    "Cyclisme BMX Racing\n",
    "Cyclisme Sur Piste\n",
    "Cyclisme Sur Route\n",
    "Équitation\n",
    "Escalade\n",
    "Escrime\n",
    "Football\n",
    "Golf\n",
    "Gymnastique Artistique\n",
    "Gymnastique Rythmique\n",
    "Gymnastique Trampoline\n",
    "Haltérophilie\n",
    "Handball\n",
    "Hockey Sur Gazon\n",
    "Judo\n",
    "Karaté\n",
    "Lutte\n",
    "Marathon De Natation\n",
    "Natation\n",
    "Natation Artistique\n",
    "Pentathlon Moderne\n",
    "Plongeon\n",
    "Rugby À 7\n",
    "Skateboard\n",
    "Surf\n",
    "Taekwondo\n",
    "Tennis\n",
    "Tennis De Table\n",
    "Tir\n",
    "Tir À L'arc\n",
    "Triathlon\n",
    "Voile\n",
    "Volleyball\n",
    "Volleyball De Plage\n",
    "VTT\n",
    "Water-polo\"\"\".split(\"\\n\")\n",
    "\n",
    "from unidecode import unidecode\n",
    "import re\n",
    "listeSport=[unidecode(e.lower())for e in listeSport]\n",
    "listeSport=[re.sub(r'\\W+', '-', e)for e in listeSport]\n",
    "\n",
    "print(listeSport)\n",
    "\n"
   ]
  },
  {
   "attachments": {},
   "cell_type": "markdown",
   "metadata": {},
   "source": [
    "### Vérifions que notre liste de sport permet de créer les bons liens"
   ]
  },
  {
   "cell_type": "code",
   "execution_count": 6,
   "metadata": {},
   "outputs": [
    {
     "name": "stdout",
     "output_type": "stream",
     "text": [
      "46\n"
     ]
    },
    {
     "ename": "KeyboardInterrupt",
     "evalue": "",
     "output_type": "error",
     "traceback": [
      "\u001b[1;31m---------------------------------------------------------------------------\u001b[0m",
      "\u001b[1;31mKeyboardInterrupt\u001b[0m                         Traceback (most recent call last)",
      "Cell \u001b[1;32mIn[6], line 5\u001b[0m\n\u001b[0;32m      3\u001b[0m \u001b[39mfor\u001b[39;00m sport \u001b[39min\u001b[39;00m listeSport:\n\u001b[0;32m      4\u001b[0m     url\u001b[39m=\u001b[39m\u001b[39m\"\u001b[39m\u001b[39mhttps://olympics.com/fr/olympic-games/tokyo-2020/results/\u001b[39m\u001b[39m\"\u001b[39m\u001b[39m+\u001b[39m sport\n\u001b[1;32m----> 5\u001b[0m     resp \u001b[39m=\u001b[39m session\u001b[39m.\u001b[39;49mget(url)\n\u001b[0;32m      6\u001b[0m     \u001b[39mif\u001b[39;00m resp\u001b[39m.\u001b[39mstatus_code\u001b[39m==\u001b[39m\u001b[39m200\u001b[39m:\n\u001b[0;32m      7\u001b[0m         count\u001b[39m+\u001b[39m\u001b[39m=\u001b[39m\u001b[39m1\u001b[39m\n",
      "File \u001b[1;32m~\\AppData\\Local\\Packages\\PythonSoftwareFoundation.Python.3.10_qbz5n2kfra8p0\\LocalCache\\local-packages\\Python310\\site-packages\\requests\\sessions.py:600\u001b[0m, in \u001b[0;36mSession.get\u001b[1;34m(self, url, **kwargs)\u001b[0m\n\u001b[0;32m    592\u001b[0m \u001b[39mr\u001b[39m\u001b[39m\"\"\"Sends a GET request. Returns :class:`Response` object.\u001b[39;00m\n\u001b[0;32m    593\u001b[0m \n\u001b[0;32m    594\u001b[0m \u001b[39m:param url: URL for the new :class:`Request` object.\u001b[39;00m\n\u001b[0;32m    595\u001b[0m \u001b[39m:param \\*\\*kwargs: Optional arguments that ``request`` takes.\u001b[39;00m\n\u001b[0;32m    596\u001b[0m \u001b[39m:rtype: requests.Response\u001b[39;00m\n\u001b[0;32m    597\u001b[0m \u001b[39m\"\"\"\u001b[39;00m\n\u001b[0;32m    599\u001b[0m kwargs\u001b[39m.\u001b[39msetdefault(\u001b[39m\"\u001b[39m\u001b[39mallow_redirects\u001b[39m\u001b[39m\"\u001b[39m, \u001b[39mTrue\u001b[39;00m)\n\u001b[1;32m--> 600\u001b[0m \u001b[39mreturn\u001b[39;00m \u001b[39mself\u001b[39m\u001b[39m.\u001b[39mrequest(\u001b[39m\"\u001b[39m\u001b[39mGET\u001b[39m\u001b[39m\"\u001b[39m, url, \u001b[39m*\u001b[39m\u001b[39m*\u001b[39mkwargs)\n",
      "File \u001b[1;32m~\\AppData\\Local\\Packages\\PythonSoftwareFoundation.Python.3.10_qbz5n2kfra8p0\\LocalCache\\local-packages\\Python310\\site-packages\\requests\\sessions.py:587\u001b[0m, in \u001b[0;36mSession.request\u001b[1;34m(self, method, url, params, data, headers, cookies, files, auth, timeout, allow_redirects, proxies, hooks, stream, verify, cert, json)\u001b[0m\n\u001b[0;32m    582\u001b[0m send_kwargs \u001b[39m=\u001b[39m {\n\u001b[0;32m    583\u001b[0m     \u001b[39m\"\u001b[39m\u001b[39mtimeout\u001b[39m\u001b[39m\"\u001b[39m: timeout,\n\u001b[0;32m    584\u001b[0m     \u001b[39m\"\u001b[39m\u001b[39mallow_redirects\u001b[39m\u001b[39m\"\u001b[39m: allow_redirects,\n\u001b[0;32m    585\u001b[0m }\n\u001b[0;32m    586\u001b[0m send_kwargs\u001b[39m.\u001b[39mupdate(settings)\n\u001b[1;32m--> 587\u001b[0m resp \u001b[39m=\u001b[39m \u001b[39mself\u001b[39m\u001b[39m.\u001b[39msend(prep, \u001b[39m*\u001b[39m\u001b[39m*\u001b[39msend_kwargs)\n\u001b[0;32m    589\u001b[0m \u001b[39mreturn\u001b[39;00m resp\n",
      "File \u001b[1;32m~\\AppData\\Local\\Packages\\PythonSoftwareFoundation.Python.3.10_qbz5n2kfra8p0\\LocalCache\\local-packages\\Python310\\site-packages\\requests\\sessions.py:701\u001b[0m, in \u001b[0;36mSession.send\u001b[1;34m(self, request, **kwargs)\u001b[0m\n\u001b[0;32m    698\u001b[0m start \u001b[39m=\u001b[39m preferred_clock()\n\u001b[0;32m    700\u001b[0m \u001b[39m# Send the request\u001b[39;00m\n\u001b[1;32m--> 701\u001b[0m r \u001b[39m=\u001b[39m adapter\u001b[39m.\u001b[39msend(request, \u001b[39m*\u001b[39m\u001b[39m*\u001b[39mkwargs)\n\u001b[0;32m    703\u001b[0m \u001b[39m# Total elapsed time of the request (approximately)\u001b[39;00m\n\u001b[0;32m    704\u001b[0m elapsed \u001b[39m=\u001b[39m preferred_clock() \u001b[39m-\u001b[39m start\n",
      "File \u001b[1;32m~\\AppData\\Local\\Packages\\PythonSoftwareFoundation.Python.3.10_qbz5n2kfra8p0\\LocalCache\\local-packages\\Python310\\site-packages\\requests\\adapters.py:489\u001b[0m, in \u001b[0;36mHTTPAdapter.send\u001b[1;34m(self, request, stream, timeout, verify, cert, proxies)\u001b[0m\n\u001b[0;32m    487\u001b[0m \u001b[39mtry\u001b[39;00m:\n\u001b[0;32m    488\u001b[0m     \u001b[39mif\u001b[39;00m \u001b[39mnot\u001b[39;00m chunked:\n\u001b[1;32m--> 489\u001b[0m         resp \u001b[39m=\u001b[39m conn\u001b[39m.\u001b[39;49murlopen(\n\u001b[0;32m    490\u001b[0m             method\u001b[39m=\u001b[39;49mrequest\u001b[39m.\u001b[39;49mmethod,\n\u001b[0;32m    491\u001b[0m             url\u001b[39m=\u001b[39;49murl,\n\u001b[0;32m    492\u001b[0m             body\u001b[39m=\u001b[39;49mrequest\u001b[39m.\u001b[39;49mbody,\n\u001b[0;32m    493\u001b[0m             headers\u001b[39m=\u001b[39;49mrequest\u001b[39m.\u001b[39;49mheaders,\n\u001b[0;32m    494\u001b[0m             redirect\u001b[39m=\u001b[39;49m\u001b[39mFalse\u001b[39;49;00m,\n\u001b[0;32m    495\u001b[0m             assert_same_host\u001b[39m=\u001b[39;49m\u001b[39mFalse\u001b[39;49;00m,\n\u001b[0;32m    496\u001b[0m             preload_content\u001b[39m=\u001b[39;49m\u001b[39mFalse\u001b[39;49;00m,\n\u001b[0;32m    497\u001b[0m             decode_content\u001b[39m=\u001b[39;49m\u001b[39mFalse\u001b[39;49;00m,\n\u001b[0;32m    498\u001b[0m             retries\u001b[39m=\u001b[39;49m\u001b[39mself\u001b[39;49m\u001b[39m.\u001b[39;49mmax_retries,\n\u001b[0;32m    499\u001b[0m             timeout\u001b[39m=\u001b[39;49mtimeout,\n\u001b[0;32m    500\u001b[0m         )\n\u001b[0;32m    502\u001b[0m     \u001b[39m# Send the request.\u001b[39;00m\n\u001b[0;32m    503\u001b[0m     \u001b[39melse\u001b[39;00m:\n\u001b[0;32m    504\u001b[0m         \u001b[39mif\u001b[39;00m \u001b[39mhasattr\u001b[39m(conn, \u001b[39m\"\u001b[39m\u001b[39mproxy_pool\u001b[39m\u001b[39m\"\u001b[39m):\n",
      "File \u001b[1;32m~\\AppData\\Local\\Packages\\PythonSoftwareFoundation.Python.3.10_qbz5n2kfra8p0\\LocalCache\\local-packages\\Python310\\site-packages\\urllib3\\connectionpool.py:703\u001b[0m, in \u001b[0;36mHTTPConnectionPool.urlopen\u001b[1;34m(self, method, url, body, headers, retries, redirect, assert_same_host, timeout, pool_timeout, release_conn, chunked, body_pos, **response_kw)\u001b[0m\n\u001b[0;32m    700\u001b[0m     \u001b[39mself\u001b[39m\u001b[39m.\u001b[39m_prepare_proxy(conn)\n\u001b[0;32m    702\u001b[0m \u001b[39m# Make the request on the httplib connection object.\u001b[39;00m\n\u001b[1;32m--> 703\u001b[0m httplib_response \u001b[39m=\u001b[39m \u001b[39mself\u001b[39;49m\u001b[39m.\u001b[39;49m_make_request(\n\u001b[0;32m    704\u001b[0m     conn,\n\u001b[0;32m    705\u001b[0m     method,\n\u001b[0;32m    706\u001b[0m     url,\n\u001b[0;32m    707\u001b[0m     timeout\u001b[39m=\u001b[39;49mtimeout_obj,\n\u001b[0;32m    708\u001b[0m     body\u001b[39m=\u001b[39;49mbody,\n\u001b[0;32m    709\u001b[0m     headers\u001b[39m=\u001b[39;49mheaders,\n\u001b[0;32m    710\u001b[0m     chunked\u001b[39m=\u001b[39;49mchunked,\n\u001b[0;32m    711\u001b[0m )\n\u001b[0;32m    713\u001b[0m \u001b[39m# If we're going to release the connection in ``finally:``, then\u001b[39;00m\n\u001b[0;32m    714\u001b[0m \u001b[39m# the response doesn't need to know about the connection. Otherwise\u001b[39;00m\n\u001b[0;32m    715\u001b[0m \u001b[39m# it will also try to release it and we'll have a double-release\u001b[39;00m\n\u001b[0;32m    716\u001b[0m \u001b[39m# mess.\u001b[39;00m\n\u001b[0;32m    717\u001b[0m response_conn \u001b[39m=\u001b[39m conn \u001b[39mif\u001b[39;00m \u001b[39mnot\u001b[39;00m release_conn \u001b[39melse\u001b[39;00m \u001b[39mNone\u001b[39;00m\n",
      "File \u001b[1;32m~\\AppData\\Local\\Packages\\PythonSoftwareFoundation.Python.3.10_qbz5n2kfra8p0\\LocalCache\\local-packages\\Python310\\site-packages\\urllib3\\connectionpool.py:449\u001b[0m, in \u001b[0;36mHTTPConnectionPool._make_request\u001b[1;34m(self, conn, method, url, timeout, chunked, **httplib_request_kw)\u001b[0m\n\u001b[0;32m    444\u001b[0m             httplib_response \u001b[39m=\u001b[39m conn\u001b[39m.\u001b[39mgetresponse()\n\u001b[0;32m    445\u001b[0m         \u001b[39mexcept\u001b[39;00m \u001b[39mBaseException\u001b[39;00m \u001b[39mas\u001b[39;00m e:\n\u001b[0;32m    446\u001b[0m             \u001b[39m# Remove the TypeError from the exception chain in\u001b[39;00m\n\u001b[0;32m    447\u001b[0m             \u001b[39m# Python 3 (including for exceptions like SystemExit).\u001b[39;00m\n\u001b[0;32m    448\u001b[0m             \u001b[39m# Otherwise it looks like a bug in the code.\u001b[39;00m\n\u001b[1;32m--> 449\u001b[0m             six\u001b[39m.\u001b[39;49mraise_from(e, \u001b[39mNone\u001b[39;49;00m)\n\u001b[0;32m    450\u001b[0m \u001b[39mexcept\u001b[39;00m (SocketTimeout, BaseSSLError, SocketError) \u001b[39mas\u001b[39;00m e:\n\u001b[0;32m    451\u001b[0m     \u001b[39mself\u001b[39m\u001b[39m.\u001b[39m_raise_timeout(err\u001b[39m=\u001b[39me, url\u001b[39m=\u001b[39murl, timeout_value\u001b[39m=\u001b[39mread_timeout)\n",
      "File \u001b[1;32m<string>:3\u001b[0m, in \u001b[0;36mraise_from\u001b[1;34m(value, from_value)\u001b[0m\n",
      "File \u001b[1;32m~\\AppData\\Local\\Packages\\PythonSoftwareFoundation.Python.3.10_qbz5n2kfra8p0\\LocalCache\\local-packages\\Python310\\site-packages\\urllib3\\connectionpool.py:444\u001b[0m, in \u001b[0;36mHTTPConnectionPool._make_request\u001b[1;34m(self, conn, method, url, timeout, chunked, **httplib_request_kw)\u001b[0m\n\u001b[0;32m    441\u001b[0m \u001b[39mexcept\u001b[39;00m \u001b[39mTypeError\u001b[39;00m:\n\u001b[0;32m    442\u001b[0m     \u001b[39m# Python 3\u001b[39;00m\n\u001b[0;32m    443\u001b[0m     \u001b[39mtry\u001b[39;00m:\n\u001b[1;32m--> 444\u001b[0m         httplib_response \u001b[39m=\u001b[39m conn\u001b[39m.\u001b[39;49mgetresponse()\n\u001b[0;32m    445\u001b[0m     \u001b[39mexcept\u001b[39;00m \u001b[39mBaseException\u001b[39;00m \u001b[39mas\u001b[39;00m e:\n\u001b[0;32m    446\u001b[0m         \u001b[39m# Remove the TypeError from the exception chain in\u001b[39;00m\n\u001b[0;32m    447\u001b[0m         \u001b[39m# Python 3 (including for exceptions like SystemExit).\u001b[39;00m\n\u001b[0;32m    448\u001b[0m         \u001b[39m# Otherwise it looks like a bug in the code.\u001b[39;00m\n\u001b[0;32m    449\u001b[0m         six\u001b[39m.\u001b[39mraise_from(e, \u001b[39mNone\u001b[39;00m)\n",
      "File \u001b[1;32mC:\\Program Files\\WindowsApps\\PythonSoftwareFoundation.Python.3.10_3.10.2800.0_x64__qbz5n2kfra8p0\\lib\\http\\client.py:1374\u001b[0m, in \u001b[0;36mHTTPConnection.getresponse\u001b[1;34m(self)\u001b[0m\n\u001b[0;32m   1372\u001b[0m \u001b[39mtry\u001b[39;00m:\n\u001b[0;32m   1373\u001b[0m     \u001b[39mtry\u001b[39;00m:\n\u001b[1;32m-> 1374\u001b[0m         response\u001b[39m.\u001b[39;49mbegin()\n\u001b[0;32m   1375\u001b[0m     \u001b[39mexcept\u001b[39;00m \u001b[39mConnectionError\u001b[39;00m:\n\u001b[0;32m   1376\u001b[0m         \u001b[39mself\u001b[39m\u001b[39m.\u001b[39mclose()\n",
      "File \u001b[1;32mC:\\Program Files\\WindowsApps\\PythonSoftwareFoundation.Python.3.10_3.10.2800.0_x64__qbz5n2kfra8p0\\lib\\http\\client.py:318\u001b[0m, in \u001b[0;36mHTTPResponse.begin\u001b[1;34m(self)\u001b[0m\n\u001b[0;32m    316\u001b[0m \u001b[39m# read until we get a non-100 response\u001b[39;00m\n\u001b[0;32m    317\u001b[0m \u001b[39mwhile\u001b[39;00m \u001b[39mTrue\u001b[39;00m:\n\u001b[1;32m--> 318\u001b[0m     version, status, reason \u001b[39m=\u001b[39m \u001b[39mself\u001b[39;49m\u001b[39m.\u001b[39;49m_read_status()\n\u001b[0;32m    319\u001b[0m     \u001b[39mif\u001b[39;00m status \u001b[39m!=\u001b[39m CONTINUE:\n\u001b[0;32m    320\u001b[0m         \u001b[39mbreak\u001b[39;00m\n",
      "File \u001b[1;32mC:\\Program Files\\WindowsApps\\PythonSoftwareFoundation.Python.3.10_3.10.2800.0_x64__qbz5n2kfra8p0\\lib\\http\\client.py:279\u001b[0m, in \u001b[0;36mHTTPResponse._read_status\u001b[1;34m(self)\u001b[0m\n\u001b[0;32m    278\u001b[0m \u001b[39mdef\u001b[39;00m \u001b[39m_read_status\u001b[39m(\u001b[39mself\u001b[39m):\n\u001b[1;32m--> 279\u001b[0m     line \u001b[39m=\u001b[39m \u001b[39mstr\u001b[39m(\u001b[39mself\u001b[39;49m\u001b[39m.\u001b[39;49mfp\u001b[39m.\u001b[39;49mreadline(_MAXLINE \u001b[39m+\u001b[39;49m \u001b[39m1\u001b[39;49m), \u001b[39m\"\u001b[39m\u001b[39miso-8859-1\u001b[39m\u001b[39m\"\u001b[39m)\n\u001b[0;32m    280\u001b[0m     \u001b[39mif\u001b[39;00m \u001b[39mlen\u001b[39m(line) \u001b[39m>\u001b[39m _MAXLINE:\n\u001b[0;32m    281\u001b[0m         \u001b[39mraise\u001b[39;00m LineTooLong(\u001b[39m\"\u001b[39m\u001b[39mstatus line\u001b[39m\u001b[39m\"\u001b[39m)\n",
      "File \u001b[1;32mC:\\Program Files\\WindowsApps\\PythonSoftwareFoundation.Python.3.10_3.10.2800.0_x64__qbz5n2kfra8p0\\lib\\socket.py:705\u001b[0m, in \u001b[0;36mSocketIO.readinto\u001b[1;34m(self, b)\u001b[0m\n\u001b[0;32m    703\u001b[0m \u001b[39mwhile\u001b[39;00m \u001b[39mTrue\u001b[39;00m:\n\u001b[0;32m    704\u001b[0m     \u001b[39mtry\u001b[39;00m:\n\u001b[1;32m--> 705\u001b[0m         \u001b[39mreturn\u001b[39;00m \u001b[39mself\u001b[39;49m\u001b[39m.\u001b[39;49m_sock\u001b[39m.\u001b[39;49mrecv_into(b)\n\u001b[0;32m    706\u001b[0m     \u001b[39mexcept\u001b[39;00m timeout:\n\u001b[0;32m    707\u001b[0m         \u001b[39mself\u001b[39m\u001b[39m.\u001b[39m_timeout_occurred \u001b[39m=\u001b[39m \u001b[39mTrue\u001b[39;00m\n",
      "File \u001b[1;32mC:\\Program Files\\WindowsApps\\PythonSoftwareFoundation.Python.3.10_3.10.2800.0_x64__qbz5n2kfra8p0\\lib\\ssl.py:1274\u001b[0m, in \u001b[0;36mSSLSocket.recv_into\u001b[1;34m(self, buffer, nbytes, flags)\u001b[0m\n\u001b[0;32m   1270\u001b[0m     \u001b[39mif\u001b[39;00m flags \u001b[39m!=\u001b[39m \u001b[39m0\u001b[39m:\n\u001b[0;32m   1271\u001b[0m         \u001b[39mraise\u001b[39;00m \u001b[39mValueError\u001b[39;00m(\n\u001b[0;32m   1272\u001b[0m           \u001b[39m\"\u001b[39m\u001b[39mnon-zero flags not allowed in calls to recv_into() on \u001b[39m\u001b[39m%s\u001b[39;00m\u001b[39m\"\u001b[39m \u001b[39m%\u001b[39m\n\u001b[0;32m   1273\u001b[0m           \u001b[39mself\u001b[39m\u001b[39m.\u001b[39m\u001b[39m__class__\u001b[39m)\n\u001b[1;32m-> 1274\u001b[0m     \u001b[39mreturn\u001b[39;00m \u001b[39mself\u001b[39;49m\u001b[39m.\u001b[39;49mread(nbytes, buffer)\n\u001b[0;32m   1275\u001b[0m \u001b[39melse\u001b[39;00m:\n\u001b[0;32m   1276\u001b[0m     \u001b[39mreturn\u001b[39;00m \u001b[39msuper\u001b[39m()\u001b[39m.\u001b[39mrecv_into(buffer, nbytes, flags)\n",
      "File \u001b[1;32mC:\\Program Files\\WindowsApps\\PythonSoftwareFoundation.Python.3.10_3.10.2800.0_x64__qbz5n2kfra8p0\\lib\\ssl.py:1130\u001b[0m, in \u001b[0;36mSSLSocket.read\u001b[1;34m(self, len, buffer)\u001b[0m\n\u001b[0;32m   1128\u001b[0m \u001b[39mtry\u001b[39;00m:\n\u001b[0;32m   1129\u001b[0m     \u001b[39mif\u001b[39;00m buffer \u001b[39mis\u001b[39;00m \u001b[39mnot\u001b[39;00m \u001b[39mNone\u001b[39;00m:\n\u001b[1;32m-> 1130\u001b[0m         \u001b[39mreturn\u001b[39;00m \u001b[39mself\u001b[39;49m\u001b[39m.\u001b[39;49m_sslobj\u001b[39m.\u001b[39;49mread(\u001b[39mlen\u001b[39;49m, buffer)\n\u001b[0;32m   1131\u001b[0m     \u001b[39melse\u001b[39;00m:\n\u001b[0;32m   1132\u001b[0m         \u001b[39mreturn\u001b[39;00m \u001b[39mself\u001b[39m\u001b[39m.\u001b[39m_sslobj\u001b[39m.\u001b[39mread(\u001b[39mlen\u001b[39m)\n",
      "\u001b[1;31mKeyboardInterrupt\u001b[0m: "
     ]
    }
   ],
   "source": [
    "print(len(listeSport))\n",
    "count=0\n",
    "for sport in listeSport:\n",
    "    url=\"https://olympics.com/fr/olympic-games/tokyo-2020/results/\"+ sport\n",
    "    resp = session.get(url)\n",
    "    if resp.status_code==200:\n",
    "        count+=1\n",
    "print(count)\n",
    "\n"
   ]
  },
  {
   "attachments": {},
   "cell_type": "markdown",
   "metadata": {},
   "source": [
    "C'est validé !"
   ]
  },
  {
   "cell_type": "code",
   "execution_count": 6,
   "metadata": {},
   "outputs": [],
   "source": [
    "liste_epreuve=[]\n",
    "for elt in listeSport:\n",
    "    url2=\"https://olympics.com/fr/olympic-games/tokyo-2020/results/\" + elt\n",
    "    #print(\"Scrapping : \"+url2)\n",
    "    resp = session.get(url2)\n",
    "    #print(resp.status_code)\n",
    "    string2=resp.html.html\n",
    "    soup = BeautifulSoup(string2, 'html.parser')\n",
    "    listeath=soup.find_all('h2','styles__Title-sc-282810-2 hdLbhC')\n",
    "    check=0\n",
    "    for sport in listeath:\n",
    "        liste_epreuve.append((sport.text,elt))\n",
    "        \n",
    "\n",
    "\n",
    "\n",
    "    \n",
    "\n",
    "    "
   ]
  },
  {
   "cell_type": "code",
   "execution_count": 7,
   "metadata": {},
   "outputs": [],
   "source": [
    "# for e,l in liste_epreuve:\n",
    "#     if(\"+\" in e):\n",
    "#         print(e)\n",
    "# print(len(liste_epreuve))\n",
    "\n",
    "\n",
    "#super-lourd-plus-de-91kg-h\n",
    "#plus-de-100kg-h\n",
    "liste_epreuve=[  (e.replace('+','plus-de-'),sport)    if \"+\" in e else (e,sport)  for e,sport in liste_epreuve]\n",
    "# for e,sport in liste_epreuve:\n",
    "    \n",
    "#     (e)"
   ]
  },
  {
   "attachments": {},
   "cell_type": "markdown",
   "metadata": {},
   "source": [
    "## Création des liens valides et vérification de leurs valdiités"
   ]
  },
  {
   "cell_type": "code",
   "execution_count": 8,
   "metadata": {},
   "outputs": [
    {
     "name": "stdout",
     "output_type": "stream",
     "text": [
      "https://olympics.com/fr/olympic-games/tokyo-2020/results/athletisme/10-000m-f\n",
      "https://olympics.com/fr/olympic-games/tokyo-2020/results/athletisme/10-000m-h\n",
      "Nombre de liens:  339 . 337  liens sont valides\n",
      "Nombre distinct:  338\n"
     ]
    }
   ],
   "source": [
    "# for epv,sport in liste_epreuve:\n",
    "#     #print(epv)\n",
    "\n",
    "\n",
    "\n",
    "liste_path=[sport+'/'+e.lower() if e==\"Femme\" or e==\"Homme\" else sport+'/'+re.sub(r'\\W+', '-',unidecode(e.lower().strip()).replace(\")\",\"\")) for e,sport in liste_epreuve ]\n",
    "\n",
    "liste_path=[e.split(\"/\")[0]+\"/\"+e.split(\"/\")[1][1:] if e.split(\"/\")[1][0]=='-' else e for e in liste_path]\n",
    "check=0\n",
    "for e in liste_path:\n",
    "    url=\"https://olympics.com/fr/olympic-games/tokyo-2020/results/\"+ e\n",
    "    resp = session.get(url)\n",
    "    if resp.status_code==200:\n",
    "        check+=1\n",
    "    else:\n",
    "        print(url)\n",
    "\n",
    "\n",
    "    \n",
    "\n",
    "print(\"Nombre de liens: \",len(liste_path),\".\",check,\" liens sont valides\")\n",
    "print(\"Nombre distinct: \",len(set(liste_path)))\n"
   ]
  },
  {
   "attachments": {},
   "cell_type": "markdown",
   "metadata": {},
   "source": [
    "### Vérification d'éventuel(s) doublon(s)"
   ]
  },
  {
   "cell_type": "code",
   "execution_count": 13,
   "metadata": {},
   "outputs": [
    {
     "name": "stdout",
     "output_type": "stream",
     "text": [
      "['athletisme/400m-h']\n"
     ]
    }
   ],
   "source": [
    "duplicates = []\n",
    "\n",
    "for i in liste_path:\n",
    "    if liste_path.count(i) > 1:\n",
    "        if i not in duplicates:\n",
    "            duplicates.append(i)\n",
    "print(duplicates)"
   ]
  },
  {
   "cell_type": "code",
   "execution_count": 10,
   "metadata": {},
   "outputs": [],
   "source": [
    "import pandas as pd"
   ]
  },
  {
   "attachments": {},
   "cell_type": "markdown",
   "metadata": {},
   "source": [
    "## Scrapping de toutes les épreuves de chacun des sports"
   ]
  },
  {
   "cell_type": "code",
   "execution_count": 11,
   "metadata": {},
   "outputs": [
    {
     "name": "stdout",
     "output_type": "stream",
     "text": [
      "Nombre de liens:  339 . 339  liens sont valides\n",
      "Nombre distinct:  338\n",
      "[('athletisme/400m-h', 2), ('athletisme/400m-h', 2)]\n"
     ]
    }
   ],
   "source": [
    "\n",
    "list_name=[]\n",
    "list_pays=[]\n",
    "list_resultat=[]\n",
    "list_epreuve=[]\n",
    "list_sport=[]\n",
    "list_medaille=[]\n",
    "\n",
    "\n",
    "list_path_correct=liste_path\n",
    "try:\n",
    "    list_path_correct.remove('athletisme/10-000m-f')\n",
    "except:\n",
    "    pass\n",
    "try:\n",
    "    list_path_correct.remove('athletisme/10-000m-h')  \n",
    "except:\n",
    "    pass\n",
    "try :\n",
    "    list_path_correct.remove('athletisme/400m-f')\n",
    "except:\n",
    "    pass\n",
    "list_path_correct.append('athletisme/10000m-f')   \n",
    "list_path_correct.append('athletisme/10000m-h')  \n",
    "check=0\n",
    "for e in list_path_correct:\n",
    "    url=\"https://olympics.com/fr/olympic-games/tokyo-2020/results/\"+ e\n",
    "    resp = session.get(url)\n",
    "    if resp.status_code==200:\n",
    "        check+=1\n",
    "    else:\n",
    "        print(url)\n",
    "\n",
    "\n",
    "    \n",
    "\n",
    "print(\"Nombre de liens: \",len(list_path_correct),\".\",check,\" liens sont valides\")\n",
    "print(\"Nombre distinct: \",len(set(list_path_correct)))\n",
    "    \n",
    "duplicates = []\n",
    "\n",
    "for i in liste_path:\n",
    "    if liste_path.count(i) > 1:\n",
    "        if i not in duplicates:\n",
    "            duplicates.append((i,liste_path.count(i)))\n",
    "print(duplicates)\n"
   ]
  },
  {
   "cell_type": "code",
   "execution_count": 14,
   "metadata": {},
   "outputs": [
    {
     "name": "stdout",
     "output_type": "stream",
     "text": [
      "338\n",
      "<Response [200]>\n",
      "boxe/leger-57-63kg-h individual\n",
      "<Response [200]>\n",
      "canoe-slalom/kayak-h individual\n",
      "<Response [200]>\n",
      "voile/rs-x-h individual\n",
      "<Response [200]>\n",
      "judo/81kg-h individual\n",
      "<Response [200]>\n",
      "cyclisme-bmx-freestyle/park-h individual\n",
      "<Response [200]>\n",
      "athletisme/lancer-du-poids-h individual\n",
      "<Response [200]>\n",
      "athletisme/200m-h individual\n",
      "<Response [200]>\n",
      "halterophilie/61kg-h individual\n",
      "<Response [200]>\n",
      "judo/48kg-f individual\n",
      "<Response [200]>\n",
      "halterophilie/plus-de-87kg-f individual\n",
      "<Response [200]>\n",
      "halterophilie/64kg-f individual\n",
      "<Response [200]>\n",
      "football/femme en équipe\n",
      "<Response [200]>\n",
      "athletisme/lancer-du-javelot-h individual\n",
      "<Response [200]>\n",
      "lutte/libre-53kg-f individual\n",
      "<Response [200]>\n",
      "vtt/cross-country-h individual\n",
      "<Response [200]>\n",
      "judo/60kg-h individual\n",
      "<Response [200]>\n",
      "lutte/libre-57kg-f individual\n",
      "<Response [200]>\n",
      "escrime/sabre-equipe-h en équipe\n",
      "<Response [200]>\n",
      "athletisme/relais-4x400m-h en équipe\n",
      "<Response [200]>\n",
      "escalade/combine-h individual\n",
      "<Response [200]>\n",
      "lutte/libre-86kg-h individual\n",
      "<Response [200]>\n",
      "plongeon/plateforme-10m-f individual\n",
      "<Response [200]>\n",
      "athletisme/lancer-du-poids-f individual\n",
      "<Response [200]>\n",
      "aviron/deux-de-couple-poids-legers-h individual\n",
      "<Response [200]>\n",
      "natation-artistique/equipe en équipe\n",
      "<Response [200]>\n",
      "skateboard/park-f individual\n",
      "<Response [200]>\n",
      "cyclisme-sur-piste/poursuite-equipe-f en équipe\n",
      "<Response [200]>\n",
      "skateboard/street-f individual\n",
      "<Response [200]>\n",
      "athletisme/3000m-steeple-f individual\n",
      "<Response [200]>\n",
      "aviron/deux-sans-barreur-h en équipe\n",
      "<Response [200]>\n",
      "athletisme/lancer-du-marteau-f individual\n",
      "<Response [200]>\n",
      "voile/49er-fx-f individual\n",
      "<Response [200]>\n",
      "natation/200m-4-nages-individuel-f individual\n",
      "<Response [200]>\n",
      "natation-artistique/duo individual\n",
      "<Response [200]>\n",
      "athletisme/10000m-f individual\n",
      "<Response [200]>\n",
      "golf/stroke-play-individuel-f individual\n",
      "<Response [200]>\n",
      "hockey-sur-gazon/femme en équipe\n",
      "<Response [200]>\n",
      "plongeon/plateforme-10m-h individual\n",
      "<Response [200]>\n",
      "aviron/quatre-de-couple-h en équipe\n",
      "<Response [200]>\n",
      "canoe-sprint/canoe-double-1000m-h individual\n",
      "<Response [200]>\n",
      "aviron/quatre-sans-barreur-h en équipe\n",
      "<Response [200]>\n",
      "halterophilie/plus-de-109kg-h individual\n",
      "<Response [200]>\n",
      "escrime/sabre-individuel-f individual\n",
      "<Response [200]>\n",
      "tennis-de-table/equipe-f en équipe\n",
      "<Response [200]>\n",
      "karate/kumite-75kg-h individual\n",
      "<Response [200]>\n",
      "athletisme/saut-a-la-perche-f individual\n",
      "<Response [200]>\n",
      "surf/femme individual\n",
      "<Response [200]>\n",
      "athletisme/5000m-f individual\n",
      "<Response [200]>\n",
      "athletisme/triple-saut-f individual\n",
      "<Response [200]>\n",
      "lutte/greco-romaine-97kg-h individual\n",
      "<Response [200]>\n",
      "karate/kata-f individual\n",
      "<Response [200]>\n",
      "aviron/skiff-f individual\n",
      "<Response [200]>\n",
      "surf/homme individual\n",
      "<Response [200]>\n",
      "cyclisme-sur-piste/madison-f individual\n",
      "<Response [200]>\n",
      "athletisme/relais-mixte-4x400m en équipe\n",
      "<Response [200]>\n",
      "lutte/libre-74kg-h individual\n",
      "<Response [200]>\n",
      "athletisme/decathlon-h individual\n",
      "<Response [200]>\n",
      "equitation/dressage-individuel en équipe\n",
      "<Response [200]>\n",
      "judo/78-kg-f individual\n",
      "<Response [200]>\n",
      "cyclisme-sur-piste/sprint-equipe-h en équipe\n",
      "<Response [200]>\n",
      "natation/relais-4x100m-nage-libre-h en équipe\n",
      "<Response [200]>\n",
      "cyclisme-sur-piste/poursuite-equipe-h en équipe\n",
      "<Response [200]>\n",
      "gymnastique-trampoline/femme individual\n",
      "<Response [200]>\n",
      "cyclisme-sur-piste/sprint-f individual\n",
      "<Response [200]>\n",
      "halterophilie/49kg-f individual\n",
      "<Response [200]>\n",
      "natation/1500m-nage-libre-f individual\n",
      "<Response [200]>\n",
      "voile/470-h individual\n",
      "<Response [200]>\n",
      "escalade/combine-f individual\n",
      "<Response [200]>\n",
      "halterophilie/59kg-f individual\n",
      "<Response [200]>\n",
      "natation/relais-4x200m-nage-libre-h en équipe\n",
      "<Response [200]>\n",
      "halterophilie/76kg-f individual\n",
      "<Response [200]>\n",
      "natation/200m-4-nages-individuel-h individual\n",
      "<Response [200]>\n",
      "lutte/libre-62kg-f individual\n",
      "<Response [200]>\n",
      "natation/100m-papillon-f individual\n",
      "<Response [200]>\n",
      "tir/pistolet-tir-rapide-25m-h individual\n",
      "<Response [200]>\n",
      "tir/skeet-h individual\n",
      "<Response [200]>\n",
      "natation/100m-dos-h individual\n",
      "<Response [200]>\n",
      "athletisme/3000m-steeple-h individual\n",
      "<Response [200]>\n",
      "judo/plus-de-78-kg-f individual\n",
      "<Response [200]>\n",
      "taekwondo/plus-de-67kg-f individual\n",
      "<Response [200]>\n",
      "cyclisme-sur-piste/omnium-h individual\n",
      "<Response [200]>\n",
      "natation/relais-4x100m-4-nages-mixte en équipe\n",
      "<Response [200]>\n",
      "natation/400m-nage-libre-h individual\n",
      "<Response [200]>\n",
      "aviron/deux-de-couple-poids-leger-f individual\n",
      "<Response [200]>\n",
      "cyclisme-sur-route/contre-la-montre-individuel-h individual\n",
      "<Response [200]>\n",
      "athletisme/relais-4x400m-f en équipe\n",
      "<Response [200]>\n",
      "equitation/saut-d-obstacles-individuel en équipe\n",
      "<Response [200]>\n",
      "golf/stroke-play-individuel-h individual\n",
      "<Response [200]>\n",
      "tir/pistolet-air-comprime-10m-h individual\n",
      "<Response [200]>\n",
      "gymnastique-artistique/equipe-f en équipe\n",
      "<Response [200]>\n",
      "athletisme/400m-haies-h individual\n",
      "<Response [200]>\n",
      "cyclisme-bmx-racing/femme individual\n",
      "<Response [200]>\n",
      "boxe/lourd-81-91kg-h individual\n",
      "<Response [200]>\n",
      "escrime/epee-individuel-h individual\n",
      "<Response [200]>\n",
      "cyclisme-sur-piste/keirin-h individual\n",
      "<Response [200]>\n",
      "boxe/welter-64-69kg-f individual\n",
      "<Response [200]>\n",
      "aviron/deux-de-couple-f individual\n",
      "<Response [200]>\n",
      "baseball-softball/baseball en équipe\n",
      "<Response [200]>\n",
      "equitation/saut-d-obstacles-equipe en équipe\n",
      "<Response [200]>\n",
      "athletisme/saut-en-hauteur-h individual\n",
      "<Response [200]>\n",
      "escrime/fleuret-equipe-f en équipe\n",
      "<Response [200]>\n",
      "athletisme/20km-marche-f individual\n",
      "<Response [200]>\n",
      "judo/57-kg-f individual\n",
      "<Response [200]>\n",
      "cyclisme-sur-route/course-sur-route-f individual\n",
      "<Response [200]>\n",
      "judo/90kg-h individual\n",
      "<Response [200]>\n",
      "voile/470-f individual\n",
      "<Response [200]>\n",
      "gymnastique-artistique/poutre-f individual\n",
      "<Response [200]>\n",
      "athletisme/saut-en-longueur-f individual\n",
      "<Response [200]>\n",
      "boxe/mouche-48-52kg-h individual\n",
      "<Response [200]>\n",
      "canoe-sprint/kayak-simple-1000m-h individual\n",
      "<Response [200]>\n",
      "tir/10m-carabine-air-femme individual\n",
      "<Response [200]>\n",
      "pentathlon-moderne/individuel-f individual\n",
      "<Response [200]>\n",
      "taekwondo/49kg-f individual\n",
      "<Response [200]>\n",
      "natation/1500m-nage-libre-h individual\n",
      "<Response [200]>\n",
      "athletisme/relais-4x100m-h en équipe\n",
      "<Response [200]>\n",
      "voile/finn-h individual\n",
      "<Response [200]>\n",
      "plongeon/tremplin-synchronise-3m-h individual\n",
      "<Response [200]>\n",
      "natation/relais-4x200m-nage-libre-f en équipe\n",
      "<Response [200]>\n",
      "lutte/greco-romaine-130kg-h individual\n",
      "<Response [200]>\n",
      "athletisme/heptathlon-f individual\n",
      "<Response [200]>\n",
      "lutte/libre-65kg-h individual\n",
      "<Response [200]>\n",
      "badminton/simple-h individual\n",
      "<Response [200]>\n",
      "natation/relais-4x100m-4-nages-f en équipe\n",
      "<Response [200]>\n",
      "lutte/libre-50kg-f individual\n",
      "<Response [200]>\n",
      "natation/400m-nage-libre-f individual\n",
      "<Response [200]>\n",
      "taekwondo/57kg-f individual\n",
      "<Response [200]>\n",
      "triathlon/relais-mixte en équipe\n",
      "<Response [200]>\n",
      "natation/50m-nage-libre-h individual\n",
      "<Response [200]>\n",
      "escrime/fleuret-equipe-h en équipe\n",
      "<Response [200]>\n",
      "canoe-sprint/canoe-simple-200m-f individual\n",
      "<Response [200]>\n",
      "aviron/deux-sans-barreur-f individual\n",
      "<Response [200]>\n",
      "lutte/libre-125kg-h individual\n",
      "<Response [200]>\n",
      "plongeon/tremplin-3m-f individual\n",
      "<Response [200]>\n",
      "judo/63kg-f individual\n",
      "<Response [200]>\n",
      "handball/homme en équipe\n",
      "<Response [200]>\n",
      "canoe-slalom/canoe-h individual\n",
      "<Response [200]>\n",
      "halterophilie/96kg-h individual\n",
      "<Response [200]>\n",
      "equitation/dressage-equipe en équipe\n",
      "<Response [200]>\n",
      "boxe/moyen-69-75kg-f individual\n",
      "<Response [200]>\n",
      "gymnastique-trampoline/homme individual\n",
      "<Response [200]>\n",
      "athletisme/lancer-du-disque-h individual\n",
      "<Response [200]>\n",
      "volleyball/homme en équipe\n",
      "<Response [200]>\n",
      "badminton/double-mixte individual\n",
      "<Response [200]>\n",
      "gymnastique-artistique/barres-paralleles-h individual\n",
      "<Response [200]>\n",
      "athletisme/400m-haies-f individual\n",
      "<Response [200]>\n",
      "natation/100m-nage-libre-f individual\n",
      "<Response [200]>\n",
      "gymnastique-artistique/sol-h individual\n",
      "<Response [200]>\n",
      "escrime/sabre-equipe-f en équipe\n",
      "<Response [200]>\n",
      "marathon-de-natation/10km-f individual\n",
      "<Response [200]>\n",
      "natation/200m-brasse-f individual\n",
      "<Response [200]>\n",
      "cyclisme-sur-piste/omnium-f individual\n",
      "<Response [200]>\n",
      "skateboard/street-h individual\n",
      "<Response [200]>\n",
      "aviron/quatre-de-couple-f en équipe\n",
      "<Response [200]>\n",
      "natation/100m-dos-f individual\n",
      "<Response [200]>\n",
      "natation/400m-4-nages-individuel-f individual\n",
      "<Response [200]>\n",
      "tir/trap-h individual\n",
      "<Response [200]>\n",
      "halterophilie/73kg-h individual\n",
      "<Response [200]>\n",
      "pentathlon-moderne/individuel-h individual\n",
      "<Response [200]>\n",
      "gymnastique-artistique/saut-de-cheval-f individual\n",
      "<Response [200]>\n",
      "water-polo/homme en équipe\n",
      "<Response [200]>\n",
      "athletisme/100m-h individual\n",
      "<Response [200]>\n",
      "skateboard/park-h individual\n",
      "<Response [200]>\n",
      "athletisme/5000m-h individual\n",
      "<Response [200]>\n",
      "gymnastique-rythmique/concours-general-individuel individual\n",
      "<Response [200]>\n",
      "tir/equipe-mixte-trap individual\n",
      "<Response [200]>\n",
      "athletisme/lancer-du-disque-f individual\n",
      "<Response [200]>\n",
      "canoe-slalom/canoe-f individual\n",
      "<Response [200]>\n",
      "taekwondo/67kg-f individual\n",
      "<Response [200]>\n",
      "basketball/femme en équipe\n",
      "<Response [200]>\n",
      "cyclisme-bmx-racing/homme individual\n",
      "<Response [200]>\n",
      "lutte/greco-romaine-67kg-h individual\n",
      "<Response [200]>\n",
      "cyclisme-sur-piste/sprint-h individual\n",
      "<Response [200]>\n",
      "canoe-sprint/kayak-quatre-500m-h en équipe\n",
      "<Response [200]>\n",
      "tir-a-l-arc/individuel-h individual\n",
      "<Response [200]>\n",
      "natation/200m-papillon-h individual\n",
      "<Response [200]>\n",
      "canoe-sprint/kayak-quatre-500m-f en équipe\n",
      "<Response [200]>\n",
      "athletisme/marathon-h individual\n",
      "<Response [200]>\n",
      "voile/laser-radial-f individual\n",
      "<Response [200]>\n",
      "halterophilie/55kg-f individual\n",
      "<Response [200]>\n",
      "tennis-de-table/equipe-h en équipe\n",
      "<Response [200]>\n",
      "natation/100m-papillon-h individual\n",
      "<Response [200]>\n",
      "athletisme/marathon-f individual\n",
      "<Response [200]>\n",
      "cyclisme-sur-piste/keirin-f individual\n",
      "<Response [200]>\n",
      "vtt/cross-country-f individual\n",
      "<Response [200]>\n",
      "plongeon/tremplin-synchronise-3m-f individual\n",
      "<Response [200]>\n",
      "athletisme/800m-f individual\n",
      "<Response [200]>\n",
      "gymnastique-artistique/barre-fixe-h individual\n",
      "<Response [200]>\n",
      "hockey-sur-gazon/homme en équipe\n",
      "<Response [200]>\n",
      "judo/66kg-h individual\n",
      "<Response [200]>\n",
      "equitation/concours-complet-d-equitation-individuel en équipe\n",
      "<Response [200]>\n",
      "boxe/moyen-69-75kg-h individual\n",
      "<Response [200]>\n",
      "triathlon/individuel-h individual\n",
      "<Response [200]>\n",
      "escrime/epee-individuel-f individual\n",
      "<Response [200]>\n",
      "natation/200m-brasse-h individual\n",
      "<Response [200]>\n",
      "tir/50m-carabine-3-positions-femme individual\n",
      "<Response [200]>\n",
      "tir-a-l-arc/equipe-h en équipe\n",
      "<Response [200]>\n",
      "voile/laser-h individual\n",
      "<Response [200]>\n",
      "tir/pistolet-25m-f individual\n",
      "<Response [200]>\n",
      "cyclisme-sur-piste/madison-h individual\n",
      "<Response [200]>\n",
      "gymnastique-artistique/equipe-h en équipe\n",
      "<Response [200]>\n",
      "aviron/skiff-h individual\n",
      "<Response [200]>\n",
      "lutte/greco-romaine-77kg-h individual\n",
      "<Response [200]>\n",
      "canoe-slalom/kayak-f individual\n",
      "<Response [200]>\n",
      "boxe/mi-lourd-75-81kg-h individual\n",
      "<Response [200]>\n",
      "cyclisme-bmx-freestyle/park-f individual\n",
      "<Response [200]>\n",
      "tir-a-l-arc/equipe-f en équipe\n",
      "<Response [200]>\n",
      "halterophilie/87kg-f individual\n",
      "<Response [200]>\n",
      "natation/200m-dos-h individual\n",
      "<Response [200]>\n",
      "tir/pistolet-air-comprime-10m-equipe-mixte individual\n",
      "<Response [200]>\n",
      "natation/200m-dos-f individual\n",
      "<Response [200]>\n",
      "canoe-sprint/kayak-simple-500m-f individual\n",
      "<Response [200]>\n",
      "taekwondo/68kg-h individual\n",
      "<Response [200]>\n",
      "judo/52kg-f individual\n",
      "<Response [200]>\n",
      "lutte/greco-romaine-60kg-h individual\n",
      "<Response [200]>\n",
      "voile/rs-x-f individual\n",
      "<Response [200]>\n",
      "athletisme/saut-en-hauteur-f individual\n",
      "<Response [200]>\n",
      "canoe-sprint/kayak-double-500m-f en équipe\n",
      "<Response [200]>\n",
      "basketball/homme en équipe\n",
      "<Response [200]>\n",
      "athletisme/lancer-du-javelot-f individual\n",
      "<Response [200]>\n",
      "voile/49er-h individual\n",
      "<Response [200]>\n",
      "natation/200m-nage-libre-h individual\n",
      "<Response [200]>\n",
      "basketball-3x3/femme en équipe\n",
      "<Response [200]>\n",
      "aviron/huit-f en équipe\n",
      "<Response [200]>\n",
      "lutte/libre-68kg-f individual\n",
      "<Response [200]>\n",
      "natation/200m-nage-libre-f individual\n",
      "<Response [200]>\n",
      "escrime/fleuret-individuel-h individual\n",
      "<Response [200]>\n",
      "athletisme/100m-haies-f individual\n",
      "<Response [200]>\n",
      "tir-a-l-arc/individuel-f individual\n",
      "<Response [200]>\n",
      "badminton/simple-f individual\n",
      "<Response [200]>\n",
      "boxe/welter-63-69kg-h individual\n",
      "<Response [200]>\n",
      "tennis/simple-h individual\n",
      "<Response [200]>\n",
      "lutte/greco-romaine-87kg-h individual\n",
      "<Response [200]>\n",
      "gymnastique-artistique/concours-general-f individual\n",
      "<Response [200]>\n",
      "tennis-de-table/simple-f individual\n",
      "<Response [200]>\n",
      "judo/100kg-h individual\n",
      "<Response [200]>\n",
      "plongeon/plateforme-synchronise-10m-f individual\n",
      "<Response [200]>\n",
      "taekwondo/plus-de-80kg-h individual\n",
      "<Response [200]>\n",
      "basketball-3x3/homme en équipe\n",
      "<Response [200]>\n",
      "plongeon/tremplin-3m-h individual\n",
      "<Response [200]>\n",
      "athletisme/1500m-f individual\n",
      "<Response [200]>\n",
      "athletisme/1500m-h individual\n",
      "<Response [200]>\n",
      "voile/nacra-17-mixte individual\n",
      "<Response [200]>\n",
      "rugby-a-7/femme en équipe\n",
      "<Response [200]>\n",
      "judo/plus-de-100kg-h individual\n",
      "<Response [200]>\n",
      "tennis/simple-f individual\n",
      "<Response [200]>\n",
      "gymnastique-artistique/barres-asymetriques-f individual\n",
      "<Response [200]>\n",
      "tennis/double-mixte individual\n",
      "<Response [200]>\n",
      "gymnastique-artistique/sol-f individual\n",
      "<Response [200]>\n",
      "volleyball-de-plage/femme individual\n",
      "<Response [200]>\n",
      "judo/70-kg-f individual\n",
      "<Response [200]>\n",
      "escrime/fleuret-individuel-f individual\n",
      "<Response [200]>\n",
      "athletisme/saut-en-longueur-h individual\n",
      "<Response [200]>\n",
      "escrime/epee-equipe-f en équipe\n",
      "<Response [200]>\n",
      "cyclisme-sur-piste/sprint-equipe-f individual\n",
      "<Response [200]>\n",
      "escrime/epee-equipe-h en équipe\n",
      "<Response [200]>\n",
      "natation/relais-4x100m-4-nages-h en équipe\n",
      "<Response [200]>\n",
      "taekwondo/80kg-h individual\n",
      "<Response [200]>\n",
      "volleyball/femme en équipe\n",
      "<Response [200]>\n",
      "water-polo/femme en équipe\n",
      "<Response [200]>\n",
      "canoe-sprint/kayak-double-1000m-h individual\n",
      "<Response [200]>\n",
      "volleyball-de-plage/homme individual\n",
      "<Response [200]>\n",
      "natation/400m-4-nages-individuel-h individual\n",
      "<Response [200]>\n",
      "boxe/plume-52-57kg-h individual\n",
      "<Response [200]>\n",
      "judo/73kg-h individual\n",
      "<Response [200]>\n",
      "halterophilie/109kg-h individual\n",
      "<Response [200]>\n",
      "canoe-sprint/canoe-double-500m-f individual\n",
      "<Response [200]>\n",
      "athletisme/200m-f individual\n",
      "<Response [200]>\n",
      "baseball-softball/softball en équipe\n",
      "<Response [200]>\n",
      "judo/equipe-mixte en équipe\n",
      "<Response [200]>\n",
      "tir/carabine-air-comprime-10m-h individual\n",
      "<Response [200]>\n",
      "escrime/sabre-individuel-h individual\n",
      "<Response [200]>\n",
      "lutte/libre-97kg-h individual\n",
      "<Response [200]>\n",
      "lutte/libre-57kg-h individual\n",
      "<Response [200]>\n",
      "tir-a-l-arc/equipe-mixte individual\n",
      "<Response [200]>\n",
      "athletisme/110m-haies-h individual\n",
      "<Response [200]>\n",
      "boxe/mouche-48-51kg-f individual\n",
      "<Response [200]>\n",
      "taekwondo/58kg-h individual\n",
      "<Response [200]>\n",
      "aviron/quatre-sans-barreur-f en équipe\n",
      "<Response [200]>\n",
      "gymnastique-rythmique/concours-general-groupe en équipe\n",
      "<Response [200]>\n",
      "lutte/libre-76kg-f individual\n",
      "<Response [200]>\n",
      "gymnastique-artistique/concours-general-h individual\n",
      "<Response [200]>\n",
      "natation/100m-brasse-h individual\n",
      "<Response [200]>\n",
      "gymnastique-artistique/anneaux-h individual\n",
      "<Response [200]>\n",
      "tir/10m-pistolet-air-femme individual\n",
      "<Response [200]>\n",
      "boxe/plume-54-57kg-f individual\n",
      "<Response [200]>\n",
      "athletisme/triple-saut-h individual\n",
      "<Response [200]>\n",
      "handball/femme en équipe\n",
      "<Response [200]>\n",
      "karate/kumite-55kg-f individual\n",
      "<Response [200]>\n",
      "athletisme/saut-a-la-perche-h individual\n",
      "<Response [200]>\n",
      "boxe/leger-57-60kg-f individual\n",
      "<Response [200]>\n",
      "natation/100m-brasse-f individual\n",
      "<Response [200]>\n",
      "athletisme/100m-f individual\n",
      "<Response [200]>\n",
      "tir/skeet-femme individual\n",
      "<Response [200]>\n",
      "cyclisme-sur-route/contre-la-montre-individuel-f individual\n",
      "<Response [200]>\n",
      "tennis-de-table/double-mixte individual\n",
      "<Response [200]>\n",
      "canoe-sprint/kayak-simple-200m-f individual\n",
      "<Response [200]>\n",
      "cyclisme-sur-route/course-sur-route-h individual\n",
      "<Response [200]>\n",
      "plongeon/plateforme-synchronise-10m-h individual\n",
      "<Response [200]>\n",
      "boxe/super-lourd-plus-de-91kg-h individual\n",
      "<Response [200]>\n",
      "football/homme en équipe\n",
      "<Response [200]>\n",
      "athletisme/50km-marche-h individual\n",
      "<Response [200]>\n",
      "athletisme/10000m-h individual\n",
      "<Response [200]>\n",
      "equitation/concours-complet-d-equitation-equipe en équipe\n",
      "<Response [200]>\n",
      "tennis/double-f en équipe\n",
      "<Response [200]>\n",
      "halterophilie/81kg-h individual\n",
      "<Response [200]>\n",
      "athletisme/400m-h individual\n",
      "<Response [200]>\n",
      "aviron/deux-de-couple-h individual\n",
      "<Response [200]>\n",
      "tir/carabine-50m-3-positions-h individual\n",
      "<Response [200]>\n",
      "athletisme/800m-h individual\n",
      "<Response [200]>\n",
      "rugby-a-7/homme en équipe\n",
      "<Response [200]>\n",
      "natation/relais-4x100m-nage-libre-f en équipe\n",
      "<Response [200]>\n",
      "natation/100m-nage-libre-h individual\n",
      "<Response [200]>\n",
      "aviron/huit-h en équipe\n",
      "<Response [200]>\n",
      "athletisme/20km-marche-h individual\n",
      "<Response [200]>\n",
      "natation/800m-nage-libre-f individual\n",
      "<Response [200]>\n",
      "halterophilie/67kg-h individual\n",
      "<Response [200]>\n",
      "marathon-de-natation/10km-h individual\n",
      "<Response [200]>\n",
      "karate/kumite-61kg-f individual\n",
      "<Response [200]>\n",
      "tennis/double-h en équipe\n",
      "<Response [200]>\n",
      "tennis-de-table/simple-h individual\n",
      "<Response [200]>\n",
      "canoe-sprint/canoe-simple-1000m-h individual\n",
      "<Response [200]>\n",
      "triathlon/individuel-f individual\n",
      "<Response [200]>\n",
      "gymnastique-artistique/cheval-d-arcons-h individual\n",
      "<Response [200]>\n",
      "natation/50m-nage-libre-f individual\n",
      "<Response [200]>\n",
      "badminton/double-f individual\n",
      "<Response [200]>\n",
      "canoe-sprint/kayak-simple-200m-h individual\n",
      "<Response [200]>\n",
      "tir/carabine-air-comprime-10m-equipe-mixte en équipe\n",
      "<Response [200]>\n",
      "natation/800m-nage-libre-h individual\n",
      "<Response [200]>\n",
      "natation/200m-papillon-f individual\n",
      "<Response [200]>\n",
      "karate/kumite-67kg-h individual\n",
      "<Response [200]>\n",
      "athletisme/relais-4x100m-f en équipe\n",
      "<Response [200]>\n",
      "karate/kumite-plus-de-75kg-h individual\n",
      "<Response [200]>\n",
      "badminton/double-h individual\n",
      "<Response [200]>\n",
      "karate/kata-h individual\n",
      "<Response [200]>\n",
      "gymnastique-artistique/saut-de-cheval-h individual\n",
      "<Response [200]>\n",
      "tir/trap-femme individual\n",
      "<Response [200]>\n",
      "athletisme/lancer-du-marteau-h individual\n",
      "<Response [200]>\n",
      "karate/kumite-plus-de-61kg-f individual\n",
      "('boxe/leger-57-63kg-h', 0)\n",
      "('canoe-slalom/kayak-h', 0)\n",
      "('voile/rs-x-h', 0)\n",
      "('judo/81kg-h', 0)\n",
      "('cyclisme-bmx-freestyle/park-h', 0)\n",
      "('athletisme/lancer-du-poids-h', 0)\n",
      "('athletisme/200m-h', 0)\n",
      "('halterophilie/61kg-h', 0)\n",
      "('judo/48kg-f', 0)\n",
      "('halterophilie/plus-de-87kg-f', 0)\n",
      "('halterophilie/64kg-f', 0)\n",
      "('football/femme', 1)\n",
      "('athletisme/lancer-du-javelot-h', 0)\n",
      "('lutte/libre-53kg-f', 0)\n",
      "('vtt/cross-country-h', 0)\n",
      "('judo/60kg-h', 0)\n",
      "('lutte/libre-57kg-f', 0)\n",
      "('escrime/sabre-equipe-h', 1)\n",
      "('athletisme/relais-4x400m-h', 1)\n",
      "('escalade/combine-h', 0)\n",
      "('lutte/libre-86kg-h', 0)\n",
      "('plongeon/plateforme-10m-f', 0)\n",
      "('athletisme/lancer-du-poids-f', 0)\n",
      "('aviron/deux-de-couple-poids-legers-h', 0)\n",
      "('natation-artistique/equipe', 1)\n",
      "('skateboard/park-f', 0)\n",
      "('cyclisme-sur-piste/poursuite-equipe-f', 1)\n",
      "('skateboard/street-f', 0)\n",
      "('athletisme/3000m-steeple-f', 0)\n",
      "('aviron/deux-sans-barreur-h', 1)\n",
      "('athletisme/lancer-du-marteau-f', 0)\n",
      "('voile/49er-fx-f', 0)\n",
      "('natation/200m-4-nages-individuel-f', 0)\n",
      "('natation-artistique/duo', 0)\n",
      "('athletisme/10000m-f', 0)\n",
      "('golf/stroke-play-individuel-f', 0)\n",
      "('hockey-sur-gazon/femme', 1)\n",
      "('plongeon/plateforme-10m-h', 0)\n",
      "('aviron/quatre-de-couple-h', 1)\n",
      "('canoe-sprint/canoe-double-1000m-h', 0)\n",
      "('aviron/quatre-sans-barreur-h', 1)\n",
      "('halterophilie/plus-de-109kg-h', 0)\n",
      "('escrime/sabre-individuel-f', 0)\n",
      "('tennis-de-table/equipe-f', 1)\n",
      "('karate/kumite-75kg-h', 0)\n",
      "('athletisme/saut-a-la-perche-f', 0)\n",
      "('surf/femme', 0)\n",
      "('athletisme/5000m-f', 0)\n",
      "('athletisme/triple-saut-f', 0)\n",
      "('lutte/greco-romaine-97kg-h', 0)\n",
      "('karate/kata-f', 0)\n",
      "('aviron/skiff-f', 0)\n",
      "('surf/homme', 0)\n",
      "('cyclisme-sur-piste/madison-f', 0)\n",
      "('athletisme/relais-mixte-4x400m', 1)\n",
      "('lutte/libre-74kg-h', 0)\n",
      "('athletisme/decathlon-h', 0)\n",
      "('equitation/dressage-individuel', 1)\n",
      "('judo/78-kg-f', 0)\n",
      "('cyclisme-sur-piste/sprint-equipe-h', 1)\n",
      "('natation/relais-4x100m-nage-libre-h', 1)\n",
      "('cyclisme-sur-piste/poursuite-equipe-h', 1)\n",
      "('gymnastique-trampoline/femme', 0)\n",
      "('cyclisme-sur-piste/sprint-f', 0)\n",
      "('halterophilie/49kg-f', 0)\n",
      "('natation/1500m-nage-libre-f', 0)\n",
      "('voile/470-h', 0)\n",
      "('escalade/combine-f', 0)\n",
      "('halterophilie/59kg-f', 0)\n",
      "('natation/relais-4x200m-nage-libre-h', 1)\n",
      "('halterophilie/76kg-f', 0)\n",
      "('natation/200m-4-nages-individuel-h', 0)\n",
      "('lutte/libre-62kg-f', 0)\n",
      "('natation/100m-papillon-f', 0)\n",
      "('tir/pistolet-tir-rapide-25m-h', 0)\n",
      "('tir/skeet-h', 0)\n",
      "('natation/100m-dos-h', 0)\n",
      "('athletisme/3000m-steeple-h', 0)\n",
      "('judo/plus-de-78-kg-f', 0)\n",
      "('taekwondo/plus-de-67kg-f', 0)\n",
      "('cyclisme-sur-piste/omnium-h', 0)\n",
      "('natation/relais-4x100m-4-nages-mixte', 1)\n",
      "('natation/400m-nage-libre-h', 0)\n",
      "('aviron/deux-de-couple-poids-leger-f', 0)\n",
      "('cyclisme-sur-route/contre-la-montre-individuel-h', 0)\n",
      "('athletisme/relais-4x400m-f', 1)\n",
      "('equitation/saut-d-obstacles-individuel', 1)\n",
      "('golf/stroke-play-individuel-h', 0)\n",
      "('tir/pistolet-air-comprime-10m-h', 0)\n",
      "('gymnastique-artistique/equipe-f', 1)\n",
      "('athletisme/400m-haies-h', 0)\n",
      "('cyclisme-bmx-racing/femme', 0)\n",
      "('boxe/lourd-81-91kg-h', 0)\n",
      "('escrime/epee-individuel-h', 0)\n",
      "('cyclisme-sur-piste/keirin-h', 0)\n",
      "('boxe/welter-64-69kg-f', 0)\n",
      "('aviron/deux-de-couple-f', 0)\n",
      "('baseball-softball/baseball', 1)\n",
      "('equitation/saut-d-obstacles-equipe', 1)\n",
      "('athletisme/saut-en-hauteur-h', 0)\n",
      "('escrime/fleuret-equipe-f', 1)\n",
      "('athletisme/20km-marche-f', 0)\n",
      "('judo/57-kg-f', 0)\n",
      "('cyclisme-sur-route/course-sur-route-f', 0)\n",
      "('judo/90kg-h', 0)\n",
      "('voile/470-f', 0)\n",
      "('gymnastique-artistique/poutre-f', 0)\n",
      "('athletisme/saut-en-longueur-f', 0)\n",
      "('boxe/mouche-48-52kg-h', 0)\n",
      "('canoe-sprint/kayak-simple-1000m-h', 0)\n",
      "('tir/10m-carabine-air-femme', 0)\n",
      "('pentathlon-moderne/individuel-f', 0)\n",
      "('taekwondo/49kg-f', 0)\n",
      "('natation/1500m-nage-libre-h', 0)\n",
      "('athletisme/relais-4x100m-h', 1)\n",
      "('voile/finn-h', 0)\n",
      "('plongeon/tremplin-synchronise-3m-h', 0)\n",
      "('natation/relais-4x200m-nage-libre-f', 1)\n",
      "('lutte/greco-romaine-130kg-h', 0)\n",
      "('athletisme/heptathlon-f', 0)\n",
      "('lutte/libre-65kg-h', 0)\n",
      "('badminton/simple-h', 0)\n",
      "('natation/relais-4x100m-4-nages-f', 1)\n",
      "('lutte/libre-50kg-f', 0)\n",
      "('natation/400m-nage-libre-f', 0)\n",
      "('taekwondo/57kg-f', 0)\n",
      "('triathlon/relais-mixte', 1)\n",
      "('natation/50m-nage-libre-h', 0)\n",
      "('escrime/fleuret-equipe-h', 1)\n",
      "('canoe-sprint/canoe-simple-200m-f', 0)\n",
      "('aviron/deux-sans-barreur-f', 0)\n",
      "('lutte/libre-125kg-h', 0)\n",
      "('plongeon/tremplin-3m-f', 0)\n",
      "('judo/63kg-f', 0)\n",
      "('handball/homme', 1)\n",
      "('canoe-slalom/canoe-h', 0)\n",
      "('halterophilie/96kg-h', 0)\n",
      "('equitation/dressage-equipe', 1)\n",
      "('boxe/moyen-69-75kg-f', 0)\n",
      "('gymnastique-trampoline/homme', 0)\n",
      "('athletisme/lancer-du-disque-h', 0)\n",
      "('volleyball/homme', 1)\n",
      "('badminton/double-mixte', 0)\n",
      "('gymnastique-artistique/barres-paralleles-h', 0)\n",
      "('athletisme/400m-haies-f', 0)\n",
      "('natation/100m-nage-libre-f', 0)\n",
      "('gymnastique-artistique/sol-h', 0)\n",
      "('escrime/sabre-equipe-f', 1)\n",
      "('marathon-de-natation/10km-f', 0)\n",
      "('natation/200m-brasse-f', 0)\n",
      "('cyclisme-sur-piste/omnium-f', 0)\n",
      "('skateboard/street-h', 0)\n",
      "('aviron/quatre-de-couple-f', 1)\n",
      "('natation/100m-dos-f', 0)\n",
      "('natation/400m-4-nages-individuel-f', 0)\n",
      "('tir/trap-h', 0)\n",
      "('halterophilie/73kg-h', 0)\n",
      "('pentathlon-moderne/individuel-h', 0)\n",
      "('gymnastique-artistique/saut-de-cheval-f', 0)\n",
      "('water-polo/homme', 1)\n",
      "('athletisme/100m-h', 0)\n",
      "('skateboard/park-h', 0)\n",
      "('athletisme/5000m-h', 0)\n",
      "('gymnastique-rythmique/concours-general-individuel', 0)\n",
      "('tir/equipe-mixte-trap', 0)\n",
      "('athletisme/lancer-du-disque-f', 0)\n",
      "('canoe-slalom/canoe-f', 0)\n",
      "('taekwondo/67kg-f', 0)\n",
      "('basketball/femme', 1)\n",
      "('cyclisme-bmx-racing/homme', 0)\n",
      "('lutte/greco-romaine-67kg-h', 0)\n",
      "('cyclisme-sur-piste/sprint-h', 0)\n",
      "('canoe-sprint/kayak-quatre-500m-h', 1)\n",
      "('tir-a-l-arc/individuel-h', 0)\n",
      "('natation/200m-papillon-h', 0)\n",
      "('canoe-sprint/kayak-quatre-500m-f', 1)\n",
      "('athletisme/marathon-h', 0)\n",
      "('voile/laser-radial-f', 0)\n",
      "('halterophilie/55kg-f', 0)\n",
      "('tennis-de-table/equipe-h', 1)\n",
      "('natation/100m-papillon-h', 0)\n",
      "('athletisme/marathon-f', 0)\n",
      "('cyclisme-sur-piste/keirin-f', 0)\n",
      "('vtt/cross-country-f', 0)\n",
      "('plongeon/tremplin-synchronise-3m-f', 0)\n",
      "('athletisme/800m-f', 0)\n",
      "('gymnastique-artistique/barre-fixe-h', 0)\n",
      "('hockey-sur-gazon/homme', 1)\n",
      "('judo/66kg-h', 0)\n",
      "('equitation/concours-complet-d-equitation-individuel', 1)\n",
      "('boxe/moyen-69-75kg-h', 0)\n",
      "('triathlon/individuel-h', 0)\n",
      "('escrime/epee-individuel-f', 0)\n",
      "('natation/200m-brasse-h', 0)\n",
      "('tir/50m-carabine-3-positions-femme', 0)\n",
      "('tir-a-l-arc/equipe-h', 1)\n",
      "('voile/laser-h', 0)\n",
      "('tir/pistolet-25m-f', 0)\n",
      "('cyclisme-sur-piste/madison-h', 0)\n",
      "('gymnastique-artistique/equipe-h', 1)\n",
      "('aviron/skiff-h', 0)\n",
      "('lutte/greco-romaine-77kg-h', 0)\n",
      "('canoe-slalom/kayak-f', 0)\n",
      "('boxe/mi-lourd-75-81kg-h', 0)\n",
      "('cyclisme-bmx-freestyle/park-f', 0)\n",
      "('tir-a-l-arc/equipe-f', 1)\n",
      "('halterophilie/87kg-f', 0)\n",
      "('natation/200m-dos-h', 0)\n",
      "('tir/pistolet-air-comprime-10m-equipe-mixte', 0)\n",
      "('natation/200m-dos-f', 0)\n",
      "('canoe-sprint/kayak-simple-500m-f', 0)\n",
      "('taekwondo/68kg-h', 0)\n",
      "('judo/52kg-f', 0)\n",
      "('lutte/greco-romaine-60kg-h', 0)\n",
      "('voile/rs-x-f', 0)\n",
      "('athletisme/saut-en-hauteur-f', 0)\n",
      "('canoe-sprint/kayak-double-500m-f', 1)\n",
      "('basketball/homme', 1)\n",
      "('athletisme/lancer-du-javelot-f', 0)\n",
      "('voile/49er-h', 0)\n",
      "('natation/200m-nage-libre-h', 0)\n",
      "('basketball-3x3/femme', 1)\n",
      "('aviron/huit-f', 1)\n",
      "('lutte/libre-68kg-f', 0)\n",
      "('natation/200m-nage-libre-f', 0)\n",
      "('escrime/fleuret-individuel-h', 0)\n",
      "('athletisme/100m-haies-f', 0)\n",
      "('tir-a-l-arc/individuel-f', 0)\n",
      "('badminton/simple-f', 0)\n",
      "('boxe/welter-63-69kg-h', 0)\n",
      "('tennis/simple-h', 0)\n",
      "('lutte/greco-romaine-87kg-h', 0)\n",
      "('gymnastique-artistique/concours-general-f', 0)\n",
      "('tennis-de-table/simple-f', 0)\n",
      "('judo/100kg-h', 0)\n",
      "('plongeon/plateforme-synchronise-10m-f', 0)\n",
      "('taekwondo/plus-de-80kg-h', 0)\n",
      "('basketball-3x3/homme', 1)\n",
      "('plongeon/tremplin-3m-h', 0)\n",
      "('athletisme/1500m-f', 0)\n",
      "('athletisme/1500m-h', 0)\n",
      "('voile/nacra-17-mixte', 0)\n",
      "('rugby-a-7/femme', 1)\n",
      "('judo/plus-de-100kg-h', 0)\n",
      "('tennis/simple-f', 0)\n",
      "('gymnastique-artistique/barres-asymetriques-f', 0)\n",
      "('tennis/double-mixte', 0)\n",
      "('gymnastique-artistique/sol-f', 0)\n",
      "('volleyball-de-plage/femme', 0)\n",
      "('judo/70-kg-f', 0)\n",
      "('escrime/fleuret-individuel-f', 0)\n",
      "('athletisme/saut-en-longueur-h', 0)\n",
      "('escrime/epee-equipe-f', 1)\n",
      "('cyclisme-sur-piste/sprint-equipe-f', 0)\n",
      "('escrime/epee-equipe-h', 1)\n",
      "('natation/relais-4x100m-4-nages-h', 1)\n",
      "('taekwondo/80kg-h', 0)\n",
      "('volleyball/femme', 1)\n",
      "('water-polo/femme', 1)\n",
      "('canoe-sprint/kayak-double-1000m-h', 0)\n",
      "('volleyball-de-plage/homme', 0)\n",
      "('natation/400m-4-nages-individuel-h', 0)\n",
      "('boxe/plume-52-57kg-h', 0)\n",
      "('judo/73kg-h', 0)\n",
      "('halterophilie/109kg-h', 0)\n",
      "('canoe-sprint/canoe-double-500m-f', 0)\n",
      "('athletisme/200m-f', 0)\n",
      "('baseball-softball/softball', 1)\n",
      "('judo/equipe-mixte', 1)\n",
      "('tir/carabine-air-comprime-10m-h', 0)\n",
      "('escrime/sabre-individuel-h', 0)\n",
      "('lutte/libre-97kg-h', 0)\n",
      "('lutte/libre-57kg-h', 0)\n",
      "('tir-a-l-arc/equipe-mixte', 0)\n",
      "('athletisme/110m-haies-h', 0)\n",
      "('boxe/mouche-48-51kg-f', 0)\n",
      "('taekwondo/58kg-h', 0)\n",
      "('aviron/quatre-sans-barreur-f', 1)\n",
      "('gymnastique-rythmique/concours-general-groupe', 1)\n",
      "('lutte/libre-76kg-f', 0)\n",
      "('gymnastique-artistique/concours-general-h', 0)\n",
      "('natation/100m-brasse-h', 0)\n",
      "('gymnastique-artistique/anneaux-h', 0)\n",
      "('tir/10m-pistolet-air-femme', 0)\n",
      "('boxe/plume-54-57kg-f', 0)\n",
      "('athletisme/triple-saut-h', 0)\n",
      "('handball/femme', 1)\n",
      "('karate/kumite-55kg-f', 0)\n",
      "('athletisme/saut-a-la-perche-h', 0)\n",
      "('boxe/leger-57-60kg-f', 0)\n",
      "('natation/100m-brasse-f', 0)\n",
      "('athletisme/100m-f', 0)\n",
      "('tir/skeet-femme', 0)\n",
      "('cyclisme-sur-route/contre-la-montre-individuel-f', 0)\n",
      "('tennis-de-table/double-mixte', 0)\n",
      "('canoe-sprint/kayak-simple-200m-f', 0)\n",
      "('cyclisme-sur-route/course-sur-route-h', 0)\n",
      "('plongeon/plateforme-synchronise-10m-h', 0)\n",
      "('boxe/super-lourd-plus-de-91kg-h', 0)\n",
      "('football/homme', 1)\n",
      "('athletisme/50km-marche-h', 0)\n",
      "('athletisme/10000m-h', 0)\n",
      "('equitation/concours-complet-d-equitation-equipe', 1)\n",
      "('tennis/double-f', 1)\n",
      "('halterophilie/81kg-h', 0)\n",
      "('athletisme/400m-h', 0)\n",
      "('aviron/deux-de-couple-h', 0)\n",
      "('tir/carabine-50m-3-positions-h', 0)\n",
      "('athletisme/800m-h', 0)\n",
      "('rugby-a-7/homme', 1)\n",
      "('natation/relais-4x100m-nage-libre-f', 1)\n",
      "('natation/100m-nage-libre-h', 0)\n",
      "('aviron/huit-h', 1)\n",
      "('athletisme/20km-marche-h', 0)\n",
      "('natation/800m-nage-libre-f', 0)\n",
      "('halterophilie/67kg-h', 0)\n",
      "('marathon-de-natation/10km-h', 0)\n",
      "('karate/kumite-61kg-f', 0)\n",
      "('tennis/double-h', 1)\n",
      "('tennis-de-table/simple-h', 0)\n",
      "('canoe-sprint/canoe-simple-1000m-h', 0)\n",
      "('triathlon/individuel-f', 0)\n",
      "('gymnastique-artistique/cheval-d-arcons-h', 0)\n",
      "('natation/50m-nage-libre-f', 0)\n",
      "('badminton/double-f', 0)\n",
      "('canoe-sprint/kayak-simple-200m-h', 0)\n",
      "('tir/carabine-air-comprime-10m-equipe-mixte', 1)\n",
      "('natation/800m-nage-libre-h', 0)\n",
      "('natation/200m-papillon-f', 0)\n",
      "('karate/kumite-67kg-h', 0)\n",
      "('athletisme/relais-4x100m-f', 1)\n",
      "('karate/kumite-plus-de-75kg-h', 0)\n",
      "('badminton/double-h', 0)\n",
      "('karate/kata-h', 0)\n",
      "('gymnastique-artistique/saut-de-cheval-h', 0)\n",
      "('tir/trap-femme', 0)\n",
      "('athletisme/lancer-du-marteau-h', 0)\n",
      "('karate/kumite-plus-de-61kg-f', 0)\n"
     ]
    }
   ],
   "source": [
    "list_path_correct=list(set(list_path_correct))\n",
    "print(len(list_path_correct))\n",
    "\n",
    "\n",
    "liste_epreuve_team=[]\n",
    "\n",
    "for epv in list_path_correct:\n",
    "    session = HTMLSession()\n",
    "    url=\"https://olympics.com/fr/olympic-games/tokyo-2020/results/\" +epv\n",
    "    resp = session.get(url)\n",
    "    print(resp)\n",
    "    string2=resp.html.html\n",
    "    soup = BeautifulSoup(string2, 'html.parser')\n",
    "    name_nodes = soup.find_all('h3', class_=\"styles__AthleteName-sc-1yhe77y-3 jkTgwS\")\n",
    "    \n",
    "    if(len(name_nodes)==0):\n",
    "        liste_epreuve_team.append((epv,1))# sport en équipe\n",
    "        print(epv,\"en équipe\")\n",
    "    else:\n",
    "        liste_epreuve_team.append((epv,0))#sport individuel\n",
    "        print(epv,\"individual\")\n",
    "for e in liste_epreuve_team:\n",
    "    print(e)"
   ]
  },
  {
   "cell_type": "code",
   "execution_count": 58,
   "metadata": {},
   "outputs": [
    {
     "name": "stderr",
     "output_type": "stream",
     "text": [
      "  0%|          | 0/338 [00:00<?, ?it/s]"
     ]
    },
    {
     "name": "stdout",
     "output_type": "stream",
     "text": [
      "Scrapping:judo/100kg-h\n"
     ]
    },
    {
     "name": "stderr",
     "output_type": "stream",
     "text": [
      "  1%|          | 2/338 [00:00<01:34,  3.55it/s]"
     ]
    },
    {
     "name": "stdout",
     "output_type": "stream",
     "text": [
      "1\n",
      "1\n",
      "2\n",
      "cas individuel\n",
      "['Gold', 'Silver', 'Bronze', 'Bronze', 'NA', 'NA', 'NA', 'NA', 'NA', 'NA', 'NA', 'NA', 'NA', 'NA', 'NA', 'NA', 'NA', 'NA', 'NA', 'NA', 'NA', 'NA', 'NA', 'NA', 'NA']\n",
      "Name: 25\n",
      "Medaille 25\n",
      "Pays 25\n",
      "Resultat 25\n",
      "Sport 25\n",
      "Epreuve 25\n",
      "Position 25\n",
      "Scrapping:natation/200m-brasse-h\n",
      "1\n",
      "1\n",
      "1\n",
      "cas individuel\n",
      "['Gold', 'Silver', 'Bronze', 'NA', 'NA', 'NA', 'NA', 'NA']\n",
      "Name: 33\n",
      "Medaille 33\n",
      "Pays 33\n",
      "Resultat 33\n",
      "Sport 33\n",
      "Epreuve 33\n",
      "Position 33\n",
      "Scrapping:aviron/skiff-f\n"
     ]
    },
    {
     "name": "stderr",
     "output_type": "stream",
     "text": [
      "  1%|          | 3/338 [00:01<01:52,  2.98it/s]"
     ]
    },
    {
     "name": "stdout",
     "output_type": "stream",
     "text": [
      "1\n",
      "1\n",
      "1\n",
      "cas individuel\n",
      "['Gold', 'Silver', 'Bronze', 'NA', 'NA', 'NA', 'NA', 'NA', 'NA', 'NA', 'NA', 'NA', 'NA', 'NA', 'NA', 'NA', 'NA', 'NA', 'NA', 'NA', 'NA', 'NA', 'NA', 'NA', 'NA', 'NA', 'NA', 'NA', 'NA', 'NA', 'NA', 'NA']\n",
      "Name: 65\n",
      "Medaille 65\n",
      "Pays 65\n",
      "Resultat 65\n",
      "Sport 65\n",
      "Epreuve 65\n",
      "Position 65\n",
      "Scrapping:halterophilie/67kg-h\n",
      "1\n",
      "1\n",
      "1\n",
      "cas individuel\n",
      "['Gold', 'Silver', 'Bronze', 'NA', 'NA', 'NA', 'NA', 'NA', 'NA', 'NA', 'NA', 'NA', 'NA', 'NA']\n",
      "Name: 79\n",
      "Medaille 79\n",
      "Pays 79\n",
      "Resultat 79\n",
      "Sport 79\n",
      "Epreuve 79\n",
      "Position 79\n"
     ]
    },
    {
     "name": "stderr",
     "output_type": "stream",
     "text": [
      "  2%|▏         | 6/338 [00:01<01:01,  5.39it/s]"
     ]
    },
    {
     "name": "stdout",
     "output_type": "stream",
     "text": [
      "Scrapping:natation/400m-nage-libre-f\n",
      "1\n",
      "1\n",
      "1\n",
      "cas individuel\n",
      "['Gold', 'Silver', 'Bronze', 'NA', 'NA', 'NA', 'NA', 'NA']\n",
      "Name: 87\n",
      "Medaille 87\n",
      "Pays 87\n",
      "Resultat 87\n",
      "Sport 87\n",
      "Epreuve 87\n",
      "Position 87\n",
      "Scrapping:skateboard/street-h\n"
     ]
    },
    {
     "name": "stderr",
     "output_type": "stream",
     "text": [
      "  2%|▏         | 7/338 [00:01<00:59,  5.58it/s]"
     ]
    },
    {
     "name": "stdout",
     "output_type": "stream",
     "text": [
      "1\n",
      "1\n",
      "1\n",
      "cas individuel\n",
      "['Gold', 'Silver', 'Bronze', 'NA', 'NA', 'NA', 'NA', 'NA', 'NA', 'NA', 'NA', 'NA', 'NA', 'NA', 'NA', 'NA', 'NA', 'NA', 'NA', 'NA']\n",
      "Name: 107\n",
      "Medaille 107\n",
      "Pays 107\n",
      "Resultat 107\n",
      "Sport 107\n",
      "Epreuve 107\n",
      "Position 107\n",
      "Scrapping:canoe-sprint/kayak-simple-200m-f\n"
     ]
    },
    {
     "name": "stderr",
     "output_type": "stream",
     "text": [
      "  3%|▎         | 10/338 [00:01<00:43,  7.53it/s]"
     ]
    },
    {
     "name": "stdout",
     "output_type": "stream",
     "text": [
      "1\n",
      "1\n",
      "1\n",
      "cas individuel\n",
      "['Gold', 'Silver', 'Bronze', 'NA', 'NA', 'NA', 'NA', 'NA', 'NA', 'NA', 'NA', 'NA', 'NA', 'NA', 'NA', 'NA', 'NA', 'NA', 'NA', 'NA', 'NA', 'NA', 'NA', 'NA', 'NA', 'NA', 'NA', 'NA', 'NA', 'NA', 'NA', 'NA', 'NA', 'NA']\n",
      "Name: 141\n",
      "Medaille 141\n",
      "Pays 141\n",
      "Resultat 141\n",
      "Sport 141\n",
      "Epreuve 141\n",
      "Position 141\n",
      "Scrapping:escrime/fleuret-individuel-f\n"
     ]
    },
    {
     "name": "stderr",
     "output_type": "stream",
     "text": [
      "  4%|▎         | 12/338 [00:02<01:04,  5.05it/s]"
     ]
    },
    {
     "name": "stdout",
     "output_type": "stream",
     "text": [
      "1\n",
      "1\n",
      "1\n",
      "cas individuel\n",
      "['Gold', 'Silver', 'Bronze', 'NA', 'NA', 'NA', 'NA', 'NA', 'NA', 'NA', 'NA', 'NA', 'NA', 'NA', 'NA', 'NA', 'NA', 'NA', 'NA', 'NA', 'NA', 'NA', 'NA', 'NA', 'NA', 'NA', 'NA', 'NA', 'NA', 'NA', 'NA', 'NA', 'NA', 'NA']\n",
      "Name: 175\n",
      "Medaille 175\n",
      "Pays 175\n",
      "Resultat 175\n",
      "Sport 175\n",
      "Epreuve 175\n",
      "Position 175\n",
      "Scrapping:tir/pistolet-tir-rapide-25m-h\n",
      "1\n",
      "1\n",
      "1\n",
      "cas individuel\n",
      "['Gold', 'Silver', 'Bronze', 'NA', 'NA', 'NA', 'NA', 'NA', 'NA', 'NA', 'NA', 'NA', 'NA', 'NA', 'NA', 'NA', 'NA', 'NA', 'NA', 'NA', 'NA', 'NA', 'NA', 'NA', 'NA', 'NA', 'NA']\n",
      "Name: 202\n",
      "Medaille 202\n",
      "Pays 202\n",
      "Resultat 202\n",
      "Sport 202\n",
      "Epreuve 202\n",
      "Position 202\n",
      "Scrapping:canoe-slalom/kayak-h\n"
     ]
    },
    {
     "name": "stderr",
     "output_type": "stream",
     "text": [
      "  4%|▍         | 13/338 [00:02<01:11,  4.52it/s]"
     ]
    },
    {
     "name": "stdout",
     "output_type": "stream",
     "text": [
      "1\n",
      "1\n",
      "1\n",
      "cas individuel\n",
      "['Gold', 'Silver', 'Bronze', 'NA', 'NA', 'NA', 'NA', 'NA', 'NA', 'NA', 'NA', 'NA', 'NA', 'NA', 'NA', 'NA', 'NA', 'NA', 'NA', 'NA', 'NA', 'NA', 'NA', 'NA']\n",
      "Name: 226\n",
      "Medaille 226\n",
      "Pays 226\n",
      "Resultat 226\n",
      "Sport 226\n",
      "Epreuve 226\n",
      "Position 226\n",
      "Scrapping:gymnastique-artistique/cheval-d-arcons-h\n"
     ]
    },
    {
     "name": "stderr",
     "output_type": "stream",
     "text": [
      "  5%|▌         | 17/338 [00:02<00:40,  8.02it/s]"
     ]
    },
    {
     "name": "stdout",
     "output_type": "stream",
     "text": [
      "1\n",
      "1\n",
      "1\n",
      "cas individuel\n",
      "['Gold', 'Silver', 'Bronze', 'NA', 'NA', 'NA', 'NA', 'NA']\n",
      "Name: 234\n",
      "Medaille 234\n",
      "Pays 234\n",
      "Resultat 234\n",
      "Sport 234\n",
      "Epreuve 234\n",
      "Position 234\n",
      "Scrapping:lutte/libre-68kg-f\n"
     ]
    },
    {
     "name": "stderr",
     "output_type": "stream",
     "text": [
      "  6%|▌         | 19/338 [00:03<00:50,  6.28it/s]"
     ]
    },
    {
     "name": "stdout",
     "output_type": "stream",
     "text": [
      "1\n",
      "1\n",
      "2\n",
      "cas individuel\n",
      "['Gold', 'Silver', 'Bronze', 'Bronze', 'NA', 'NA', 'NA', 'NA', 'NA', 'NA', 'NA', 'NA', 'NA', 'NA', 'NA', 'NA']\n",
      "Name: 250\n",
      "Medaille 250\n",
      "Pays 250\n",
      "Resultat 250\n",
      "Sport 250\n",
      "Epreuve 250\n",
      "Position 250\n",
      "Scrapping:athletisme/lancer-du-javelot-h\n",
      "1\n",
      "1\n",
      "1\n",
      "cas individuel\n",
      "['Gold', 'Silver', 'Bronze', 'NA', 'NA', 'NA', 'NA', 'NA', 'NA', 'NA', 'NA', 'NA']\n",
      "Name: 262\n",
      "Medaille 262\n",
      "Pays 262\n",
      "Resultat 262\n",
      "Sport 262\n",
      "Epreuve 262\n",
      "Position 262\n",
      "Scrapping:athletisme/20km-marche-f\n"
     ]
    },
    {
     "name": "stderr",
     "output_type": "stream",
     "text": [
      "  7%|▋         | 23/338 [00:03<00:42,  7.50it/s]"
     ]
    },
    {
     "name": "stdout",
     "output_type": "stream",
     "text": [
      "1\n",
      "1\n",
      "1\n",
      "cas individuel\n",
      "['Gold', 'Silver', 'Bronze', 'NA', 'NA', 'NA', 'NA', 'NA', 'NA', 'NA', 'NA', 'NA', 'NA', 'NA', 'NA', 'NA', 'NA', 'NA', 'NA', 'NA', 'NA', 'NA', 'NA', 'NA', 'NA', 'NA', 'NA', 'NA', 'NA', 'NA', 'NA', 'NA', 'NA', 'NA', 'NA', 'NA', 'NA', 'NA', 'NA', 'NA', 'NA', 'NA', 'NA', 'NA', 'NA', 'NA', 'NA', 'NA', 'NA', 'NA', 'NA', 'NA', 'NA', 'NA', 'NA', 'NA', 'NA', 'NA']\n",
      "Name: 320\n",
      "Medaille 320\n",
      "Pays 320\n",
      "Resultat 320\n",
      "Sport 320\n",
      "Epreuve 320\n",
      "Position 320\n",
      "Scrapping:athletisme/3000m-steeple-h\n",
      "1\n",
      "1\n",
      "1\n",
      "cas individuel\n",
      "['Gold', 'Silver', 'Bronze', 'NA', 'NA', 'NA', 'NA', 'NA', 'NA', 'NA', 'NA', 'NA', 'NA', 'NA', 'NA']\n",
      "Name: 335\n",
      "Medaille 335\n",
      "Pays 335\n",
      "Resultat 335\n",
      "Sport 335\n",
      "Epreuve 335\n",
      "Position 335\n",
      "Scrapping:vtt/cross-country-h\n"
     ]
    },
    {
     "name": "stderr",
     "output_type": "stream",
     "text": [
      "  8%|▊         | 27/338 [00:04<00:33,  9.41it/s]"
     ]
    },
    {
     "name": "stdout",
     "output_type": "stream",
     "text": [
      "1\n",
      "1\n",
      "1\n",
      "cas individuel\n",
      "['Gold', 'Silver', 'Bronze', 'NA', 'NA', 'NA', 'NA', 'NA', 'NA', 'NA', 'NA', 'NA', 'NA', 'NA', 'NA', 'NA', 'NA', 'NA', 'NA', 'NA', 'NA', 'NA', 'NA', 'NA', 'NA', 'NA', 'NA', 'NA', 'NA', 'NA', 'NA', 'NA', 'NA', 'NA', 'NA', 'NA', 'NA', 'NA']\n",
      "Name: 373\n",
      "Medaille 373\n",
      "Pays 373\n",
      "Resultat 373\n",
      "Sport 373\n",
      "Epreuve 373\n",
      "Position 373\n",
      "Scrapping:marathon-de-natation/10km-h\n",
      "1\n",
      "1\n",
      "1\n",
      "cas individuel\n",
      "['Gold', 'Silver', 'Bronze', 'NA', 'NA', 'NA', 'NA', 'NA', 'NA', 'NA', 'NA', 'NA', 'NA', 'NA', 'NA', 'NA', 'NA', 'NA', 'NA', 'NA', 'NA', 'NA', 'NA', 'NA', 'NA', 'NA']\n",
      "Name: 399\n",
      "Medaille 399\n",
      "Pays 399\n",
      "Resultat 399\n",
      "Sport 399\n",
      "Epreuve 399\n",
      "Position 399\n",
      "Scrapping:boxe/mouche-48-52kg-h\n",
      "1\n",
      "1\n",
      "2\n",
      "cas individuel\n",
      "['Gold', 'Silver', 'Bronze', 'Bronze', 'NA', 'NA', 'NA', 'NA', 'NA', 'NA', 'NA', 'NA', 'NA', 'NA', 'NA', 'NA', 'NA', 'NA', 'NA', 'NA', 'NA', 'NA', 'NA', 'NA', 'NA', 'NA', 'NA']\n",
      "Name: 426\n",
      "Medaille 426\n",
      "Pays 426\n",
      "Resultat 426\n",
      "Sport 426\n",
      "Epreuve 426\n",
      "Position 426\n",
      "Scrapping:athletisme/lancer-du-poids-f\n"
     ]
    },
    {
     "name": "stderr",
     "output_type": "stream",
     "text": [
      "  9%|▉         | 30/338 [00:05<00:52,  5.88it/s]"
     ]
    },
    {
     "name": "stdout",
     "output_type": "stream",
     "text": [
      "1\n",
      "1\n",
      "1\n",
      "cas individuel\n",
      "['Gold', 'Silver', 'Bronze', 'NA', 'NA', 'NA', 'NA', 'NA', 'NA', 'NA', 'NA', 'NA']\n",
      "Name: 438\n",
      "Medaille 438\n",
      "Pays 438\n",
      "Resultat 438\n",
      "Sport 438\n",
      "Epreuve 438\n",
      "Position 438\n",
      "Scrapping:lutte/libre-74kg-h\n",
      "1\n",
      "1\n",
      "2\n",
      "cas individuel\n",
      "['Gold', 'Silver', 'Bronze', 'Bronze', 'NA', 'NA', 'NA', 'NA', 'NA', 'NA', 'NA', 'NA', 'NA', 'NA', 'NA', 'NA']\n",
      "Name: 454\n",
      "Medaille 454\n",
      "Pays 454\n",
      "Resultat 454\n",
      "Sport 454\n",
      "Epreuve 454\n",
      "Position 454\n",
      "Scrapping:boxe/leger-57-60kg-f\n"
     ]
    },
    {
     "name": "stderr",
     "output_type": "stream",
     "text": [
      "  9%|▉         | 31/338 [00:05<00:58,  5.27it/s]"
     ]
    },
    {
     "name": "stdout",
     "output_type": "stream",
     "text": [
      "1\n",
      "1\n",
      "2\n",
      "cas individuel\n",
      "['Gold', 'Silver', 'Bronze', 'Bronze', 'NA', 'NA', 'NA', 'NA', 'NA', 'NA', 'NA', 'NA', 'NA', 'NA', 'NA', 'NA', 'NA', 'NA', 'NA', 'NA', 'NA']\n",
      "Name: 475\n",
      "Medaille 475\n",
      "Pays 475\n",
      "Resultat 475\n",
      "Sport 475\n",
      "Epreuve 475\n",
      "Position 475\n",
      "Scrapping:athletisme/lancer-du-javelot-f\n"
     ]
    },
    {
     "name": "stderr",
     "output_type": "stream",
     "text": [
      "  9%|▉         | 32/338 [00:05<01:08,  4.44it/s]"
     ]
    },
    {
     "name": "stdout",
     "output_type": "stream",
     "text": [
      "1\n",
      "1\n",
      "1\n",
      "cas individuel\n",
      "['Gold', 'Silver', 'Bronze', 'NA', 'NA', 'NA', 'NA', 'NA', 'NA', 'NA', 'NA', 'NA']\n",
      "Name: 487\n",
      "Medaille 487\n",
      "Pays 487\n",
      "Resultat 487\n",
      "Sport 487\n",
      "Epreuve 487\n",
      "Position 487\n",
      "Scrapping:cyclisme-sur-piste/sprint-equipe-f\n"
     ]
    },
    {
     "name": "stderr",
     "output_type": "stream",
     "text": [
      " 10%|▉         | 33/338 [00:06<01:19,  3.85it/s]"
     ]
    },
    {
     "name": "stdout",
     "output_type": "stream",
     "text": [
      "1\n",
      "1\n",
      "1\n",
      "cas team\n",
      "['Gold', 'Gold', 'Silver', 'Silver', 'Bronze', 'Bronze', 'NA', 'NA', 'NA', 'NA', 'NA', 'NA', 'NA', 'NA', 'NA', 'NA']\n",
      "Name: 503\n",
      "Medaille 503\n",
      "Pays 503\n",
      "Resultat 503\n",
      "Sport 503\n",
      "Epreuve 503\n",
      "Position 503\n",
      "Scrapping:gymnastique-artistique/poutre-f\n"
     ]
    },
    {
     "name": "stderr",
     "output_type": "stream",
     "text": [
      " 10%|█         | 34/338 [00:06<01:22,  3.70it/s]"
     ]
    },
    {
     "name": "stdout",
     "output_type": "stream",
     "text": [
      "1\n",
      "1\n",
      "1\n",
      "cas individuel\n",
      "['Gold', 'Silver', 'Bronze', 'NA', 'NA', 'NA', 'NA', 'NA']\n",
      "Name: 511\n",
      "Medaille 511\n",
      "Pays 511\n",
      "Resultat 511\n",
      "Sport 511\n",
      "Epreuve 511\n",
      "Position 511\n",
      "Scrapping:boxe/moyen-69-75kg-f\n"
     ]
    },
    {
     "name": "stderr",
     "output_type": "stream",
     "text": [
      " 11%|█         | 36/338 [00:06<01:11,  4.24it/s]"
     ]
    },
    {
     "name": "stdout",
     "output_type": "stream",
     "text": [
      "1\n",
      "1\n",
      "2\n",
      "cas individuel\n",
      "['Gold', 'Silver', 'Bronze', 'Bronze', 'NA', 'NA', 'NA', 'NA', 'NA', 'NA', 'NA', 'NA', 'NA', 'NA', 'NA', 'NA']\n",
      "Name: 527\n",
      "Medaille 527\n",
      "Pays 527\n",
      "Resultat 527\n",
      "Sport 527\n",
      "Epreuve 527\n",
      "Position 527\n",
      "Scrapping:taekwondo/58kg-h\n",
      "1\n",
      "1\n",
      "2\n",
      "cas individuel\n",
      "['Gold', 'Silver', 'Bronze', 'Bronze', 'NA', 'NA', 'NA', 'NA', 'NA', 'NA', 'NA', 'NA', 'NA', 'NA', 'NA', 'NA']\n",
      "Name: 543\n",
      "Medaille 543\n",
      "Pays 543\n",
      "Resultat 543\n",
      "Sport 543\n",
      "Epreuve 543\n",
      "Position 543\n",
      "Scrapping:athletisme/5000m-h\n"
     ]
    },
    {
     "name": "stderr",
     "output_type": "stream",
     "text": [
      " 12%|█▏        | 39/338 [00:07<00:52,  5.65it/s]"
     ]
    },
    {
     "name": "stdout",
     "output_type": "stream",
     "text": [
      "1\n",
      "1\n",
      "1\n",
      "cas individuel\n",
      "['Gold', 'Silver', 'Bronze', 'NA', 'NA', 'NA', 'NA', 'NA', 'NA', 'NA', 'NA', 'NA', 'NA', 'NA', 'NA', 'NA']\n",
      "Name: 559\n",
      "Medaille 559\n",
      "Pays 559\n",
      "Resultat 559\n",
      "Sport 559\n",
      "Epreuve 559\n",
      "Position 559\n",
      "Scrapping:natation/1500m-nage-libre-h\n",
      "1\n",
      "1\n",
      "1\n",
      "cas individuel\n",
      "['Gold', 'Silver', 'Bronze', 'NA', 'NA', 'NA', 'NA', 'NA']\n",
      "Name: 567\n",
      "Medaille 567\n",
      "Pays 567\n",
      "Resultat 567\n",
      "Sport 567\n",
      "Epreuve 567\n",
      "Position 567\n",
      "Scrapping:athletisme/110m-haies-h\n"
     ]
    },
    {
     "name": "stderr",
     "output_type": "stream",
     "text": [
      " 12%|█▏        | 40/338 [00:07<00:59,  5.02it/s]"
     ]
    },
    {
     "name": "stdout",
     "output_type": "stream",
     "text": [
      "1\n",
      "1\n",
      "1\n",
      "cas individuel\n",
      "['Gold', 'Silver', 'Bronze', 'NA', 'NA', 'NA', 'NA', 'NA']\n",
      "Name: 575\n",
      "Medaille 575\n",
      "Pays 575\n",
      "Resultat 575\n",
      "Sport 575\n",
      "Epreuve 575\n",
      "Position 575\n",
      "Scrapping:surf/femme\n",
      "1\n",
      "1\n",
      "1\n",
      "cas individuel\n",
      "['Gold', 'Silver', 'Bronze', 'NA', 'NA', 'NA', 'NA', 'NA', 'NA', 'NA', 'NA', 'NA', 'NA', 'NA', 'NA', 'NA', 'NA', 'NA', 'NA', 'NA']\n",
      "Name: 595\n",
      "Medaille 595\n",
      "Pays 595\n",
      "Resultat 595\n",
      "Sport 595\n",
      "Epreuve 595\n",
      "Position 595\n"
     ]
    },
    {
     "name": "stderr",
     "output_type": "stream",
     "text": [
      " 12%|█▏        | 42/338 [00:07<00:57,  5.12it/s]"
     ]
    },
    {
     "name": "stdout",
     "output_type": "stream",
     "text": [
      "Scrapping:taekwondo/57kg-f\n",
      "1\n",
      "1\n",
      "2\n",
      "cas individuel\n",
      "['Gold', 'Silver', 'Bronze', 'Bronze', 'NA', 'NA', 'NA', 'NA', 'NA', 'NA', 'NA', 'NA', 'NA', 'NA', 'NA', 'NA', 'NA']\n",
      "Name: 612\n",
      "Medaille 612\n",
      "Pays 612\n",
      "Resultat 612\n",
      "Sport 612\n",
      "Epreuve 612\n",
      "Position 612\n",
      "Scrapping:triathlon/individuel-h\n"
     ]
    },
    {
     "name": "stderr",
     "output_type": "stream",
     "text": [
      " 14%|█▎        | 46/338 [00:08<00:44,  6.60it/s]"
     ]
    },
    {
     "name": "stdout",
     "output_type": "stream",
     "text": [
      "1\n",
      "1\n",
      "1\n",
      "cas individuel\n",
      "['Gold', 'Silver', 'Bronze', 'NA', 'NA', 'NA', 'NA', 'NA', 'NA', 'NA', 'NA', 'NA', 'NA', 'NA', 'NA', 'NA', 'NA', 'NA', 'NA', 'NA', 'NA', 'NA', 'NA', 'NA', 'NA', 'NA', 'NA', 'NA', 'NA', 'NA', 'NA', 'NA', 'NA', 'NA', 'NA', 'NA', 'NA', 'NA', 'NA', 'NA', 'NA', 'NA', 'NA', 'NA', 'NA', 'NA', 'NA', 'NA', 'NA', 'NA', 'NA']\n",
      "Name: 663\n",
      "Medaille 663\n",
      "Pays 663\n",
      "Resultat 663\n",
      "Sport 663\n",
      "Epreuve 663\n",
      "Position 663\n",
      "Scrapping:athletisme/1500m-f\n",
      "1\n",
      "1\n",
      "1\n",
      "cas individuel\n",
      "['Gold', 'Silver', 'Bronze', 'NA', 'NA', 'NA', 'NA', 'NA', 'NA', 'NA', 'NA', 'NA', 'NA']\n",
      "Name: 676\n",
      "Medaille 676\n",
      "Pays 676\n",
      "Resultat 676\n",
      "Sport 676\n",
      "Epreuve 676\n",
      "Position 676\n"
     ]
    },
    {
     "name": "stderr",
     "output_type": "stream",
     "text": [
      " 14%|█▍        | 47/338 [00:08<00:45,  6.36it/s]"
     ]
    },
    {
     "name": "stdout",
     "output_type": "stream",
     "text": [
      "Scrapping:tir/trap-femme\n",
      "1\n",
      "1\n",
      "1\n",
      "cas individuel\n",
      "['Gold', 'Silver', 'Bronze', 'NA', 'NA', 'NA', 'NA', 'NA', 'NA', 'NA', 'NA', 'NA', 'NA', 'NA', 'NA', 'NA', 'NA', 'NA', 'NA', 'NA', 'NA', 'NA', 'NA', 'NA', 'NA', 'NA']\n",
      "Name: 702\n",
      "Medaille 702\n",
      "Pays 702\n",
      "Resultat 702\n",
      "Sport 702\n",
      "Epreuve 702\n",
      "Position 702\n",
      "Scrapping:halterophilie/96kg-h\n"
     ]
    },
    {
     "name": "stderr",
     "output_type": "stream",
     "text": [
      " 14%|█▍        | 48/338 [00:08<00:56,  5.13it/s]"
     ]
    },
    {
     "name": "stdout",
     "output_type": "stream",
     "text": [
      "1\n",
      "1\n",
      "1\n",
      "cas individuel\n",
      "['Gold', 'Silver', 'Bronze', 'NA', 'NA', 'NA', 'NA', 'NA', 'NA', 'NA', 'NA', 'NA', 'NA', 'NA', 'NA']\n",
      "Name: 717\n",
      "Medaille 717\n",
      "Pays 717\n",
      "Resultat 717\n",
      "Sport 717\n",
      "Epreuve 717\n",
      "Position 717\n",
      "Scrapping:gymnastique-artistique/sol-h\n"
     ]
    },
    {
     "name": "stderr",
     "output_type": "stream",
     "text": [
      " 15%|█▍        | 50/338 [00:09<00:58,  4.93it/s]"
     ]
    },
    {
     "name": "stdout",
     "output_type": "stream",
     "text": [
      "1\n",
      "1\n",
      "1\n",
      "cas individuel\n",
      "['Gold', 'Silver', 'Bronze', 'NA', 'NA', 'NA', 'NA', 'NA']\n",
      "Name: 725\n",
      "Medaille 725\n",
      "Pays 725\n",
      "Resultat 725\n",
      "Sport 725\n",
      "Epreuve 725\n",
      "Position 725\n",
      "Scrapping:lutte/libre-125kg-h\n",
      "1\n",
      "1\n",
      "2\n",
      "cas individuel\n",
      "['Gold', 'Silver', 'Bronze', 'Bronze', 'NA', 'NA', 'NA', 'NA', 'NA', 'NA', 'NA', 'NA', 'NA', 'NA', 'NA', 'NA']\n",
      "Name: 741\n",
      "Medaille 741\n",
      "Pays 741\n",
      "Resultat 741\n",
      "Sport 741\n",
      "Epreuve 741\n",
      "Position 741\n"
     ]
    },
    {
     "name": "stderr",
     "output_type": "stream",
     "text": [
      " 15%|█▌        | 51/338 [00:09<00:54,  5.24it/s]"
     ]
    },
    {
     "name": "stdout",
     "output_type": "stream",
     "text": [
      "Scrapping:athletisme/triple-saut-f\n",
      "1\n",
      "1\n",
      "1\n",
      "cas individuel\n",
      "['Gold', 'Silver', 'Bronze', 'NA', 'NA', 'NA', 'NA', 'NA', 'NA', 'NA', 'NA', 'NA']\n",
      "Name: 753\n",
      "Medaille 753\n",
      "Pays 753\n",
      "Resultat 753\n",
      "Sport 753\n",
      "Epreuve 753\n",
      "Position 753\n",
      "Scrapping:skateboard/street-f\n"
     ]
    },
    {
     "name": "stderr",
     "output_type": "stream",
     "text": [
      " 15%|█▌        | 52/338 [00:09<00:51,  5.57it/s]"
     ]
    },
    {
     "name": "stdout",
     "output_type": "stream",
     "text": [
      "1\n",
      "1\n",
      "1\n",
      "cas individuel\n",
      "['Gold', 'Silver', 'Bronze', 'NA', 'NA', 'NA', 'NA', 'NA', 'NA', 'NA', 'NA', 'NA', 'NA', 'NA', 'NA', 'NA', 'NA', 'NA', 'NA', 'NA']\n",
      "Name: 773\n",
      "Medaille 773\n",
      "Pays 773\n",
      "Resultat 773\n",
      "Sport 773\n",
      "Epreuve 773\n",
      "Position 773\n",
      "Scrapping:cyclisme-sur-route/contre-la-montre-individuel-f\n"
     ]
    },
    {
     "name": "stderr",
     "output_type": "stream",
     "text": [
      " 16%|█▌        | 53/338 [00:10<01:40,  2.85it/s]"
     ]
    },
    {
     "name": "stdout",
     "output_type": "stream",
     "text": [
      "1\n",
      "1\n",
      "1\n",
      "cas individuel\n",
      "['Gold', 'Silver', 'Bronze', 'NA', 'NA', 'NA', 'NA', 'NA', 'NA', 'NA', 'NA', 'NA', 'NA', 'NA', 'NA', 'NA', 'NA', 'NA', 'NA', 'NA', 'NA', 'NA', 'NA', 'NA', 'NA']\n",
      "Name: 798\n",
      "Medaille 798\n",
      "Pays 798\n",
      "Resultat 798\n",
      "Sport 798\n",
      "Epreuve 798\n",
      "Position 798\n",
      "Scrapping:judo/63kg-f\n"
     ]
    },
    {
     "name": "stderr",
     "output_type": "stream",
     "text": [
      " 16%|█▌        | 54/338 [00:10<01:29,  3.16it/s]"
     ]
    },
    {
     "name": "stdout",
     "output_type": "stream",
     "text": [
      "1\n",
      "1\n",
      "2\n",
      "cas individuel\n",
      "['Gold', 'Silver', 'Bronze', 'Bronze', 'NA', 'NA', 'NA', 'NA', 'NA', 'NA', 'NA', 'NA', 'NA', 'NA', 'NA', 'NA', 'NA', 'NA', 'NA', 'NA', 'NA', 'NA', 'NA', 'NA', 'NA', 'NA', 'NA', 'NA', 'NA', 'NA', 'NA']\n",
      "Name: 829\n",
      "Medaille 829\n",
      "Pays 829\n",
      "Resultat 829\n",
      "Sport 829\n",
      "Epreuve 829\n",
      "Position 829\n",
      "Scrapping:boxe/welter-63-69kg-h\n"
     ]
    },
    {
     "name": "stderr",
     "output_type": "stream",
     "text": [
      " 16%|█▋        | 55/338 [00:10<01:25,  3.30it/s]"
     ]
    },
    {
     "name": "stdout",
     "output_type": "stream",
     "text": [
      "1\n",
      "1\n",
      "2\n",
      "cas individuel\n",
      "['Gold', 'Silver', 'Bronze', 'Bronze', 'NA', 'NA', 'NA', 'NA', 'NA', 'NA', 'NA', 'NA', 'NA', 'NA', 'NA', 'NA', 'NA', 'NA', 'NA', 'NA', 'NA', 'NA', 'NA']\n",
      "Name: 852\n",
      "Medaille 852\n",
      "Pays 852\n",
      "Resultat 852\n",
      "Sport 852\n",
      "Epreuve 852\n",
      "Position 852\n",
      "Scrapping:athletisme/lancer-du-disque-h\n"
     ]
    },
    {
     "name": "stderr",
     "output_type": "stream",
     "text": [
      " 17%|█▋        | 56/338 [00:11<01:24,  3.33it/s]"
     ]
    },
    {
     "name": "stdout",
     "output_type": "stream",
     "text": [
      "1\n",
      "1\n",
      "1\n",
      "cas individuel\n",
      "['Gold', 'Silver', 'Bronze', 'NA', 'NA', 'NA', 'NA', 'NA', 'NA', 'NA', 'NA', 'NA']\n",
      "Name: 864\n",
      "Medaille 864\n",
      "Pays 864\n",
      "Resultat 864\n",
      "Sport 864\n",
      "Epreuve 864\n",
      "Position 864\n",
      "Scrapping:boxe/plume-52-57kg-h\n"
     ]
    },
    {
     "name": "stderr",
     "output_type": "stream",
     "text": [
      " 17%|█▋        | 57/338 [00:11<01:21,  3.45it/s]"
     ]
    },
    {
     "name": "stdout",
     "output_type": "stream",
     "text": [
      "1\n",
      "1\n",
      "2\n",
      "cas individuel\n",
      "['Gold', 'Silver', 'Bronze', 'Bronze', 'NA', 'NA', 'NA', 'NA', 'NA', 'NA', 'NA', 'NA', 'NA', 'NA', 'NA', 'NA', 'NA', 'NA', 'NA', 'NA', 'NA', 'NA', 'NA', 'NA', 'NA', 'NA', 'NA']\n",
      "Name: 891\n",
      "Medaille 891\n",
      "Pays 891\n",
      "Resultat 891\n",
      "Sport 891\n",
      "Epreuve 891\n",
      "Position 891\n",
      "Scrapping:judo/plus-de-100kg-h\n",
      "1\n",
      "1\n",
      "2\n",
      "cas individuel\n",
      "['Gold', 'Silver', 'Bronze', 'Bronze', 'NA', 'NA', 'NA', 'NA', 'NA', 'NA', 'NA', 'NA', 'NA', 'NA', 'NA', 'NA', 'NA', 'NA', 'NA', 'NA', 'NA', 'NA']\n",
      "Name: 913\n",
      "Medaille 913\n",
      "Pays 913\n",
      "Resultat 913\n",
      "Sport 913\n",
      "Epreuve 913\n",
      "Position 913\n"
     ]
    },
    {
     "name": "stderr",
     "output_type": "stream",
     "text": [
      " 17%|█▋        | 58/338 [00:11<01:15,  3.73it/s]"
     ]
    },
    {
     "name": "stdout",
     "output_type": "stream",
     "text": [
      "Scrapping:tir/10m-pistolet-air-femme\n"
     ]
    },
    {
     "name": "stderr",
     "output_type": "stream",
     "text": [
      " 17%|█▋        | 59/338 [00:11<01:22,  3.39it/s]"
     ]
    },
    {
     "name": "stdout",
     "output_type": "stream",
     "text": [
      "1\n",
      "1\n",
      "1\n",
      "cas individuel\n",
      "['Gold', 'Silver', 'Bronze', 'NA', 'NA', 'NA', 'NA', 'NA', 'NA', 'NA', 'NA', 'NA', 'NA', 'NA', 'NA', 'NA', 'NA', 'NA', 'NA', 'NA', 'NA', 'NA', 'NA', 'NA', 'NA', 'NA', 'NA', 'NA', 'NA', 'NA', 'NA', 'NA', 'NA', 'NA', 'NA', 'NA', 'NA', 'NA', 'NA', 'NA', 'NA', 'NA', 'NA', 'NA', 'NA', 'NA', 'NA', 'NA', 'NA', 'NA', 'NA', 'NA', 'NA']\n",
      "Name: 966\n",
      "Medaille 966\n",
      "Pays 966\n",
      "Resultat 966\n",
      "Sport 966\n",
      "Epreuve 966\n",
      "Position 966\n",
      "Scrapping:escrime/sabre-individuel-f\n"
     ]
    },
    {
     "name": "stderr",
     "output_type": "stream",
     "text": [
      " 18%|█▊        | 60/338 [00:12<01:22,  3.37it/s]"
     ]
    },
    {
     "name": "stdout",
     "output_type": "stream",
     "text": [
      "1\n",
      "1\n",
      "1\n",
      "cas individuel\n",
      "['Gold', 'Silver', 'Bronze', 'NA', 'NA', 'NA', 'NA', 'NA', 'NA', 'NA', 'NA', 'NA', 'NA', 'NA', 'NA', 'NA', 'NA', 'NA', 'NA', 'NA', 'NA', 'NA', 'NA', 'NA', 'NA', 'NA', 'NA', 'NA', 'NA', 'NA', 'NA', 'NA', 'NA', 'NA', 'NA', 'NA']\n",
      "Name: 1002\n",
      "Medaille 1002\n",
      "Pays 1002\n",
      "Resultat 1002\n",
      "Sport 1002\n",
      "Epreuve 1002\n",
      "Position 1002\n",
      "Scrapping:gymnastique-artistique/saut-de-cheval-f\n"
     ]
    },
    {
     "name": "stderr",
     "output_type": "stream",
     "text": [
      " 18%|█▊        | 62/338 [00:12<01:11,  3.88it/s]"
     ]
    },
    {
     "name": "stdout",
     "output_type": "stream",
     "text": [
      "1\n",
      "1\n",
      "1\n",
      "cas individuel\n",
      "['Gold', 'Silver', 'Bronze', 'NA', 'NA', 'NA', 'NA', 'NA']\n",
      "Name: 1010\n",
      "Medaille 1010\n",
      "Pays 1010\n",
      "Resultat 1010\n",
      "Sport 1010\n",
      "Epreuve 1010\n",
      "Position 1010\n",
      "Scrapping:lutte/libre-57kg-h\n",
      "1\n",
      "1\n",
      "2\n",
      "cas individuel\n",
      "['Gold', 'Silver', 'Bronze', 'Bronze', 'NA', 'NA', 'NA', 'NA', 'NA', 'NA', 'NA', 'NA', 'NA', 'NA', 'NA', 'NA']\n",
      "Name: 1026\n",
      "Medaille 1026\n",
      "Pays 1026\n",
      "Resultat 1026\n",
      "Sport 1026\n",
      "Epreuve 1026\n",
      "Position 1026\n",
      "Scrapping:aviron/deux-de-couple-poids-legers-h\n"
     ]
    },
    {
     "name": "stderr",
     "output_type": "stream",
     "text": [
      " 19%|█▊        | 63/338 [00:12<01:05,  4.18it/s]"
     ]
    },
    {
     "name": "stdout",
     "output_type": "stream",
     "text": [
      "1\n",
      "1\n",
      "1\n",
      "cas team\n",
      "['Gold', 'Gold', 'Silver', 'Silver', 'Bronze', 'Bronze', 'NA', 'NA', 'NA', 'NA', 'NA', 'NA', 'NA', 'NA', 'NA', 'NA', 'NA', 'NA', 'NA', 'NA', 'NA', 'NA', 'NA', 'NA', 'NA', 'NA', 'NA', 'NA', 'NA', 'NA', 'NA', 'NA', 'NA', 'NA', 'NA', 'NA']\n",
      "Name: 1062\n",
      "Medaille 1062\n",
      "Pays 1062\n",
      "Resultat 1062\n",
      "Sport 1062\n",
      "Epreuve 1062\n",
      "Position 1062\n",
      "Scrapping:athletisme/10000m-f\n"
     ]
    },
    {
     "name": "stderr",
     "output_type": "stream",
     "text": [
      " 20%|█▉        | 67/338 [00:13<00:45,  5.97it/s]"
     ]
    },
    {
     "name": "stdout",
     "output_type": "stream",
     "text": [
      "1\n",
      "1\n",
      "1\n",
      "cas individuel\n",
      "['Gold', 'Silver', 'Bronze', 'NA', 'NA', 'NA', 'NA', 'NA', 'NA', 'NA', 'NA', 'NA', 'NA', 'NA', 'NA', 'NA', 'NA', 'NA', 'NA', 'NA', 'NA', 'NA', 'NA', 'NA', 'NA', 'NA', 'NA', 'NA', 'NA']\n",
      "Name: 1091\n",
      "Medaille 1091\n",
      "Pays 1091\n",
      "Resultat 1091\n",
      "Sport 1091\n",
      "Epreuve 1091\n",
      "Position 1091\n",
      "Scrapping:natation/100m-nage-libre-h\n",
      "1\n",
      "1\n",
      "1\n",
      "cas individuel\n",
      "['Gold', 'Silver', 'Bronze', 'NA', 'NA', 'NA', 'NA', 'NA']\n",
      "Name: 1099\n",
      "Medaille 1099\n",
      "Pays 1099\n",
      "Resultat 1099\n",
      "Sport 1099\n",
      "Epreuve 1099\n",
      "Position 1099\n",
      "Scrapping:voile/49er-fx-f\n"
     ]
    },
    {
     "name": "stderr",
     "output_type": "stream",
     "text": [
      " 20%|██        | 69/338 [00:13<00:47,  5.64it/s]"
     ]
    },
    {
     "name": "stdout",
     "output_type": "stream",
     "text": [
      "1\n",
      "1\n",
      "1\n",
      "cas team\n",
      "['Gold', 'Gold', 'Silver', 'Silver', 'Bronze', 'Bronze', 'NA', 'NA', 'NA', 'NA', 'NA', 'NA', 'NA', 'NA', 'NA', 'NA', 'NA', 'NA', 'NA', 'NA', 'NA', 'NA', 'NA', 'NA', 'NA', 'NA', 'NA', 'NA', 'NA', 'NA', 'NA', 'NA', 'NA', 'NA', 'NA', 'NA', 'NA', 'NA', 'NA', 'NA', 'NA', 'NA']\n",
      "Name: 1141\n",
      "Medaille 1141\n",
      "Pays 1141\n",
      "Resultat 1141\n",
      "Sport 1141\n",
      "Epreuve 1141\n",
      "Position 1141\n",
      "Scrapping:marathon-de-natation/10km-f\n",
      "1\n",
      "1\n",
      "1\n",
      "cas individuel\n",
      "['Gold', 'Silver', 'Bronze', 'NA', 'NA', 'NA', 'NA', 'NA', 'NA', 'NA', 'NA', 'NA', 'NA', 'NA', 'NA', 'NA', 'NA', 'NA', 'NA', 'NA', 'NA', 'NA', 'NA', 'NA', 'NA']\n",
      "Name: 1166\n",
      "Medaille 1166\n",
      "Pays 1166\n",
      "Resultat 1166\n",
      "Sport 1166\n",
      "Epreuve 1166\n",
      "Position 1166\n",
      "Scrapping:natation/200m-4-nages-individuel-f\n"
     ]
    },
    {
     "name": "stderr",
     "output_type": "stream",
     "text": [
      " 21%|██        | 71/338 [00:14<00:45,  5.89it/s]"
     ]
    },
    {
     "name": "stdout",
     "output_type": "stream",
     "text": [
      "1\n",
      "1\n",
      "1\n",
      "cas individuel\n",
      "['Gold', 'Silver', 'Bronze', 'NA', 'NA', 'NA', 'NA', 'NA']\n",
      "Name: 1174\n",
      "Medaille 1174\n",
      "Pays 1174\n",
      "Resultat 1174\n",
      "Sport 1174\n",
      "Epreuve 1174\n",
      "Position 1174\n",
      "Scrapping:cyclisme-sur-piste/omnium-h\n",
      "1\n",
      "1\n",
      "1\n",
      "cas individuel\n",
      "['Gold', 'Silver', 'Bronze', 'NA', 'NA', 'NA', 'NA', 'NA', 'NA', 'NA', 'NA', 'NA', 'NA', 'NA', 'NA', 'NA', 'NA', 'NA', 'NA', 'NA']\n",
      "Name: 1194\n",
      "Medaille 1194\n",
      "Pays 1194\n",
      "Resultat 1194\n",
      "Sport 1194\n",
      "Epreuve 1194\n",
      "Position 1194\n",
      "Scrapping:halterophilie/55kg-f\n"
     ]
    },
    {
     "name": "stderr",
     "output_type": "stream",
     "text": [
      " 22%|██▏       | 73/338 [00:14<00:49,  5.33it/s]"
     ]
    },
    {
     "name": "stdout",
     "output_type": "stream",
     "text": [
      "1\n",
      "1\n",
      "1\n",
      "cas individuel\n",
      "['Gold', 'Silver', 'Bronze', 'NA', 'NA', 'NA', 'NA', 'NA', 'NA', 'NA', 'NA', 'NA', 'NA', 'NA']\n",
      "Name: 1208\n",
      "Medaille 1208\n",
      "Pays 1208\n",
      "Resultat 1208\n",
      "Sport 1208\n",
      "Epreuve 1208\n",
      "Position 1208\n",
      "Scrapping:halterophilie/73kg-h\n",
      "1\n",
      "1\n",
      "1\n",
      "cas individuel\n",
      "['Gold', 'Silver', 'Bronze', 'NA', 'NA', 'NA', 'NA', 'NA', 'NA', 'NA', 'NA', 'NA', 'NA', 'NA']\n",
      "Name: 1222\n",
      "Medaille 1222\n",
      "Pays 1222\n",
      "Resultat 1222\n",
      "Sport 1222\n",
      "Epreuve 1222\n",
      "Position 1222\n",
      "Scrapping:natation/800m-nage-libre-f\n"
     ]
    },
    {
     "name": "stderr",
     "output_type": "stream",
     "text": [
      " 22%|██▏       | 74/338 [00:14<00:45,  5.85it/s]"
     ]
    },
    {
     "name": "stdout",
     "output_type": "stream",
     "text": [
      "1\n",
      "1\n",
      "1\n",
      "cas individuel\n",
      "['Gold', 'Silver', 'Bronze', 'NA', 'NA', 'NA', 'NA', 'NA']\n",
      "Name: 1230\n",
      "Medaille 1230\n",
      "Pays 1230\n",
      "Resultat 1230\n",
      "Sport 1230\n",
      "Epreuve 1230\n",
      "Position 1230\n",
      "Scrapping:surf/homme\n",
      "1\n",
      "1\n",
      "1\n",
      "cas individuel\n",
      "['Gold', 'Silver', 'Bronze', 'NA', 'NA', 'NA', 'NA', 'NA', 'NA', 'NA', 'NA', 'NA', 'NA', 'NA', 'NA', 'NA', 'NA', 'NA', 'NA', 'NA']\n",
      "Name: 1250\n",
      "Medaille 1250\n",
      "Pays 1250\n",
      "Resultat 1250\n",
      "Sport 1250\n",
      "Epreuve 1250\n",
      "Position 1250\n"
     ]
    },
    {
     "name": "stderr",
     "output_type": "stream",
     "text": [
      " 22%|██▏       | 75/338 [00:15<00:46,  5.71it/s]"
     ]
    },
    {
     "name": "stdout",
     "output_type": "stream",
     "text": [
      "Scrapping:tennis-de-table/simple-f\n"
     ]
    },
    {
     "name": "stderr",
     "output_type": "stream",
     "text": [
      " 22%|██▏       | 76/338 [00:15<00:54,  4.82it/s]"
     ]
    },
    {
     "name": "stdout",
     "output_type": "stream",
     "text": [
      "1\n",
      "1\n",
      "1\n",
      "cas individuel\n",
      "['Gold', 'Silver', 'Bronze', 'NA', 'NA', 'NA', 'NA', 'NA', 'NA', 'NA', 'NA', 'NA', 'NA', 'NA', 'NA', 'NA', 'NA', 'NA', 'NA', 'NA', 'NA', 'NA', 'NA', 'NA', 'NA', 'NA', 'NA', 'NA', 'NA', 'NA', 'NA', 'NA', 'NA', 'NA', 'NA', 'NA', 'NA', 'NA', 'NA', 'NA', 'NA', 'NA', 'NA', 'NA', 'NA', 'NA', 'NA', 'NA', 'NA', 'NA', 'NA', 'NA', 'NA', 'NA', 'NA', 'NA', 'NA', 'NA', 'NA', 'NA', 'NA', 'NA', 'NA', 'NA', 'NA', 'NA', 'NA', 'NA', 'NA', 'NA']\n",
      "Name: 1320\n",
      "Medaille 1320\n",
      "Pays 1320\n",
      "Resultat 1320\n",
      "Sport 1320\n",
      "Epreuve 1320\n",
      "Position 1320\n",
      "Scrapping:taekwondo/67kg-f\n"
     ]
    },
    {
     "name": "stderr",
     "output_type": "stream",
     "text": [
      " 23%|██▎       | 77/338 [00:15<00:55,  4.73it/s]"
     ]
    },
    {
     "name": "stdout",
     "output_type": "stream",
     "text": [
      "1\n",
      "1\n",
      "2\n",
      "cas individuel\n",
      "['Gold', 'Silver', 'Bronze', 'Bronze', 'NA', 'NA', 'NA', 'NA', 'NA', 'NA', 'NA', 'NA', 'NA', 'NA', 'NA', 'NA']\n",
      "Name: 1336\n",
      "Medaille 1336\n",
      "Pays 1336\n",
      "Resultat 1336\n",
      "Sport 1336\n",
      "Epreuve 1336\n",
      "Position 1336\n",
      "Scrapping:cyclisme-sur-piste/sprint-h\n"
     ]
    },
    {
     "name": "stderr",
     "output_type": "stream",
     "text": [
      " 23%|██▎       | 78/338 [00:15<01:03,  4.12it/s]"
     ]
    },
    {
     "name": "stdout",
     "output_type": "stream",
     "text": [
      "1\n",
      "1\n",
      "1\n",
      "cas individuel\n",
      "['Gold', 'Silver', 'Bronze', 'NA', 'NA', 'NA', 'NA', 'NA', 'NA', 'NA', 'NA', 'NA', 'NA', 'NA', 'NA', 'NA', 'NA', 'NA', 'NA', 'NA', 'NA', 'NA', 'NA', 'NA', 'NA', 'NA', 'NA', 'NA', 'NA', 'NA']\n",
      "Name: 1366\n",
      "Medaille 1366\n",
      "Pays 1366\n",
      "Resultat 1366\n",
      "Sport 1366\n",
      "Epreuve 1366\n",
      "Position 1366\n",
      "Scrapping:athletisme/decathlon-h\n"
     ]
    },
    {
     "name": "stderr",
     "output_type": "stream",
     "text": [
      " 23%|██▎       | 79/338 [00:16<01:04,  4.04it/s]"
     ]
    },
    {
     "name": "stdout",
     "output_type": "stream",
     "text": [
      "1\n",
      "1\n",
      "1\n",
      "cas individuel\n",
      "['Gold', 'Silver', 'Bronze', 'NA', 'NA', 'NA', 'NA', 'NA', 'NA', 'NA', 'NA', 'NA', 'NA', 'NA', 'NA', 'NA', 'NA', 'NA', 'NA', 'NA', 'NA', 'NA', 'NA']\n",
      "Name: 1389\n",
      "Medaille 1389\n",
      "Pays 1389\n",
      "Resultat 1389\n",
      "Sport 1389\n",
      "Epreuve 1389\n",
      "Position 1389\n",
      "Scrapping:halterophilie/plus-de-109kg-h\n"
     ]
    },
    {
     "name": "stderr",
     "output_type": "stream",
     "text": [
      " 24%|██▍       | 82/338 [00:16<00:46,  5.56it/s]"
     ]
    },
    {
     "name": "stdout",
     "output_type": "stream",
     "text": [
      "1\n",
      "1\n",
      "1\n",
      "cas individuel\n",
      "['Gold', 'Silver', 'Bronze', 'NA', 'NA', 'NA', 'NA', 'NA', 'NA', 'NA', 'NA', 'NA', 'NA']\n",
      "Name: 1402\n",
      "Medaille 1402\n",
      "Pays 1402\n",
      "Resultat 1402\n",
      "Sport 1402\n",
      "Epreuve 1402\n",
      "Position 1402\n",
      "Scrapping:halterophilie/76kg-f\n",
      "1\n",
      "1\n",
      "1\n",
      "cas individuel\n",
      "['Gold', 'Silver', 'Bronze', 'NA', 'NA', 'NA', 'NA', 'NA', 'NA', 'NA', 'NA', 'NA', 'NA']\n",
      "Name: 1415\n",
      "Medaille 1415\n",
      "Pays 1415\n",
      "Resultat 1415\n",
      "Sport 1415\n",
      "Epreuve 1415\n",
      "Position 1415\n",
      "Scrapping:escrime/epee-individuel-h\n"
     ]
    },
    {
     "name": "stderr",
     "output_type": "stream",
     "text": [
      " 25%|██▍       | 84/338 [00:16<00:44,  5.77it/s]"
     ]
    },
    {
     "name": "stdout",
     "output_type": "stream",
     "text": [
      "1\n",
      "1\n",
      "1\n",
      "cas individuel\n",
      "['Gold', 'Silver', 'Bronze', 'NA', 'NA', 'NA', 'NA', 'NA', 'NA', 'NA', 'NA', 'NA', 'NA', 'NA', 'NA', 'NA', 'NA', 'NA', 'NA', 'NA', 'NA', 'NA', 'NA', 'NA', 'NA', 'NA', 'NA', 'NA', 'NA', 'NA', 'NA', 'NA', 'NA', 'NA', 'NA', 'NA']\n",
      "Name: 1451\n",
      "Medaille 1451\n",
      "Pays 1451\n",
      "Resultat 1451\n",
      "Sport 1451\n",
      "Epreuve 1451\n",
      "Position 1451\n",
      "Scrapping:gymnastique-artistique/concours-general-f\n"
     ]
    },
    {
     "name": "stderr",
     "output_type": "stream",
     "text": [
      " 25%|██▌       | 85/338 [00:17<00:50,  4.97it/s]"
     ]
    },
    {
     "name": "stdout",
     "output_type": "stream",
     "text": [
      "1\n",
      "1\n",
      "1\n",
      "cas individuel\n",
      "['Gold', 'Silver', 'Bronze', 'NA', 'NA', 'NA', 'NA', 'NA', 'NA', 'NA', 'NA', 'NA', 'NA', 'NA', 'NA', 'NA', 'NA', 'NA', 'NA', 'NA', 'NA', 'NA', 'NA', 'NA']\n",
      "Name: 1475\n",
      "Medaille 1475\n",
      "Pays 1475\n",
      "Resultat 1475\n",
      "Sport 1475\n",
      "Epreuve 1475\n",
      "Position 1475\n",
      "Scrapping:tennis-de-table/simple-h\n"
     ]
    },
    {
     "name": "stderr",
     "output_type": "stream",
     "text": [
      " 26%|██▌       | 88/338 [00:17<00:40,  6.24it/s]"
     ]
    },
    {
     "name": "stdout",
     "output_type": "stream",
     "text": [
      "1\n",
      "1\n",
      "1\n",
      "cas individuel\n",
      "['Gold', 'Silver', 'Bronze', 'NA', 'NA', 'NA', 'NA', 'NA', 'NA', 'NA', 'NA', 'NA', 'NA', 'NA', 'NA', 'NA', 'NA', 'NA', 'NA', 'NA', 'NA', 'NA', 'NA', 'NA', 'NA', 'NA', 'NA', 'NA', 'NA', 'NA', 'NA', 'NA', 'NA', 'NA', 'NA', 'NA', 'NA', 'NA', 'NA', 'NA', 'NA', 'NA', 'NA', 'NA', 'NA', 'NA', 'NA', 'NA', 'NA', 'NA', 'NA', 'NA', 'NA', 'NA', 'NA', 'NA', 'NA', 'NA', 'NA', 'NA', 'NA', 'NA', 'NA', 'NA', 'NA']\n",
      "Name: 1540\n",
      "Medaille 1540\n",
      "Pays 1540\n",
      "Resultat 1540\n",
      "Sport 1540\n",
      "Epreuve 1540\n",
      "Position 1540\n",
      "Scrapping:natation/100m-dos-f\n",
      "1\n",
      "1\n",
      "1\n",
      "cas individuel\n",
      "['Gold', 'Silver', 'Bronze', 'NA', 'NA', 'NA', 'NA', 'NA']\n",
      "Name: 1548\n",
      "Medaille 1548\n",
      "Pays 1548\n",
      "Resultat 1548\n",
      "Sport 1548\n",
      "Epreuve 1548\n",
      "Position 1548\n",
      "Scrapping:canoe-sprint/canoe-simple-200m-f\n"
     ]
    },
    {
     "name": "stderr",
     "output_type": "stream",
     "text": [
      " 26%|██▋       | 89/338 [00:17<00:42,  5.90it/s]"
     ]
    },
    {
     "name": "stdout",
     "output_type": "stream",
     "text": [
      "1\n",
      "1\n",
      "1\n",
      "cas individuel\n",
      "['Gold', 'Silver', 'Bronze', 'NA', 'NA', 'NA', 'NA', 'NA', 'NA', 'NA', 'NA', 'NA', 'NA', 'NA', 'NA', 'NA', 'NA', 'NA', 'NA', 'NA', 'NA', 'NA', 'NA', 'NA', 'NA', 'NA', 'NA', 'NA', 'NA', 'NA', 'NA', 'NA']\n",
      "Name: 1580\n",
      "Medaille 1580\n",
      "Pays 1580\n",
      "Resultat 1580\n",
      "Sport 1580\n",
      "Epreuve 1580\n",
      "Position 1580\n",
      "Scrapping:cyclisme-bmx-freestyle/park-f\n"
     ]
    },
    {
     "name": "stderr",
     "output_type": "stream",
     "text": [
      " 27%|██▋       | 91/338 [00:18<00:44,  5.56it/s]"
     ]
    },
    {
     "name": "stdout",
     "output_type": "stream",
     "text": [
      "1\n",
      "1\n",
      "1\n",
      "cas individuel\n",
      "['Gold', 'Silver', 'Bronze', 'NA', 'NA', 'NA', 'NA', 'NA', 'NA']\n",
      "Name: 1589\n",
      "Medaille 1589\n",
      "Pays 1589\n",
      "Resultat 1589\n",
      "Sport 1589\n",
      "Epreuve 1589\n",
      "Position 1589\n",
      "Scrapping:natation/400m-nage-libre-h\n",
      "1\n",
      "1\n",
      "1\n",
      "cas individuel\n",
      "['Gold', 'Silver', 'Bronze', 'NA', 'NA', 'NA', 'NA', 'NA']\n",
      "Name: 1597\n",
      "Medaille 1597\n",
      "Pays 1597\n",
      "Resultat 1597\n",
      "Sport 1597\n",
      "Epreuve 1597\n",
      "Position 1597\n",
      "Scrapping:voile/laser-radial-f\n"
     ]
    },
    {
     "name": "stderr",
     "output_type": "stream",
     "text": [
      " 27%|██▋       | 92/338 [00:18<00:47,  5.20it/s]"
     ]
    },
    {
     "name": "stdout",
     "output_type": "stream",
     "text": [
      "1\n",
      "1\n",
      "1\n",
      "cas individuel\n",
      "['Gold', 'Silver', 'Bronze', 'NA', 'NA', 'NA', 'NA', 'NA', 'NA', 'NA', 'NA', 'NA', 'NA', 'NA', 'NA', 'NA', 'NA', 'NA', 'NA', 'NA', 'NA', 'NA', 'NA', 'NA', 'NA', 'NA', 'NA', 'NA', 'NA', 'NA', 'NA', 'NA', 'NA', 'NA', 'NA', 'NA', 'NA', 'NA', 'NA', 'NA', 'NA', 'NA', 'NA', 'NA']\n",
      "Name: 1641\n",
      "Medaille 1641\n",
      "Pays 1641\n",
      "Resultat 1641\n",
      "Sport 1641\n",
      "Epreuve 1641\n",
      "Position 1641\n",
      "Scrapping:cyclisme-sur-piste/omnium-f\n"
     ]
    },
    {
     "name": "stderr",
     "output_type": "stream",
     "text": [
      " 28%|██▊       | 95/338 [00:19<00:50,  4.77it/s]"
     ]
    },
    {
     "name": "stdout",
     "output_type": "stream",
     "text": [
      "1\n",
      "1\n",
      "1\n",
      "cas individuel\n",
      "['Gold', 'Silver', 'Bronze', 'NA', 'NA', 'NA', 'NA', 'NA', 'NA', 'NA', 'NA', 'NA', 'NA', 'NA', 'NA', 'NA', 'NA', 'NA', 'NA', 'NA', 'NA']\n",
      "Name: 1662\n",
      "Medaille 1662\n",
      "Pays 1662\n",
      "Resultat 1662\n",
      "Sport 1662\n",
      "Epreuve 1662\n",
      "Position 1662\n",
      "Scrapping:plongeon/tremplin-3m-h\n",
      "1\n",
      "1\n",
      "1\n",
      "cas individuel\n",
      "['Gold', 'Silver', 'Bronze', 'NA', 'NA', 'NA', 'NA', 'NA', 'NA', 'NA', 'NA', 'NA', 'NA', 'NA', 'NA', 'NA', 'NA', 'NA', 'NA', 'NA', 'NA', 'NA', 'NA', 'NA', 'NA', 'NA', 'NA', 'NA', 'NA']\n",
      "Name: 1691\n",
      "Medaille 1691\n",
      "Pays 1691\n",
      "Resultat 1691\n",
      "Sport 1691\n",
      "Epreuve 1691\n",
      "Position 1691\n"
     ]
    },
    {
     "name": "stderr",
     "output_type": "stream",
     "text": [
      " 29%|██▊       | 97/338 [00:19<00:43,  5.60it/s]"
     ]
    },
    {
     "name": "stdout",
     "output_type": "stream",
     "text": [
      "Scrapping:natation/200m-4-nages-individuel-h\n",
      "1\n",
      "1\n",
      "1\n",
      "cas individuel\n",
      "['Gold', 'Silver', 'Bronze', 'NA', 'NA', 'NA', 'NA', 'NA']\n",
      "Name: 1699\n",
      "Medaille 1699\n",
      "Pays 1699\n",
      "Resultat 1699\n",
      "Sport 1699\n",
      "Epreuve 1699\n",
      "Position 1699\n",
      "Scrapping:lutte/libre-53kg-f\n"
     ]
    },
    {
     "name": "stderr",
     "output_type": "stream",
     "text": [
      " 30%|██▉       | 101/338 [00:19<00:29,  7.94it/s]"
     ]
    },
    {
     "name": "stdout",
     "output_type": "stream",
     "text": [
      "1\n",
      "1\n",
      "2\n",
      "cas individuel\n",
      "['Gold', 'Silver', 'Bronze', 'Bronze', 'NA', 'NA', 'NA', 'NA', 'NA', 'NA', 'NA', 'NA', 'NA', 'NA', 'NA', 'NA']\n",
      "Name: 1715\n",
      "Medaille 1715\n",
      "Pays 1715\n",
      "Resultat 1715\n",
      "Sport 1715\n",
      "Epreuve 1715\n",
      "Position 1715\n",
      "Scrapping:taekwondo/80kg-h\n",
      "1\n",
      "1\n",
      "2\n",
      "cas individuel\n",
      "['Gold', 'Silver', 'Bronze', 'Bronze', 'NA', 'NA', 'NA', 'NA', 'NA', 'NA', 'NA', 'NA', 'NA', 'NA', 'NA', 'NA']\n",
      "Name: 1731\n",
      "Medaille 1731\n",
      "Pays 1731\n",
      "Resultat 1731\n",
      "Sport 1731\n",
      "Epreuve 1731\n",
      "Position 1731\n",
      "Scrapping:athletisme/1500m-h\n"
     ]
    },
    {
     "name": "stderr",
     "output_type": "stream",
     "text": [
      " 30%|███       | 102/338 [00:20<00:45,  5.21it/s]"
     ]
    },
    {
     "name": "stdout",
     "output_type": "stream",
     "text": [
      "1\n",
      "1\n",
      "1\n",
      "cas individuel\n",
      "['Gold', 'Silver', 'Bronze', 'NA', 'NA', 'NA', 'NA', 'NA', 'NA', 'NA', 'NA', 'NA', 'NA']\n",
      "Name: 1744\n",
      "Medaille 1744\n",
      "Pays 1744\n",
      "Resultat 1744\n",
      "Sport 1744\n",
      "Epreuve 1744\n",
      "Position 1744\n",
      "Scrapping:lutte/greco-romaine-130kg-h\n"
     ]
    },
    {
     "name": "stderr",
     "output_type": "stream",
     "text": [
      " 30%|███       | 103/338 [00:20<00:49,  4.72it/s]"
     ]
    },
    {
     "name": "stdout",
     "output_type": "stream",
     "text": [
      "1\n",
      "1\n",
      "2\n",
      "cas individuel\n",
      "['Gold', 'Silver', 'Bronze', 'Bronze', 'NA', 'NA', 'NA', 'NA', 'NA', 'NA', 'NA', 'NA', 'NA', 'NA', 'NA', 'NA']\n",
      "Name: 1760\n",
      "Medaille 1760\n",
      "Pays 1760\n",
      "Resultat 1760\n",
      "Sport 1760\n",
      "Epreuve 1760\n",
      "Position 1760\n",
      "Scrapping:canoe-sprint/kayak-simple-1000m-h\n"
     ]
    },
    {
     "name": "stderr",
     "output_type": "stream",
     "text": [
      " 31%|███       | 105/338 [00:20<00:51,  4.55it/s]"
     ]
    },
    {
     "name": "stdout",
     "output_type": "stream",
     "text": [
      "1\n",
      "1\n",
      "1\n",
      "cas individuel\n",
      "['Gold', 'Silver', 'Bronze', 'NA', 'NA', 'NA', 'NA', 'NA', 'NA', 'NA', 'NA', 'NA', 'NA', 'NA', 'NA', 'NA', 'NA', 'NA', 'NA', 'NA', 'NA', 'NA', 'NA', 'NA', 'NA', 'NA', 'NA']\n",
      "Name: 1787\n",
      "Medaille 1787\n",
      "Pays 1787\n",
      "Resultat 1787\n",
      "Sport 1787\n",
      "Epreuve 1787\n",
      "Position 1787\n",
      "Scrapping:natation/100m-papillon-h\n",
      "1\n",
      "1\n",
      "1\n",
      "cas individuel\n",
      "['Gold', 'Silver', 'Bronze', 'NA', 'NA', 'NA', 'NA', 'NA']\n",
      "Name: 1795\n",
      "Medaille 1795\n",
      "Pays 1795\n",
      "Resultat 1795\n",
      "Sport 1795\n",
      "Epreuve 1795\n",
      "Position 1795\n",
      "Scrapping:voile/rs-x-h\n"
     ]
    },
    {
     "name": "stderr",
     "output_type": "stream",
     "text": [
      " 32%|███▏      | 107/338 [00:21<00:48,  4.78it/s]"
     ]
    },
    {
     "name": "stdout",
     "output_type": "stream",
     "text": [
      "1\n",
      "1\n",
      "1\n",
      "cas individuel\n",
      "['Gold', 'Silver', 'Bronze', 'NA', 'NA', 'NA', 'NA', 'NA', 'NA', 'NA', 'NA', 'NA', 'NA', 'NA', 'NA', 'NA', 'NA', 'NA', 'NA', 'NA', 'NA', 'NA', 'NA', 'NA', 'NA']\n",
      "Name: 1820\n",
      "Medaille 1820\n",
      "Pays 1820\n",
      "Resultat 1820\n",
      "Sport 1820\n",
      "Epreuve 1820\n",
      "Position 1820\n",
      "Scrapping:judo/52kg-f\n",
      "1\n",
      "1\n",
      "2\n",
      "cas individuel\n",
      "['Gold', 'Silver', 'Bronze', 'Bronze', 'NA', 'NA', 'NA', 'NA', 'NA', 'NA', 'NA', 'NA', 'NA', 'NA', 'NA', 'NA', 'NA', 'NA', 'NA', 'NA', 'NA', 'NA', 'NA', 'NA', 'NA', 'NA', 'NA', 'NA', 'NA']\n",
      "Name: 1849\n",
      "Medaille 1849\n",
      "Pays 1849\n",
      "Resultat 1849\n",
      "Sport 1849\n",
      "Epreuve 1849\n",
      "Position 1849\n"
     ]
    },
    {
     "name": "stderr",
     "output_type": "stream",
     "text": [
      " 32%|███▏      | 108/338 [00:21<00:47,  4.89it/s]"
     ]
    },
    {
     "name": "stdout",
     "output_type": "stream",
     "text": [
      "Scrapping:tir/pistolet-air-comprime-10m-equipe-mixte\n",
      "1\n",
      "1\n",
      "1\n",
      "cas team\n",
      "['Gold', 'Gold', 'Silver', 'Silver', 'Bronze', 'Bronze', 'NA', 'NA', 'NA', 'NA', 'NA', 'NA', 'NA', 'NA', 'NA', 'NA', 'NA', 'NA', 'NA', 'NA', 'NA', 'NA', 'NA', 'NA', 'NA', 'NA', 'NA', 'NA', 'NA', 'NA', 'NA', 'NA', 'NA', 'NA', 'NA', 'NA', 'NA', 'NA', 'NA', 'NA']\n",
      "Name: 1889\n",
      "Medaille 1889\n",
      "Pays 1889\n",
      "Resultat 1889\n",
      "Sport 1889\n",
      "Epreuve 1889\n",
      "Position 1889\n",
      "Scrapping:aviron/deux-de-couple-h\n"
     ]
    },
    {
     "name": "stderr",
     "output_type": "stream",
     "text": [
      " 33%|███▎      | 110/338 [00:21<00:44,  5.11it/s]"
     ]
    },
    {
     "name": "stdout",
     "output_type": "stream",
     "text": [
      "1\n",
      "1\n",
      "1\n",
      "cas team\n",
      "['Gold', 'Gold', 'Silver', 'Silver', 'Bronze', 'Bronze', 'NA', 'NA', 'NA', 'NA', 'NA', 'NA', 'NA', 'NA', 'NA', 'NA', 'NA', 'NA', 'NA', 'NA', 'NA', 'NA', 'NA', 'NA', 'NA', 'NA']\n",
      "Name: 1915\n",
      "Medaille 1915\n",
      "Pays 1915\n",
      "Resultat 1915\n",
      "Sport 1915\n",
      "Epreuve 1915\n",
      "Position 1915\n",
      "Scrapping:natation/200m-dos-f\n",
      "1\n",
      "1\n",
      "1\n",
      "cas individuel\n",
      "['Gold', 'Silver', 'Bronze', 'NA', 'NA', 'NA', 'NA', 'NA']\n",
      "Name: 1923\n",
      "Medaille 1923\n",
      "Pays 1923\n",
      "Resultat 1923\n",
      "Sport 1923\n",
      "Epreuve 1923\n",
      "Position 1923\n",
      "Scrapping:halterophilie/87kg-f\n"
     ]
    },
    {
     "name": "stderr",
     "output_type": "stream",
     "text": [
      " 33%|███▎      | 112/338 [00:22<00:48,  4.61it/s]"
     ]
    },
    {
     "name": "stdout",
     "output_type": "stream",
     "text": [
      "1\n",
      "1\n",
      "1\n",
      "cas individuel\n",
      "['Gold', 'Silver', 'Bronze', 'NA', 'NA', 'NA', 'NA', 'NA', 'NA', 'NA', 'NA', 'NA', 'NA']\n",
      "Name: 1936\n",
      "Medaille 1936\n",
      "Pays 1936\n",
      "Resultat 1936\n",
      "Sport 1936\n",
      "Epreuve 1936\n",
      "Position 1936\n",
      "Scrapping:lutte/greco-romaine-97kg-h\n",
      "1\n",
      "1\n",
      "2\n",
      "cas individuel\n",
      "['Gold', 'Silver', 'Bronze', 'Bronze', 'NA', 'NA', 'NA', 'NA', 'NA', 'NA', 'NA', 'NA', 'NA', 'NA', 'NA', 'NA']\n",
      "Name: 1952\n",
      "Medaille 1952\n",
      "Pays 1952\n",
      "Resultat 1952\n",
      "Sport 1952\n",
      "Epreuve 1952\n",
      "Position 1952\n",
      "Scrapping:gymnastique-artistique/barres-paralleles-h\n"
     ]
    },
    {
     "name": "stderr",
     "output_type": "stream",
     "text": [
      " 33%|███▎      | 113/338 [00:22<00:53,  4.20it/s]"
     ]
    },
    {
     "name": "stdout",
     "output_type": "stream",
     "text": [
      "1\n",
      "1\n",
      "1\n",
      "cas individuel\n",
      "['Gold', 'Silver', 'Bronze', 'NA', 'NA', 'NA', 'NA', 'NA']\n",
      "Name: 1960\n",
      "Medaille 1960\n",
      "Pays 1960\n",
      "Resultat 1960\n",
      "Sport 1960\n",
      "Epreuve 1960\n",
      "Position 1960\n",
      "Scrapping:tennis/double-mixte\n"
     ]
    },
    {
     "name": "stderr",
     "output_type": "stream",
     "text": [
      " 34%|███▎      | 114/338 [00:22<00:55,  4.03it/s]"
     ]
    },
    {
     "name": "stdout",
     "output_type": "stream",
     "text": [
      "1\n",
      "1\n",
      "1\n",
      "cas team\n",
      "['Gold', 'Gold', 'Silver', 'Silver', 'Bronze', 'Bronze', 'NA', 'NA', 'NA', 'NA', 'NA', 'NA', 'NA', 'NA', 'NA', 'NA', 'NA', 'NA', 'NA', 'NA', 'NA', 'NA', 'NA', 'NA', 'NA', 'NA', 'NA', 'NA', 'NA', 'NA', 'NA', 'NA']\n",
      "Name: 1992\n",
      "Medaille 1992\n",
      "Pays 1992\n",
      "Resultat 1992\n",
      "Sport 1992\n",
      "Epreuve 1992\n",
      "Position 1992\n",
      "Scrapping:canoe-sprint/kayak-simple-200m-h\n",
      "1\n",
      "1\n",
      "1\n",
      "cas individuel\n",
      "['Gold', 'Silver', 'Bronze', 'NA', 'NA', 'NA', 'NA', 'NA', 'NA', 'NA', 'NA', 'NA', 'NA', 'NA', 'NA', 'NA', 'NA', 'NA', 'NA', 'NA', 'NA', 'NA', 'NA', 'NA', 'NA']\n",
      "Name: 2017\n",
      "Medaille 2017\n",
      "Pays 2017\n",
      "Resultat 2017\n",
      "Sport 2017\n",
      "Epreuve 2017\n",
      "Position 2017\n"
     ]
    },
    {
     "name": "stderr",
     "output_type": "stream",
     "text": [
      " 34%|███▍      | 116/338 [00:23<00:48,  4.59it/s]"
     ]
    },
    {
     "name": "stdout",
     "output_type": "stream",
     "text": [
      "Scrapping:tennis-de-table/double-mixte\n",
      "1\n",
      "1\n",
      "1\n",
      "cas team\n",
      "['Gold', 'Gold', 'Silver', 'Silver', 'Bronze', 'Bronze', 'NA', 'NA', 'NA', 'NA', 'NA', 'NA', 'NA', 'NA', 'NA', 'NA', 'NA', 'NA', 'NA', 'NA', 'NA', 'NA', 'NA', 'NA', 'NA', 'NA', 'NA', 'NA', 'NA', 'NA', 'NA', 'NA']\n",
      "Name: 2049\n",
      "Medaille 2049\n",
      "Pays 2049\n",
      "Resultat 2049\n",
      "Sport 2049\n",
      "Epreuve 2049\n",
      "Position 2049\n",
      "Scrapping:canoe-sprint/kayak-double-1000m-h\n"
     ]
    },
    {
     "name": "stderr",
     "output_type": "stream",
     "text": [
      " 35%|███▍      | 118/338 [00:23<00:35,  6.20it/s]"
     ]
    },
    {
     "name": "stdout",
     "output_type": "stream",
     "text": [
      "1\n",
      "1\n",
      "1\n",
      "cas team\n",
      "['Gold', 'Gold', 'Silver', 'Silver', 'Bronze', 'Bronze', 'NA', 'NA', 'NA', 'NA', 'NA', 'NA', 'NA', 'NA', 'NA', 'NA', 'NA', 'NA', 'NA', 'NA', 'NA', 'NA', 'NA', 'NA', 'NA', 'NA', 'NA', 'NA', 'NA', 'NA', 'NA', 'NA']\n",
      "Name: 2081\n",
      "Medaille 2081\n",
      "Pays 2081\n",
      "Resultat 2081\n",
      "Sport 2081\n",
      "Epreuve 2081\n",
      "Position 2081\n",
      "Scrapping:cyclisme-sur-piste/keirin-h\n"
     ]
    },
    {
     "name": "stderr",
     "output_type": "stream",
     "text": [
      " 36%|███▌      | 121/338 [00:24<00:34,  6.24it/s]"
     ]
    },
    {
     "name": "stdout",
     "output_type": "stream",
     "text": [
      "1\n",
      "1\n",
      "1\n",
      "cas individuel\n",
      "['Gold', 'Silver', 'Bronze', 'NA', 'NA', 'NA', 'NA', 'NA', 'NA', 'NA', 'NA', 'NA', 'NA', 'NA', 'NA', 'NA', 'NA', 'NA', 'NA', 'NA', 'NA', 'NA', 'NA', 'NA', 'NA', 'NA', 'NA', 'NA', 'NA', 'NA']\n",
      "Name: 2111\n",
      "Medaille 2111\n",
      "Pays 2111\n",
      "Resultat 2111\n",
      "Sport 2111\n",
      "Epreuve 2111\n",
      "Position 2111\n",
      "Scrapping:judo/73kg-h\n",
      "1\n",
      "1\n",
      "2\n",
      "cas individuel\n",
      "['Gold', 'Silver', 'Bronze', 'Bronze', 'NA', 'NA', 'NA', 'NA', 'NA', 'NA', 'NA', 'NA', 'NA', 'NA', 'NA', 'NA', 'NA', 'NA', 'NA', 'NA', 'NA', 'NA', 'NA', 'NA', 'NA', 'NA', 'NA', 'NA', 'NA', 'NA', 'NA', 'NA', 'NA', 'NA', 'NA', 'NA']\n",
      "Name: 2147\n",
      "Medaille 2147\n",
      "Pays 2147\n",
      "Resultat 2147\n",
      "Sport 2147\n",
      "Epreuve 2147\n",
      "Position 2147\n"
     ]
    },
    {
     "name": "stderr",
     "output_type": "stream",
     "text": [
      " 36%|███▌      | 122/338 [00:24<00:34,  6.31it/s]"
     ]
    },
    {
     "name": "stdout",
     "output_type": "stream",
     "text": [
      "Scrapping:halterophilie/64kg-f\n",
      "1\n",
      "1\n",
      "1\n",
      "cas individuel\n",
      "['Gold', 'Silver', 'Bronze', 'NA', 'NA', 'NA', 'NA', 'NA', 'NA', 'NA', 'NA', 'NA', 'NA', 'NA']\n",
      "Name: 2161\n",
      "Medaille 2161\n",
      "Pays 2161\n",
      "Resultat 2161\n",
      "Sport 2161\n",
      "Epreuve 2161\n",
      "Position 2161\n",
      "Scrapping:cyclisme-bmx-freestyle/park-h\n"
     ]
    },
    {
     "name": "stderr",
     "output_type": "stream",
     "text": [
      " 36%|███▋      | 123/338 [00:24<00:33,  6.49it/s]"
     ]
    },
    {
     "name": "stdout",
     "output_type": "stream",
     "text": [
      "1\n",
      "1\n",
      "1\n",
      "cas individuel\n",
      "['Gold', 'Silver', 'Bronze', 'NA', 'NA', 'NA', 'NA', 'NA', 'NA']\n",
      "Name: 2170\n",
      "Medaille 2170\n",
      "Pays 2170\n",
      "Resultat 2170\n",
      "Sport 2170\n",
      "Epreuve 2170\n",
      "Position 2170\n",
      "Scrapping:pentathlon-moderne/individuel-h\n"
     ]
    },
    {
     "name": "stderr",
     "output_type": "stream",
     "text": [
      " 37%|███▋      | 126/338 [00:24<00:34,  6.13it/s]"
     ]
    },
    {
     "name": "stdout",
     "output_type": "stream",
     "text": [
      "1\n",
      "1\n",
      "1\n",
      "cas individuel\n",
      "['Gold', 'Silver', 'Bronze', 'NA', 'NA', 'NA', 'NA', 'NA', 'NA', 'NA', 'NA', 'NA', 'NA', 'NA', 'NA', 'NA', 'NA', 'NA', 'NA', 'NA', 'NA', 'NA', 'NA', 'NA', 'NA', 'NA', 'NA', 'NA', 'NA', 'NA', 'NA', 'NA', 'NA', 'NA', 'NA', 'NA']\n",
      "Name: 2206\n",
      "Medaille 2206\n",
      "Pays 2206\n",
      "Resultat 2206\n",
      "Sport 2206\n",
      "Epreuve 2206\n",
      "Position 2206\n",
      "Scrapping:boxe/mi-lourd-75-81kg-h\n",
      "1\n",
      "1\n",
      "2\n",
      "cas individuel\n",
      "['Gold', 'Silver', 'Bronze', 'Bronze', 'NA', 'NA', 'NA', 'NA', 'NA', 'NA', 'NA', 'NA', 'NA', 'NA', 'NA', 'NA', 'NA', 'NA', 'NA', 'NA', 'NA', 'NA']\n",
      "Name: 2228\n",
      "Medaille 2228\n",
      "Pays 2228\n",
      "Resultat 2228\n",
      "Sport 2228\n",
      "Epreuve 2228\n",
      "Position 2228\n",
      "Scrapping:plongeon/plateforme-10m-h\n"
     ]
    },
    {
     "name": "stderr",
     "output_type": "stream",
     "text": [
      " 38%|███▊      | 128/338 [00:25<00:34,  6.04it/s]"
     ]
    },
    {
     "name": "stdout",
     "output_type": "stream",
     "text": [
      "1\n",
      "1\n",
      "1\n",
      "cas individuel\n",
      "['Gold', 'Silver', 'Bronze', 'NA', 'NA', 'NA', 'NA', 'NA', 'NA', 'NA', 'NA', 'NA', 'NA', 'NA', 'NA', 'NA', 'NA', 'NA', 'NA', 'NA', 'NA', 'NA', 'NA', 'NA', 'NA', 'NA', 'NA', 'NA', 'NA']\n",
      "Name: 2257\n",
      "Medaille 2257\n",
      "Pays 2257\n",
      "Resultat 2257\n",
      "Sport 2257\n",
      "Epreuve 2257\n",
      "Position 2257\n",
      "Scrapping:lutte/libre-57kg-f\n",
      "1\n",
      "1\n",
      "2\n",
      "cas individuel\n",
      "['Gold', 'Silver', 'Bronze', 'Bronze', 'NA', 'NA', 'NA', 'NA', 'NA', 'NA', 'NA', 'NA', 'NA', 'NA', 'NA', 'NA']\n",
      "Name: 2273\n",
      "Medaille 2273\n",
      "Pays 2273\n",
      "Resultat 2273\n",
      "Sport 2273\n",
      "Epreuve 2273\n",
      "Position 2273\n",
      "Scrapping:canoe-slalom/canoe-f\n"
     ]
    },
    {
     "name": "stderr",
     "output_type": "stream",
     "text": [
      " 38%|███▊      | 130/338 [00:25<00:37,  5.55it/s]"
     ]
    },
    {
     "name": "stdout",
     "output_type": "stream",
     "text": [
      "1\n",
      "1\n",
      "1\n",
      "cas individuel\n",
      "['Gold', 'Silver', 'Bronze', 'NA', 'NA', 'NA', 'NA', 'NA', 'NA', 'NA', 'NA', 'NA', 'NA', 'NA', 'NA', 'NA', 'NA', 'NA', 'NA', 'NA', 'NA', 'NA']\n",
      "Name: 2295\n",
      "Medaille 2295\n",
      "Pays 2295\n",
      "Resultat 2295\n",
      "Sport 2295\n",
      "Epreuve 2295\n",
      "Position 2295\n",
      "Scrapping:canoe-sprint/canoe-double-500m-f\n",
      "1\n",
      "1\n",
      "1\n",
      "cas team\n",
      "['Gold', 'Gold', 'Silver', 'Silver', 'Bronze', 'Bronze', 'NA', 'NA', 'NA', 'NA', 'NA', 'NA', 'NA', 'NA', 'NA', 'NA', 'NA', 'NA', 'NA', 'NA', 'NA', 'NA', 'NA', 'NA', 'NA', 'NA', 'NA', 'NA']\n",
      "Name: 2323\n",
      "Medaille 2323\n",
      "Pays 2323\n",
      "Resultat 2323\n",
      "Sport 2323\n",
      "Epreuve 2323\n",
      "Position 2323\n"
     ]
    },
    {
     "name": "stderr",
     "output_type": "stream",
     "text": [
      " 39%|███▉      | 131/338 [00:25<00:35,  5.88it/s]"
     ]
    },
    {
     "name": "stdout",
     "output_type": "stream",
     "text": [
      "Scrapping:athletisme/200m-f\n",
      "1\n",
      "1\n",
      "1\n",
      "cas individuel\n",
      "['Gold', 'Silver', 'Bronze', 'NA', 'NA', 'NA', 'NA', 'NA']\n",
      "Name: 2331\n",
      "Medaille 2331\n",
      "Pays 2331\n",
      "Resultat 2331\n",
      "Sport 2331\n",
      "Epreuve 2331\n",
      "Position 2331\n",
      "Scrapping:athletisme/saut-en-longueur-h\n"
     ]
    },
    {
     "name": "stderr",
     "output_type": "stream",
     "text": [
      " 39%|███▉      | 133/338 [00:26<00:35,  5.81it/s]"
     ]
    },
    {
     "name": "stdout",
     "output_type": "stream",
     "text": [
      "1\n",
      "1\n",
      "1\n",
      "cas individuel\n",
      "['Gold', 'Silver', 'Bronze', 'NA', 'NA', 'NA', 'NA', 'NA', 'NA', 'NA', 'NA', 'NA']\n",
      "Name: 2343\n",
      "Medaille 2343\n",
      "Pays 2343\n",
      "Resultat 2343\n",
      "Sport 2343\n",
      "Epreuve 2343\n",
      "Position 2343\n",
      "Scrapping:gymnastique-artistique/concours-general-h\n",
      "1\n",
      "1\n",
      "1\n",
      "cas individuel\n",
      "['Gold', 'Silver', 'Bronze', 'NA', 'NA', 'NA', 'NA', 'NA', 'NA', 'NA', 'NA', 'NA', 'NA', 'NA', 'NA', 'NA', 'NA', 'NA', 'NA', 'NA', 'NA', 'NA', 'NA', 'NA']\n",
      "Name: 2367\n",
      "Medaille 2367\n",
      "Pays 2367\n",
      "Resultat 2367\n",
      "Sport 2367\n",
      "Epreuve 2367\n",
      "Position 2367\n",
      "Scrapping:natation/50m-nage-libre-f\n"
     ]
    },
    {
     "name": "stderr",
     "output_type": "stream",
     "text": [
      " 40%|███▉      | 134/338 [00:26<00:34,  5.92it/s]"
     ]
    },
    {
     "name": "stdout",
     "output_type": "stream",
     "text": [
      "1\n",
      "1\n",
      "1\n",
      "cas individuel\n",
      "['Gold', 'Silver', 'Bronze', 'NA', 'NA', 'NA', 'NA', 'NA']\n",
      "Name: 2375\n",
      "Medaille 2375\n",
      "Pays 2375\n",
      "Resultat 2375\n",
      "Sport 2375\n",
      "Epreuve 2375\n",
      "Position 2375\n",
      "Scrapping:athletisme/marathon-f\n"
     ]
    },
    {
     "name": "stderr",
     "output_type": "stream",
     "text": [
      " 41%|████      | 137/338 [00:26<00:37,  5.39it/s]"
     ]
    },
    {
     "name": "stdout",
     "output_type": "stream",
     "text": [
      "1\n",
      "1\n",
      "1\n",
      "cas individuel\n",
      "['Gold', 'Silver', 'Bronze', 'NA', 'NA', 'NA', 'NA', 'NA', 'NA', 'NA', 'NA', 'NA', 'NA', 'NA', 'NA', 'NA', 'NA', 'NA', 'NA', 'NA', 'NA', 'NA', 'NA', 'NA', 'NA', 'NA', 'NA', 'NA', 'NA', 'NA', 'NA', 'NA', 'NA', 'NA', 'NA', 'NA', 'NA', 'NA', 'NA', 'NA', 'NA', 'NA', 'NA', 'NA', 'NA', 'NA', 'NA', 'NA', 'NA', 'NA', 'NA', 'NA', 'NA', 'NA', 'NA', 'NA', 'NA', 'NA', 'NA', 'NA', 'NA', 'NA', 'NA', 'NA', 'NA', 'NA', 'NA', 'NA', 'NA', 'NA', 'NA', 'NA', 'NA', 'NA', 'NA', 'NA', 'NA', 'NA', 'NA', 'NA', 'NA', 'NA', 'NA', 'NA', 'NA', 'NA', 'NA', 'NA']\n",
      "Name: 2463\n",
      "Medaille 2463\n",
      "Pays 2463\n",
      "Resultat 2463\n",
      "Sport 2463\n",
      "Epreuve 2463\n",
      "Position 2463\n",
      "Scrapping:athletisme/100m-h\n",
      "1\n",
      "1\n",
      "1\n",
      "cas individuel\n",
      "['Gold', 'Silver', 'Bronze', 'NA', 'NA', 'NA', 'NA', 'NA']\n",
      "Name: 2471\n",
      "Medaille 2471\n",
      "Pays 2471\n",
      "Resultat 2471\n",
      "Sport 2471\n",
      "Epreuve 2471\n",
      "Position 2471\n",
      "Scrapping:karate/kumite-75kg-h\n"
     ]
    },
    {
     "name": "stderr",
     "output_type": "stream",
     "text": [
      " 42%|████▏     | 141/338 [00:27<00:23,  8.52it/s]"
     ]
    },
    {
     "name": "stdout",
     "output_type": "stream",
     "text": [
      "1\n",
      "1\n",
      "2\n",
      "cas individuel\n",
      "['Gold', 'Silver', 'Bronze', 'Bronze', 'NA', 'NA', 'NA', 'NA', 'NA', 'NA']\n",
      "Name: 2481\n",
      "Medaille 2481\n",
      "Pays 2481\n",
      "Resultat 2481\n",
      "Sport 2481\n",
      "Epreuve 2481\n",
      "Position 2481\n",
      "Scrapping:natation/100m-papillon-f\n",
      "1\n",
      "1\n",
      "1\n",
      "cas individuel\n",
      "['Gold', 'Silver', 'Bronze', 'NA', 'NA', 'NA', 'NA', 'NA']\n",
      "Name: 2489\n",
      "Medaille 2489\n",
      "Pays 2489\n",
      "Resultat 2489\n",
      "Sport 2489\n",
      "Epreuve 2489\n",
      "Position 2489\n",
      "Scrapping:gymnastique-artistique/barre-fixe-h\n"
     ]
    },
    {
     "name": "stderr",
     "output_type": "stream",
     "text": [
      " 42%|████▏     | 143/338 [00:27<00:20,  9.50it/s]"
     ]
    },
    {
     "name": "stdout",
     "output_type": "stream",
     "text": [
      "1\n",
      "1\n",
      "1\n",
      "cas individuel\n",
      "['Gold', 'Silver', 'Bronze', 'NA', 'NA', 'NA', 'NA', 'NA']\n",
      "Name: 2497\n",
      "Medaille 2497\n",
      "Pays 2497\n",
      "Resultat 2497\n",
      "Sport 2497\n",
      "Epreuve 2497\n",
      "Position 2497\n",
      "Scrapping:athletisme/triple-saut-h\n",
      "1\n",
      "1\n",
      "1\n",
      "cas individuel\n",
      "['Gold', 'Silver', 'Bronze', 'NA', 'NA', 'NA', 'NA', 'NA', 'NA', 'NA', 'NA', 'NA']\n",
      "Name: 2509\n",
      "Medaille 2509\n",
      "Pays 2509\n",
      "Resultat 2509\n",
      "Sport 2509\n",
      "Epreuve 2509\n",
      "Position 2509\n",
      "Scrapping:taekwondo/49kg-f\n"
     ]
    },
    {
     "name": "stderr",
     "output_type": "stream",
     "text": [
      " 43%|████▎     | 145/338 [00:27<00:22,  8.52it/s]"
     ]
    },
    {
     "name": "stdout",
     "output_type": "stream",
     "text": [
      "1\n",
      "1\n",
      "2\n",
      "cas individuel\n",
      "['Gold', 'Silver', 'Bronze', 'Bronze', 'NA', 'NA', 'NA', 'NA', 'NA', 'NA', 'NA', 'NA', 'NA', 'NA', 'NA', 'NA', 'NA']\n",
      "Name: 2526\n",
      "Medaille 2526\n",
      "Pays 2526\n",
      "Resultat 2526\n",
      "Sport 2526\n",
      "Epreuve 2526\n",
      "Position 2526\n",
      "Scrapping:judo/81kg-h\n"
     ]
    },
    {
     "name": "stderr",
     "output_type": "stream",
     "text": [
      " 43%|████▎     | 147/338 [00:27<00:22,  8.46it/s]"
     ]
    },
    {
     "name": "stdout",
     "output_type": "stream",
     "text": [
      "1\n",
      "1\n",
      "2\n",
      "cas individuel\n",
      "['Gold', 'Silver', 'Bronze', 'Bronze', 'NA', 'NA', 'NA', 'NA', 'NA', 'NA', 'NA', 'NA', 'NA', 'NA', 'NA', 'NA', 'NA', 'NA', 'NA', 'NA', 'NA', 'NA', 'NA', 'NA', 'NA', 'NA', 'NA', 'NA', 'NA', 'NA', 'NA', 'NA', 'NA', 'NA', 'NA']\n",
      "Name: 2561\n",
      "Medaille 2561\n",
      "Pays 2561\n",
      "Resultat 2561\n",
      "Sport 2561\n",
      "Epreuve 2561\n",
      "Position 2561\n",
      "Scrapping:cyclisme-sur-route/course-sur-route-h\n"
     ]
    },
    {
     "name": "stderr",
     "output_type": "stream",
     "text": [
      " 44%|████▍     | 148/338 [00:28<00:39,  4.77it/s]"
     ]
    },
    {
     "name": "stdout",
     "output_type": "stream",
     "text": [
      "1\n",
      "1\n",
      "1\n",
      "cas individuel\n",
      "['Gold', 'Silver', 'Bronze', 'NA', 'NA', 'NA', 'NA', 'NA', 'NA', 'NA', 'NA', 'NA', 'NA', 'NA', 'NA', 'NA', 'NA', 'NA', 'NA', 'NA', 'NA', 'NA', 'NA', 'NA', 'NA', 'NA', 'NA', 'NA', 'NA', 'NA', 'NA', 'NA', 'NA', 'NA', 'NA', 'NA', 'NA', 'NA', 'NA', 'NA', 'NA', 'NA', 'NA', 'NA', 'NA', 'NA', 'NA', 'NA', 'NA', 'NA', 'NA', 'NA', 'NA', 'NA', 'NA', 'NA', 'NA', 'NA', 'NA', 'NA', 'NA', 'NA', 'NA', 'NA', 'NA', 'NA', 'NA', 'NA', 'NA', 'NA', 'NA', 'NA', 'NA', 'NA', 'NA', 'NA', 'NA', 'NA', 'NA', 'NA', 'NA', 'NA', 'NA', 'NA', 'NA', 'NA', 'NA', 'NA', 'NA', 'NA', 'NA', 'NA', 'NA', 'NA', 'NA', 'NA', 'NA', 'NA', 'NA', 'NA', 'NA', 'NA', 'NA', 'NA', 'NA', 'NA', 'NA', 'NA', 'NA', 'NA', 'NA', 'NA', 'NA', 'NA', 'NA', 'NA', 'NA', 'NA', 'NA', 'NA', 'NA', 'NA', 'NA', 'NA', 'NA', 'NA', 'NA', 'NA']\n",
      "Name: 2689\n",
      "Medaille 2689\n",
      "Pays 2689\n",
      "Resultat 2689\n",
      "Sport 2689\n",
      "Epreuve 2689\n",
      "Position 2689\n",
      "Scrapping:lutte/libre-86kg-h\n",
      "1\n",
      "1\n",
      "2\n",
      "cas individuel\n",
      "['Gold', 'Silver', 'Bronze', 'Bronze', 'NA', 'NA', 'NA', 'NA', 'NA', 'NA', 'NA', 'NA', 'NA', 'NA', 'NA', 'NA']\n",
      "Name: 2705\n",
      "Medaille 2705\n",
      "Pays 2705\n",
      "Resultat 2705\n",
      "Sport 2705\n",
      "Epreuve 2705\n",
      "Position 2705\n"
     ]
    },
    {
     "name": "stderr",
     "output_type": "stream",
     "text": [
      " 44%|████▍     | 150/338 [00:28<00:37,  5.07it/s]"
     ]
    },
    {
     "name": "stdout",
     "output_type": "stream",
     "text": [
      "Scrapping:boxe/plume-54-57kg-f\n",
      "1\n",
      "1\n",
      "2\n",
      "cas individuel\n",
      "['Gold', 'Silver', 'Bronze', 'Bronze', 'NA', 'NA', 'NA', 'NA', 'NA', 'NA', 'NA', 'NA', 'NA', 'NA', 'NA', 'NA', 'NA', 'NA', 'NA', 'NA', 'NA']\n",
      "Name: 2726\n",
      "Medaille 2726\n",
      "Pays 2726\n",
      "Resultat 2726\n",
      "Sport 2726\n",
      "Epreuve 2726\n",
      "Position 2726\n",
      "Scrapping:athletisme/400m-h\n"
     ]
    },
    {
     "name": "stderr",
     "output_type": "stream",
     "text": [
      " 45%|████▍     | 151/338 [00:29<00:34,  5.46it/s]"
     ]
    },
    {
     "name": "stdout",
     "output_type": "stream",
     "text": [
      "1\n",
      "1\n",
      "1\n",
      "cas individuel\n",
      "['Gold', 'Silver', 'Bronze', 'NA', 'NA', 'NA', 'NA', 'NA']\n",
      "Name: 2734\n",
      "Medaille 2734\n",
      "Pays 2734\n",
      "Resultat 2734\n",
      "Sport 2734\n",
      "Epreuve 2734\n",
      "Position 2734\n",
      "Scrapping:golf/stroke-play-individuel-h\n"
     ]
    },
    {
     "name": "stderr",
     "output_type": "stream",
     "text": [
      " 45%|████▌     | 153/338 [00:29<00:36,  5.08it/s]"
     ]
    },
    {
     "name": "stdout",
     "output_type": "stream",
     "text": [
      "1\n",
      "1\n",
      "1\n",
      "cas individuel\n",
      "['Gold', 'Silver', 'Bronze', 'NA', 'NA', 'NA', 'NA', 'NA', 'NA', 'NA', 'NA', 'NA', 'NA', 'NA', 'NA', 'NA', 'NA', 'NA', 'NA', 'NA', 'NA', 'NA', 'NA', 'NA', 'NA', 'NA', 'NA', 'NA', 'NA', 'NA', 'NA', 'NA', 'NA', 'NA', 'NA', 'NA', 'NA', 'NA', 'NA', 'NA', 'NA', 'NA', 'NA', 'NA', 'NA', 'NA', 'NA', 'NA', 'NA', 'NA', 'NA', 'NA', 'NA', 'NA', 'NA', 'NA', 'NA', 'NA', 'NA', 'NA']\n",
      "Name: 2794\n",
      "Medaille 2794\n",
      "Pays 2794\n",
      "Resultat 2794\n",
      "Sport 2794\n",
      "Epreuve 2794\n",
      "Position 2794\n",
      "Scrapping:escalade/combine-f\n",
      "1\n",
      "1\n",
      "1\n",
      "cas individuel\n",
      "['Gold', 'Silver', 'Bronze', 'NA', 'NA', 'NA', 'NA', 'NA', 'NA', 'NA', 'NA', 'NA', 'NA', 'NA', 'NA', 'NA', 'NA', 'NA', 'NA', 'NA']\n",
      "Name: 2814\n",
      "Medaille 2814\n",
      "Pays 2814\n",
      "Resultat 2814\n",
      "Sport 2814\n",
      "Epreuve 2814\n",
      "Position 2814\n",
      "Scrapping:tir-a-l-arc/individuel-h\n"
     ]
    },
    {
     "name": "stderr",
     "output_type": "stream",
     "text": [
      " 46%|████▌     | 155/338 [00:29<00:36,  4.95it/s]"
     ]
    },
    {
     "name": "stdout",
     "output_type": "stream",
     "text": [
      "1\n",
      "1\n",
      "1\n",
      "cas individuel\n",
      "['Gold', 'Silver', 'Bronze', 'NA', 'NA', 'NA', 'NA', 'NA', 'NA', 'NA', 'NA', 'NA', 'NA', 'NA', 'NA', 'NA', 'NA', 'NA', 'NA', 'NA', 'NA', 'NA', 'NA', 'NA', 'NA', 'NA', 'NA', 'NA', 'NA', 'NA', 'NA', 'NA', 'NA', 'NA', 'NA', 'NA', 'NA', 'NA', 'NA', 'NA', 'NA', 'NA', 'NA', 'NA', 'NA', 'NA', 'NA', 'NA', 'NA', 'NA', 'NA', 'NA', 'NA', 'NA', 'NA', 'NA', 'NA', 'NA', 'NA', 'NA', 'NA', 'NA', 'NA', 'NA']\n",
      "Name: 2878\n",
      "Medaille 2878\n",
      "Pays 2878\n",
      "Resultat 2878\n",
      "Sport 2878\n",
      "Epreuve 2878\n",
      "Position 2878\n",
      "Scrapping:plongeon/tremplin-synchronise-3m-h\n",
      "1\n",
      "1\n",
      "1\n",
      "cas team\n",
      "['Gold', 'Gold', 'Silver', 'Silver', 'Bronze', 'Bronze', 'NA', 'NA', 'NA', 'NA', 'NA', 'NA', 'NA', 'NA', 'NA', 'NA']\n",
      "Name: 2894\n",
      "Medaille 2894\n",
      "Pays 2894\n",
      "Resultat 2894\n",
      "Sport 2894\n",
      "Epreuve 2894\n",
      "Position 2894\n",
      "Scrapping:voile/finn-h\n"
     ]
    },
    {
     "name": "stderr",
     "output_type": "stream",
     "text": [
      " 48%|████▊     | 161/338 [00:30<00:14, 12.43it/s]"
     ]
    },
    {
     "name": "stdout",
     "output_type": "stream",
     "text": [
      "1\n",
      "1\n",
      "1\n",
      "cas individuel\n",
      "['Gold', 'Silver', 'Bronze', 'NA', 'NA', 'NA', 'NA', 'NA', 'NA', 'NA', 'NA', 'NA', 'NA', 'NA', 'NA', 'NA', 'NA', 'NA', 'NA']\n",
      "Name: 2913\n",
      "Medaille 2913\n",
      "Pays 2913\n",
      "Resultat 2913\n",
      "Sport 2913\n",
      "Epreuve 2913\n",
      "Position 2913\n",
      "Scrapping:athletisme/saut-en-hauteur-h\n",
      "2\n",
      "0\n",
      "1\n",
      "cas individuel\n",
      "['Gold', 'Gold', 'Bronze', 'NA', 'NA', 'NA', 'NA', 'NA', 'NA', 'NA', 'NA', 'NA', 'NA']\n",
      "Name: 2926\n",
      "Medaille 2926\n",
      "Pays 2926\n",
      "Resultat 2926\n",
      "Sport 2926\n",
      "Epreuve 2926\n",
      "Position 2926\n",
      "Scrapping:karate/kata-h\n"
     ]
    },
    {
     "name": "stderr",
     "output_type": "stream",
     "text": [
      " 48%|████▊     | 163/338 [00:30<00:20,  8.58it/s]"
     ]
    },
    {
     "name": "stdout",
     "output_type": "stream",
     "text": [
      "1\n",
      "1\n",
      "2\n",
      "cas individuel\n",
      "['Gold', 'Silver', 'Bronze', 'Bronze', 'NA', 'NA', 'NA', 'NA', 'NA', 'NA', 'NA']\n",
      "Name: 2937\n",
      "Medaille 2937\n",
      "Pays 2937\n",
      "Resultat 2937\n",
      "Sport 2937\n",
      "Epreuve 2937\n",
      "Position 2937\n",
      "Scrapping:judo/78-kg-f\n",
      "1\n",
      "1\n",
      "2\n",
      "cas individuel\n",
      "['Gold', 'Silver', 'Bronze', 'Bronze', 'NA', 'NA', 'NA', 'NA', 'NA', 'NA', 'NA', 'NA', 'NA', 'NA', 'NA', 'NA', 'NA', 'NA', 'NA', 'NA', 'NA', 'NA', 'NA', 'NA']\n",
      "Name: 2961\n",
      "Medaille 2961\n",
      "Pays 2961\n",
      "Resultat 2961\n",
      "Sport 2961\n",
      "Epreuve 2961\n",
      "Position 2961\n"
     ]
    },
    {
     "name": "stderr",
     "output_type": "stream",
     "text": [
      " 49%|████▉     | 165/338 [00:30<00:18,  9.57it/s]"
     ]
    },
    {
     "name": "stdout",
     "output_type": "stream",
     "text": [
      "Scrapping:athletisme/200m-h\n",
      "1\n",
      "1\n",
      "1\n",
      "cas individuel\n",
      "['Gold', 'Silver', 'Bronze', 'NA', 'NA', 'NA', 'NA', 'NA']\n",
      "Name: 2969\n",
      "Medaille 2969\n",
      "Pays 2969\n",
      "Resultat 2969\n",
      "Sport 2969\n",
      "Epreuve 2969\n",
      "Position 2969\n",
      "Scrapping:athletisme/10000m-h\n"
     ]
    },
    {
     "name": "stderr",
     "output_type": "stream",
     "text": [
      " 49%|████▉     | 167/338 [00:31<00:22,  7.72it/s]"
     ]
    },
    {
     "name": "stdout",
     "output_type": "stream",
     "text": [
      "1\n",
      "1\n",
      "1\n",
      "cas individuel\n",
      "['Gold', 'Silver', 'Bronze', 'NA', 'NA', 'NA', 'NA', 'NA', 'NA', 'NA', 'NA', 'NA', 'NA', 'NA', 'NA', 'NA', 'NA', 'NA', 'NA', 'NA', 'NA', 'NA', 'NA', 'NA', 'NA']\n",
      "Name: 2994\n",
      "Medaille 2994\n",
      "Pays 2994\n",
      "Resultat 2994\n",
      "Sport 2994\n",
      "Epreuve 2994\n",
      "Position 2994\n",
      "Scrapping:lutte/libre-50kg-f\n",
      "1\n",
      "1\n",
      "2\n",
      "cas individuel\n",
      "['Gold', 'Silver', 'Bronze', 'Bronze', 'NA', 'NA', 'NA', 'NA', 'NA', 'NA', 'NA', 'NA', 'NA', 'NA', 'NA', 'NA']\n",
      "Name: 3010\n",
      "Medaille 3010\n",
      "Pays 3010\n",
      "Resultat 3010\n",
      "Sport 3010\n",
      "Epreuve 3010\n",
      "Position 3010\n",
      "Scrapping:athletisme/800m-h\n"
     ]
    },
    {
     "name": "stderr",
     "output_type": "stream",
     "text": [
      " 51%|█████     | 171/338 [00:31<00:18,  9.05it/s]"
     ]
    },
    {
     "name": "stdout",
     "output_type": "stream",
     "text": [
      "1\n",
      "1\n",
      "1\n",
      "cas individuel\n",
      "['Gold', 'Silver', 'Bronze', 'NA', 'NA', 'NA', 'NA', 'NA', 'NA']\n",
      "Name: 3019\n",
      "Medaille 3019\n",
      "Pays 3019\n",
      "Resultat 3019\n",
      "Sport 3019\n",
      "Epreuve 3019\n",
      "Position 3019\n",
      "Scrapping:halterophilie/61kg-h\n",
      "1\n",
      "1\n",
      "1\n",
      "cas individuel\n",
      "['Gold', 'Silver', 'Bronze', 'NA', 'NA', 'NA', 'NA', 'NA', 'NA', 'NA', 'NA', 'NA', 'NA', 'NA']\n",
      "Name: 3033\n",
      "Medaille 3033\n",
      "Pays 3033\n",
      "Resultat 3033\n",
      "Sport 3033\n",
      "Epreuve 3033\n",
      "Position 3033\n",
      "Scrapping:lutte/libre-97kg-h\n",
      "1\n",
      "1\n",
      "2\n",
      "cas individuel\n",
      "['Gold', 'Silver', 'Bronze', 'Bronze', 'NA', 'NA', 'NA', 'NA', 'NA', 'NA', 'NA', 'NA', 'NA', 'NA', 'NA', 'NA']\n",
      "Name: 3049\n",
      "Medaille 3049\n",
      "Pays 3049\n",
      "Resultat 3049\n",
      "Sport 3049\n",
      "Epreuve 3049\n",
      "Position 3049\n",
      "Scrapping:tir-a-l-arc/individuel-f\n"
     ]
    },
    {
     "name": "stderr",
     "output_type": "stream",
     "text": [
      " 51%|█████     | 173/338 [00:31<00:22,  7.39it/s]"
     ]
    },
    {
     "name": "stdout",
     "output_type": "stream",
     "text": [
      "1\n",
      "1\n",
      "1\n",
      "cas individuel\n",
      "['Gold', 'Silver', 'Bronze', 'NA', 'NA', 'NA', 'NA', 'NA', 'NA', 'NA', 'NA', 'NA', 'NA', 'NA', 'NA', 'NA', 'NA', 'NA', 'NA', 'NA', 'NA', 'NA', 'NA', 'NA', 'NA', 'NA', 'NA', 'NA', 'NA', 'NA', 'NA', 'NA', 'NA', 'NA', 'NA', 'NA', 'NA', 'NA', 'NA', 'NA', 'NA', 'NA', 'NA', 'NA', 'NA', 'NA', 'NA', 'NA', 'NA', 'NA', 'NA', 'NA', 'NA', 'NA', 'NA', 'NA', 'NA', 'NA', 'NA', 'NA', 'NA', 'NA', 'NA', 'NA']\n",
      "Name: 3113\n",
      "Medaille 3113\n",
      "Pays 3113\n",
      "Resultat 3113\n",
      "Sport 3113\n",
      "Epreuve 3113\n",
      "Position 3113\n",
      "Scrapping:tir/10m-carabine-air-femme\n"
     ]
    },
    {
     "name": "stderr",
     "output_type": "stream",
     "text": [
      " 52%|█████▏    | 175/338 [00:32<00:21,  7.48it/s]"
     ]
    },
    {
     "name": "stdout",
     "output_type": "stream",
     "text": [
      "1\n",
      "1\n",
      "1\n",
      "cas individuel\n",
      "['Gold', 'Silver', 'Bronze', 'NA', 'NA', 'NA', 'NA', 'NA', 'NA', 'NA', 'NA', 'NA', 'NA', 'NA', 'NA', 'NA', 'NA', 'NA', 'NA', 'NA', 'NA', 'NA', 'NA', 'NA', 'NA', 'NA', 'NA', 'NA', 'NA', 'NA', 'NA', 'NA', 'NA', 'NA', 'NA', 'NA', 'NA', 'NA', 'NA', 'NA', 'NA', 'NA', 'NA', 'NA', 'NA', 'NA', 'NA', 'NA', 'NA', 'NA']\n",
      "Name: 3163\n",
      "Medaille 3163\n",
      "Pays 3163\n",
      "Resultat 3163\n",
      "Sport 3163\n",
      "Epreuve 3163\n",
      "Position 3163\n",
      "Scrapping:voile/nacra-17-mixte\n"
     ]
    },
    {
     "name": "stderr",
     "output_type": "stream",
     "text": [
      " 53%|█████▎    | 178/338 [00:32<00:22,  7.15it/s]"
     ]
    },
    {
     "name": "stdout",
     "output_type": "stream",
     "text": [
      "1\n",
      "1\n",
      "1\n",
      "cas team\n",
      "['Gold', 'Gold', 'Silver', 'Silver', 'Bronze', 'Bronze', 'NA', 'NA', 'NA', 'NA', 'NA', 'NA', 'NA', 'NA', 'NA', 'NA', 'NA', 'NA', 'NA', 'NA', 'NA', 'NA', 'NA', 'NA', 'NA', 'NA', 'NA', 'NA', 'NA', 'NA', 'NA', 'NA', 'NA', 'NA', 'NA', 'NA', 'NA', 'NA', 'NA', 'NA']\n",
      "Name: 3203\n",
      "Medaille 3203\n",
      "Pays 3203\n",
      "Resultat 3203\n",
      "Sport 3203\n",
      "Epreuve 3203\n",
      "Position 3203\n",
      "Scrapping:athletisme/100m-haies-f\n",
      "1\n",
      "1\n",
      "1\n",
      "cas individuel\n",
      "['Gold', 'Silver', 'Bronze', 'NA', 'NA', 'NA', 'NA', 'NA']\n",
      "Name: 3211\n",
      "Medaille 3211\n",
      "Pays 3211\n",
      "Resultat 3211\n",
      "Sport 3211\n",
      "Epreuve 3211\n",
      "Position 3211\n",
      "Scrapping:natation/400m-4-nages-individuel-h\n"
     ]
    },
    {
     "name": "stderr",
     "output_type": "stream",
     "text": [
      " 53%|█████▎    | 180/338 [00:32<00:24,  6.52it/s]"
     ]
    },
    {
     "name": "stdout",
     "output_type": "stream",
     "text": [
      "1\n",
      "1\n",
      "1\n",
      "cas individuel\n",
      "['Gold', 'Silver', 'Bronze', 'NA', 'NA', 'NA', 'NA', 'NA']\n",
      "Name: 3219\n",
      "Medaille 3219\n",
      "Pays 3219\n",
      "Resultat 3219\n",
      "Sport 3219\n",
      "Epreuve 3219\n",
      "Position 3219\n",
      "Scrapping:lutte/greco-romaine-60kg-h\n",
      "1\n",
      "1\n",
      "2\n",
      "cas individuel\n",
      "['Gold', 'Silver', 'Bronze', 'Bronze', 'NA', 'NA', 'NA', 'NA', 'NA', 'NA', 'NA', 'NA', 'NA', 'NA', 'NA', 'NA']\n",
      "Name: 3235\n",
      "Medaille 3235\n",
      "Pays 3235\n",
      "Resultat 3235\n",
      "Sport 3235\n",
      "Epreuve 3235\n",
      "Position 3235\n",
      "Scrapping:badminton/simple-f\n"
     ]
    },
    {
     "name": "stderr",
     "output_type": "stream",
     "text": [
      " 54%|█████▍    | 183/338 [00:33<00:19,  8.07it/s]"
     ]
    },
    {
     "name": "stdout",
     "output_type": "stream",
     "text": [
      "1\n",
      "1\n",
      "1\n",
      "cas individuel\n",
      "['Gold', 'Silver', 'Bronze', 'NA', 'NA', 'NA', 'NA', 'NA', 'NA', 'NA', 'NA', 'NA', 'NA', 'NA', 'NA', 'NA', 'NA', 'NA', 'NA', 'NA', 'NA', 'NA', 'NA', 'NA', 'NA', 'NA', 'NA', 'NA', 'NA', 'NA', 'NA', 'NA', 'NA', 'NA', 'NA', 'NA', 'NA', 'NA', 'NA', 'NA', 'NA', 'NA', 'NA']\n",
      "Name: 3278\n",
      "Medaille 3278\n",
      "Pays 3278\n",
      "Resultat 3278\n",
      "Sport 3278\n",
      "Epreuve 3278\n",
      "Position 3278\n",
      "Scrapping:tir/carabine-50m-3-positions-h\n"
     ]
    },
    {
     "name": "stderr",
     "output_type": "stream",
     "text": [
      " 55%|█████▍    | 185/338 [00:33<00:22,  6.86it/s]"
     ]
    },
    {
     "name": "stdout",
     "output_type": "stream",
     "text": [
      "1\n",
      "1\n",
      "1\n",
      "cas individuel\n",
      "['Gold', 'Silver', 'Bronze', 'NA', 'NA', 'NA', 'NA', 'NA', 'NA', 'NA', 'NA', 'NA', 'NA', 'NA', 'NA', 'NA', 'NA', 'NA', 'NA', 'NA', 'NA', 'NA', 'NA', 'NA', 'NA', 'NA', 'NA', 'NA', 'NA', 'NA', 'NA', 'NA', 'NA', 'NA', 'NA', 'NA', 'NA', 'NA', 'NA']\n",
      "Name: 3317\n",
      "Medaille 3317\n",
      "Pays 3317\n",
      "Resultat 3317\n",
      "Sport 3317\n",
      "Epreuve 3317\n",
      "Position 3317\n",
      "Scrapping:natation/200m-papillon-f\n",
      "1\n",
      "1\n",
      "1\n",
      "cas individuel\n",
      "['Gold', 'Silver', 'Bronze', 'NA', 'NA', 'NA', 'NA', 'NA']\n",
      "Name: 3325\n",
      "Medaille 3325\n",
      "Pays 3325\n",
      "Resultat 3325\n",
      "Sport 3325\n",
      "Epreuve 3325\n",
      "Position 3325\n",
      "Scrapping:judo/60kg-h\n"
     ]
    },
    {
     "name": "stderr",
     "output_type": "stream",
     "text": [
      " 56%|█████▌    | 189/338 [00:34<00:17,  8.30it/s]"
     ]
    },
    {
     "name": "stdout",
     "output_type": "stream",
     "text": [
      "1\n",
      "1\n",
      "2\n",
      "cas individuel\n",
      "['Gold', 'Silver', 'Bronze', 'Bronze', 'NA', 'NA', 'NA', 'NA', 'NA', 'NA', 'NA', 'NA', 'NA', 'NA', 'NA', 'NA', 'NA', 'NA', 'NA', 'NA', 'NA', 'NA', 'NA']\n",
      "Name: 3348\n",
      "Medaille 3348\n",
      "Pays 3348\n",
      "Resultat 3348\n",
      "Sport 3348\n",
      "Epreuve 3348\n",
      "Position 3348\n",
      "Scrapping:badminton/double-f\n",
      "1\n",
      "1\n",
      "1\n",
      "cas team\n",
      "['Gold', 'Gold', 'Silver', 'Silver', 'Bronze', 'Bronze', 'NA', 'NA', 'NA', 'NA', 'NA', 'NA', 'NA', 'NA', 'NA', 'NA', 'NA', 'NA', 'NA', 'NA', 'NA', 'NA', 'NA', 'NA', 'NA', 'NA', 'NA', 'NA', 'NA', 'NA', 'NA', 'NA']\n",
      "Name: 3380\n",
      "Medaille 3380\n",
      "Pays 3380\n",
      "Resultat 3380\n",
      "Sport 3380\n",
      "Epreuve 3380\n",
      "Position 3380\n",
      "Scrapping:tir/trap-h\n"
     ]
    },
    {
     "name": "stderr",
     "output_type": "stream",
     "text": [
      " 57%|█████▋    | 191/338 [00:34<00:28,  5.20it/s]"
     ]
    },
    {
     "name": "stdout",
     "output_type": "stream",
     "text": [
      "1\n",
      "1\n",
      "1\n",
      "cas individuel\n",
      "['Gold', 'Silver', 'Bronze', 'NA', 'NA', 'NA', 'NA', 'NA', 'NA', 'NA', 'NA', 'NA', 'NA', 'NA', 'NA', 'NA', 'NA', 'NA', 'NA', 'NA', 'NA', 'NA', 'NA', 'NA', 'NA', 'NA', 'NA', 'NA', 'NA']\n",
      "Name: 3409\n",
      "Medaille 3409\n",
      "Pays 3409\n",
      "Resultat 3409\n",
      "Sport 3409\n",
      "Epreuve 3409\n",
      "Position 3409\n",
      "Scrapping:halterophilie/81kg-h\n",
      "1\n",
      "1\n",
      "1\n",
      "cas individuel\n",
      "['Gold', 'Silver', 'Bronze', 'NA', 'NA', 'NA', 'NA', 'NA', 'NA', 'NA', 'NA', 'NA', 'NA', 'NA']\n",
      "Name: 3423\n",
      "Medaille 3423\n",
      "Pays 3423\n",
      "Resultat 3423\n",
      "Sport 3423\n",
      "Epreuve 3423\n",
      "Position 3423\n",
      "Scrapping:lutte/libre-62kg-f\n"
     ]
    },
    {
     "name": "stderr",
     "output_type": "stream",
     "text": [
      " 58%|█████▊    | 195/338 [00:35<00:21,  6.74it/s]"
     ]
    },
    {
     "name": "stdout",
     "output_type": "stream",
     "text": [
      "1\n",
      "1\n",
      "2\n",
      "cas individuel\n",
      "['Gold', 'Silver', 'Bronze', 'Bronze', 'NA', 'NA', 'NA', 'NA', 'NA', 'NA', 'NA', 'NA', 'NA', 'NA', 'NA', 'NA']\n",
      "Name: 3439\n",
      "Medaille 3439\n",
      "Pays 3439\n",
      "Resultat 3439\n",
      "Sport 3439\n",
      "Epreuve 3439\n",
      "Position 3439\n",
      "Scrapping:aviron/deux-de-couple-poids-leger-f\n",
      "1\n",
      "1\n",
      "1\n",
      "cas team\n",
      "['Gold', 'Gold', 'Silver', 'Silver', 'Bronze', 'Bronze', 'NA', 'NA', 'NA', 'NA', 'NA', 'NA', 'NA', 'NA', 'NA', 'NA', 'NA', 'NA', 'NA', 'NA', 'NA', 'NA', 'NA', 'NA', 'NA', 'NA', 'NA', 'NA', 'NA', 'NA', 'NA', 'NA', 'NA', 'NA', 'NA', 'NA']\n",
      "Name: 3475\n",
      "Medaille 3475\n",
      "Pays 3475\n",
      "Resultat 3475\n",
      "Sport 3475\n",
      "Epreuve 3475\n",
      "Position 3475\n"
     ]
    },
    {
     "name": "stderr",
     "output_type": "stream",
     "text": [
      " 58%|█████▊    | 196/338 [00:35<00:21,  6.64it/s]"
     ]
    },
    {
     "name": "stdout",
     "output_type": "stream",
     "text": [
      "Scrapping:skateboard/park-h\n",
      "1\n",
      "1\n",
      "1\n",
      "cas individuel\n",
      "['Gold', 'Silver', 'Bronze', 'NA', 'NA', 'NA', 'NA', 'NA', 'NA', 'NA', 'NA', 'NA', 'NA', 'NA', 'NA', 'NA', 'NA', 'NA', 'NA', 'NA']\n",
      "Name: 3495\n",
      "Medaille 3495\n",
      "Pays 3495\n",
      "Resultat 3495\n",
      "Sport 3495\n",
      "Epreuve 3495\n",
      "Position 3495\n",
      "Scrapping:lutte/greco-romaine-77kg-h\n"
     ]
    },
    {
     "name": "stderr",
     "output_type": "stream",
     "text": [
      " 59%|█████▊    | 198/338 [00:35<00:22,  6.25it/s]"
     ]
    },
    {
     "name": "stdout",
     "output_type": "stream",
     "text": [
      "1\n",
      "1\n",
      "2\n",
      "cas individuel\n",
      "['Gold', 'Silver', 'Bronze', 'Bronze', 'NA', 'NA', 'NA', 'NA', 'NA', 'NA', 'NA', 'NA', 'NA', 'NA', 'NA', 'NA']\n",
      "Name: 3511\n",
      "Medaille 3511\n",
      "Pays 3511\n",
      "Resultat 3511\n",
      "Sport 3511\n",
      "Epreuve 3511\n",
      "Position 3511\n",
      "Scrapping:voile/470-f\n",
      "1\n",
      "1\n",
      "1\n",
      "cas team\n",
      "['Gold', 'Gold', 'Silver', 'Silver', 'Bronze', 'Bronze', 'NA', 'NA', 'NA', 'NA', 'NA', 'NA', 'NA', 'NA', 'NA', 'NA', 'NA', 'NA', 'NA', 'NA', 'NA', 'NA', 'NA', 'NA', 'NA', 'NA', 'NA', 'NA', 'NA', 'NA', 'NA', 'NA', 'NA', 'NA', 'NA', 'NA', 'NA', 'NA', 'NA', 'NA', 'NA', 'NA']\n",
      "Name: 3553\n",
      "Medaille 3553\n",
      "Pays 3553\n",
      "Resultat 3553\n",
      "Sport 3553\n",
      "Epreuve 3553\n",
      "Position 3553\n"
     ]
    },
    {
     "name": "stderr",
     "output_type": "stream",
     "text": [
      " 59%|█████▉    | 200/338 [00:35<00:18,  7.51it/s]"
     ]
    },
    {
     "name": "stdout",
     "output_type": "stream",
     "text": [
      "Scrapping:badminton/double-h\n",
      "1\n",
      "1\n",
      "1\n",
      "cas team\n",
      "['Gold', 'Gold', 'Silver', 'Silver', 'Bronze', 'Bronze', 'NA', 'NA', 'NA', 'NA', 'NA', 'NA', 'NA', 'NA', 'NA', 'NA', 'NA', 'NA', 'NA', 'NA', 'NA', 'NA', 'NA', 'NA', 'NA', 'NA', 'NA', 'NA', 'NA', 'NA', 'NA', 'NA']\n",
      "Name: 3585\n",
      "Medaille 3585\n",
      "Pays 3585\n",
      "Resultat 3585\n",
      "Sport 3585\n",
      "Epreuve 3585\n",
      "Position 3585\n"
     ]
    },
    {
     "name": "stderr",
     "output_type": "stream",
     "text": [
      " 60%|█████▉    | 202/338 [00:36<00:16,  8.31it/s]"
     ]
    },
    {
     "name": "stdout",
     "output_type": "stream",
     "text": [
      "Scrapping:tir/50m-carabine-3-positions-femme\n",
      "1\n",
      "1\n",
      "1\n",
      "cas individuel\n",
      "['Gold', 'Silver', 'Bronze', 'NA', 'NA', 'NA', 'NA', 'NA', 'NA', 'NA', 'NA', 'NA', 'NA', 'NA', 'NA', 'NA', 'NA', 'NA', 'NA', 'NA', 'NA', 'NA', 'NA', 'NA', 'NA', 'NA', 'NA', 'NA', 'NA', 'NA', 'NA', 'NA', 'NA', 'NA', 'NA', 'NA', 'NA']\n",
      "Name: 3622\n",
      "Medaille 3622\n",
      "Pays 3622\n",
      "Resultat 3622\n",
      "Sport 3622\n",
      "Epreuve 3622\n",
      "Position 3622\n"
     ]
    },
    {
     "name": "stderr",
     "output_type": "stream",
     "text": [
      " 60%|██████    | 203/338 [00:36<00:16,  8.27it/s]"
     ]
    },
    {
     "name": "stdout",
     "output_type": "stream",
     "text": [
      "Scrapping:natation/400m-4-nages-individuel-f\n",
      "1\n",
      "1\n",
      "1\n",
      "cas individuel\n",
      "['Gold', 'Silver', 'Bronze', 'NA', 'NA', 'NA', 'NA', 'NA']\n",
      "Name: 3630\n",
      "Medaille 3630\n",
      "Pays 3630\n",
      "Resultat 3630\n",
      "Sport 3630\n",
      "Epreuve 3630\n",
      "Position 3630\n",
      "Scrapping:tir-a-l-arc/equipe-mixte\n"
     ]
    },
    {
     "name": "stderr",
     "output_type": "stream",
     "text": [
      " 60%|██████    | 204/338 [00:36<00:19,  6.84it/s]"
     ]
    },
    {
     "name": "stdout",
     "output_type": "stream",
     "text": [
      "1\n",
      "1\n",
      "1\n",
      "cas team\n",
      "['Gold', 'Gold', 'Silver', 'Silver', 'Bronze', 'Bronze', 'NA', 'NA', 'NA', 'NA', 'NA', 'NA', 'NA', 'NA', 'NA', 'NA', 'NA', 'NA', 'NA', 'NA', 'NA', 'NA', 'NA', 'NA', 'NA', 'NA', 'NA', 'NA', 'NA', 'NA', 'NA', 'NA', 'NA', 'NA', 'NA', 'NA', 'NA', 'NA', 'NA', 'NA', 'NA', 'NA', 'NA', 'NA', 'NA', 'NA', 'NA', 'NA', 'NA', 'NA', 'NA', 'NA', 'NA', 'NA', 'NA', 'NA', 'NA', 'NA']\n",
      "Name: 3688\n",
      "Medaille 3688\n",
      "Pays 3688\n",
      "Resultat 3688\n",
      "Sport 3688\n",
      "Epreuve 3688\n",
      "Position 3688\n",
      "Scrapping:taekwondo/68kg-h\n"
     ]
    },
    {
     "name": "stderr",
     "output_type": "stream",
     "text": [
      " 61%|██████    | 206/338 [00:36<00:23,  5.63it/s]"
     ]
    },
    {
     "name": "stdout",
     "output_type": "stream",
     "text": [
      "1\n",
      "1\n",
      "2\n",
      "cas individuel\n",
      "['Gold', 'Silver', 'Bronze', 'Bronze', 'NA', 'NA', 'NA', 'NA', 'NA', 'NA', 'NA', 'NA', 'NA', 'NA', 'NA', 'NA', 'NA']\n",
      "Name: 3705\n",
      "Medaille 3705\n",
      "Pays 3705\n",
      "Resultat 3705\n",
      "Sport 3705\n",
      "Epreuve 3705\n",
      "Position 3705\n",
      "Scrapping:taekwondo/plus-de-80kg-h\n",
      "1\n",
      "1\n",
      "2\n",
      "cas individuel\n",
      "['Gold', 'Silver', 'Bronze', 'Bronze', 'NA', 'NA', 'NA', 'NA', 'NA', 'NA', 'NA', 'NA', 'NA', 'NA', 'NA', 'NA']\n",
      "Name: 3721\n",
      "Medaille 3721\n",
      "Pays 3721\n",
      "Resultat 3721\n",
      "Sport 3721\n",
      "Epreuve 3721\n",
      "Position 3721\n",
      "Scrapping:cyclisme-sur-piste/madison-f\n"
     ]
    },
    {
     "name": "stderr",
     "output_type": "stream",
     "text": [
      " 62%|██████▏   | 208/338 [00:37<00:21,  6.00it/s]"
     ]
    },
    {
     "name": "stdout",
     "output_type": "stream",
     "text": [
      "1\n",
      "1\n",
      "1\n",
      "cas team\n",
      "['Gold', 'Gold', 'Silver', 'Silver', 'Bronze', 'Bronze', 'NA', 'NA', 'NA', 'NA', 'NA', 'NA', 'NA', 'NA', 'NA', 'NA', 'NA', 'NA', 'NA', 'NA', 'NA', 'NA', 'NA', 'NA', 'NA', 'NA', 'NA', 'NA', 'NA', 'NA']\n",
      "Name: 3751\n",
      "Medaille 3751\n",
      "Pays 3751\n",
      "Resultat 3751\n",
      "Sport 3751\n",
      "Epreuve 3751\n",
      "Position 3751\n",
      "Scrapping:tennis/simple-h\n"
     ]
    },
    {
     "name": "stderr",
     "output_type": "stream",
     "text": [
      " 62%|██████▏   | 211/338 [00:37<00:18,  6.69it/s]"
     ]
    },
    {
     "name": "stdout",
     "output_type": "stream",
     "text": [
      "1\n",
      "1\n",
      "1\n",
      "cas individuel\n",
      "['Gold', 'Silver', 'Bronze', 'NA', 'NA', 'NA', 'NA', 'NA', 'NA', 'NA', 'NA', 'NA', 'NA', 'NA', 'NA', 'NA', 'NA', 'NA', 'NA', 'NA', 'NA', 'NA', 'NA', 'NA', 'NA', 'NA', 'NA', 'NA', 'NA', 'NA', 'NA', 'NA', 'NA', 'NA', 'NA', 'NA', 'NA', 'NA', 'NA', 'NA', 'NA', 'NA', 'NA', 'NA', 'NA', 'NA', 'NA', 'NA', 'NA', 'NA', 'NA', 'NA', 'NA', 'NA', 'NA', 'NA', 'NA', 'NA', 'NA', 'NA', 'NA', 'NA', 'NA', 'NA']\n",
      "Name: 3815\n",
      "Medaille 3815\n",
      "Pays 3815\n",
      "Resultat 3815\n",
      "Sport 3815\n",
      "Epreuve 3815\n",
      "Position 3815\n",
      "Scrapping:lutte/greco-romaine-67kg-h\n",
      "1\n",
      "1\n",
      "2\n",
      "cas individuel\n",
      "['Gold', 'Silver', 'Bronze', 'Bronze', 'NA', 'NA', 'NA', 'NA', 'NA', 'NA', 'NA', 'NA', 'NA', 'NA', 'NA', 'NA', 'NA']\n",
      "Name: 3832\n",
      "Medaille 3832\n",
      "Pays 3832\n",
      "Resultat 3832\n",
      "Sport 3832\n",
      "Epreuve 3832\n",
      "Position 3832\n",
      "Scrapping:taekwondo/plus-de-67kg-f\n"
     ]
    },
    {
     "name": "stderr",
     "output_type": "stream",
     "text": [
      " 63%|██████▎   | 213/338 [00:37<00:19,  6.46it/s]"
     ]
    },
    {
     "name": "stdout",
     "output_type": "stream",
     "text": [
      "1\n",
      "1\n",
      "2\n",
      "cas individuel\n",
      "['Gold', 'Silver', 'Bronze', 'Bronze', 'NA', 'NA', 'NA', 'NA', 'NA', 'NA', 'NA', 'NA', 'NA', 'NA', 'NA']\n",
      "Name: 3847\n",
      "Medaille 3847\n",
      "Pays 3847\n",
      "Resultat 3847\n",
      "Sport 3847\n",
      "Epreuve 3847\n",
      "Position 3847\n",
      "Scrapping:boxe/welter-64-69kg-f\n",
      "1\n",
      "1\n",
      "2\n",
      "cas individuel\n",
      "['Gold', 'Silver', 'Bronze', 'Bronze', 'NA', 'NA', 'NA', 'NA', 'NA', 'NA', 'NA', 'NA', 'NA', 'NA', 'NA', 'NA', 'NA', 'NA']\n",
      "Name: 3865\n",
      "Medaille 3865\n",
      "Pays 3865\n",
      "Resultat 3865\n",
      "Sport 3865\n",
      "Epreuve 3865\n",
      "Position 3865\n",
      "Scrapping:boxe/moyen-69-75kg-h\n"
     ]
    },
    {
     "name": "stderr",
     "output_type": "stream",
     "text": [
      " 64%|██████▎   | 215/338 [00:38<00:20,  5.99it/s]"
     ]
    },
    {
     "name": "stdout",
     "output_type": "stream",
     "text": [
      "1\n",
      "1\n",
      "2\n",
      "cas individuel\n",
      "['Gold', 'Silver', 'Bronze', 'Bronze', 'NA', 'NA', 'NA', 'NA', 'NA', 'NA', 'NA', 'NA', 'NA', 'NA', 'NA', 'NA', 'NA', 'NA', 'NA', 'NA', 'NA', 'NA', 'NA', 'NA', 'NA']\n",
      "Name: 3890\n",
      "Medaille 3890\n",
      "Pays 3890\n",
      "Resultat 3890\n",
      "Sport 3890\n",
      "Epreuve 3890\n",
      "Position 3890\n",
      "Scrapping:karate/kumite-plus-de-61kg-f\n",
      "1\n",
      "1\n",
      "2\n",
      "cas individuel\n",
      "['Gold', 'Silver', 'Bronze', 'Bronze', 'NA', 'NA', 'NA', 'NA', 'NA', 'NA']\n",
      "Name: 3900\n",
      "Medaille 3900\n",
      "Pays 3900\n",
      "Resultat 3900\n",
      "Sport 3900\n",
      "Epreuve 3900\n",
      "Position 3900\n",
      "Scrapping:natation/800m-nage-libre-h\n"
     ]
    },
    {
     "name": "stderr",
     "output_type": "stream",
     "text": [
      " 64%|██████▍   | 217/338 [00:38<00:19,  6.34it/s]"
     ]
    },
    {
     "name": "stdout",
     "output_type": "stream",
     "text": [
      "1\n",
      "1\n",
      "1\n",
      "cas individuel\n",
      "['Gold', 'Silver', 'Bronze', 'NA', 'NA', 'NA', 'NA', 'NA']\n",
      "Name: 3908\n",
      "Medaille 3908\n",
      "Pays 3908\n",
      "Resultat 3908\n",
      "Sport 3908\n",
      "Epreuve 3908\n",
      "Position 3908\n",
      "Scrapping:athletisme/lancer-du-marteau-h\n",
      "1\n",
      "1\n",
      "1\n",
      "cas individuel\n",
      "['Gold', 'Silver', 'Bronze', 'NA', 'NA', 'NA', 'NA', 'NA', 'NA', 'NA', 'NA', 'NA']\n",
      "Name: 3920\n",
      "Medaille 3920\n",
      "Pays 3920\n",
      "Resultat 3920\n",
      "Sport 3920\n",
      "Epreuve 3920\n",
      "Position 3920\n",
      "Scrapping:aviron/skiff-h\n"
     ]
    },
    {
     "name": "stderr",
     "output_type": "stream",
     "text": [
      " 64%|██████▍   | 218/338 [00:38<00:23,  5.00it/s]"
     ]
    },
    {
     "name": "stdout",
     "output_type": "stream",
     "text": [
      "1\n",
      "1\n",
      "1\n",
      "cas individuel\n",
      "['Gold', 'Silver', 'Bronze', 'NA', 'NA', 'NA', 'NA', 'NA', 'NA', 'NA', 'NA', 'NA', 'NA', 'NA', 'NA', 'NA', 'NA', 'NA', 'NA', 'NA', 'NA', 'NA', 'NA', 'NA', 'NA', 'NA', 'NA', 'NA', 'NA', 'NA', 'NA', 'NA']\n",
      "Name: 3952\n",
      "Medaille 3952\n",
      "Pays 3952\n",
      "Resultat 3952\n",
      "Sport 3952\n",
      "Epreuve 3952\n",
      "Position 3952\n",
      "Scrapping:escrime/epee-individuel-f\n"
     ]
    },
    {
     "name": "stderr",
     "output_type": "stream",
     "text": [
      " 65%|██████▍   | 219/338 [00:39<00:27,  4.38it/s]"
     ]
    },
    {
     "name": "stdout",
     "output_type": "stream",
     "text": [
      "1\n",
      "1\n",
      "1\n",
      "cas individuel\n",
      "['Gold', 'Silver', 'Bronze', 'NA', 'NA', 'NA', 'NA', 'NA', 'NA', 'NA', 'NA', 'NA', 'NA', 'NA', 'NA', 'NA', 'NA', 'NA', 'NA', 'NA', 'NA', 'NA', 'NA', 'NA', 'NA', 'NA', 'NA', 'NA', 'NA', 'NA', 'NA', 'NA', 'NA', 'NA']\n",
      "Name: 3986\n",
      "Medaille 3986\n",
      "Pays 3986\n",
      "Resultat 3986\n",
      "Sport 3986\n",
      "Epreuve 3986\n",
      "Position 3986\n",
      "Scrapping:cyclisme-sur-route/contre-la-montre-individuel-h\n"
     ]
    },
    {
     "name": "stderr",
     "output_type": "stream",
     "text": [
      " 65%|██████▌   | 221/338 [00:39<00:20,  5.65it/s]"
     ]
    },
    {
     "name": "stdout",
     "output_type": "stream",
     "text": [
      "1\n",
      "1\n",
      "1\n",
      "cas individuel\n",
      "['Gold', 'Silver', 'Bronze', 'NA', 'NA', 'NA', 'NA', 'NA', 'NA', 'NA', 'NA', 'NA', 'NA', 'NA', 'NA', 'NA', 'NA', 'NA', 'NA', 'NA', 'NA', 'NA', 'NA', 'NA', 'NA', 'NA', 'NA', 'NA', 'NA', 'NA', 'NA', 'NA', 'NA', 'NA', 'NA', 'NA', 'NA', 'NA', 'NA']\n",
      "Name: 4025\n",
      "Medaille 4025\n",
      "Pays 4025\n",
      "Resultat 4025\n",
      "Sport 4025\n",
      "Epreuve 4025\n",
      "Position 4025\n",
      "Scrapping:cyclisme-sur-piste/sprint-f\n",
      "1\n",
      "1\n",
      "1\n",
      "cas individuel\n",
      "['Gold', 'Silver', 'Bronze', 'NA', 'NA', 'NA', 'NA', 'NA', 'NA', 'NA', 'NA', 'NA', 'NA', 'NA', 'NA', 'NA', 'NA', 'NA', 'NA', 'NA', 'NA', 'NA', 'NA', 'NA', 'NA', 'NA', 'NA', 'NA', 'NA', 'NA']\n",
      "Name: 4055\n",
      "Medaille 4055\n",
      "Pays 4055\n",
      "Resultat 4055\n",
      "Sport 4055\n",
      "Epreuve 4055\n",
      "Position 4055\n"
     ]
    },
    {
     "name": "stderr",
     "output_type": "stream",
     "text": [
      " 66%|██████▌   | 222/338 [00:39<00:21,  5.33it/s]"
     ]
    },
    {
     "name": "stdout",
     "output_type": "stream",
     "text": [
      "Scrapping:boxe/mouche-48-51kg-f\n"
     ]
    },
    {
     "name": "stderr",
     "output_type": "stream",
     "text": [
      " 66%|██████▋   | 224/338 [00:39<00:20,  5.49it/s]"
     ]
    },
    {
     "name": "stdout",
     "output_type": "stream",
     "text": [
      "1\n",
      "1\n",
      "2\n",
      "cas individuel\n",
      "['Gold', 'Silver', 'Bronze', 'Bronze', 'NA', 'NA', 'NA', 'NA', 'NA', 'NA', 'NA', 'NA', 'NA', 'NA', 'NA', 'NA', 'NA', 'NA', 'NA', 'NA', 'NA', 'NA', 'NA', 'NA', 'NA', 'NA']\n",
      "Name: 4081\n",
      "Medaille 4081\n",
      "Pays 4081\n",
      "Resultat 4081\n",
      "Sport 4081\n",
      "Epreuve 4081\n",
      "Position 4081\n",
      "Scrapping:natation/100m-brasse-h\n",
      "1\n",
      "1\n",
      "1\n",
      "cas individuel\n",
      "['Gold', 'Silver', 'Bronze', 'NA', 'NA', 'NA', 'NA', 'NA']\n",
      "Name: 4089\n",
      "Medaille 4089\n",
      "Pays 4089\n",
      "Resultat 4089\n",
      "Sport 4089\n",
      "Epreuve 4089\n",
      "Position 4089\n",
      "Scrapping:plongeon/tremplin-synchronise-3m-f\n"
     ]
    },
    {
     "name": "stderr",
     "output_type": "stream",
     "text": [
      " 67%|██████▋   | 225/338 [00:40<00:19,  5.79it/s]"
     ]
    },
    {
     "name": "stdout",
     "output_type": "stream",
     "text": [
      "1\n",
      "1\n",
      "1\n",
      "cas team\n",
      "['Gold', 'Gold', 'Silver', 'Silver', 'Bronze', 'Bronze', 'NA', 'NA', 'NA', 'NA', 'NA', 'NA', 'NA', 'NA', 'NA', 'NA']\n",
      "Name: 4105\n",
      "Medaille 4105\n",
      "Pays 4105\n",
      "Resultat 4105\n",
      "Sport 4105\n",
      "Epreuve 4105\n",
      "Position 4105\n",
      "Scrapping:volleyball-de-plage/femme\n",
      "1\n",
      "1\n",
      "1\n",
      "cas team\n",
      "['Gold', 'Gold', 'Silver', 'Silver', 'Bronze', 'Bronze', 'NA', 'NA', 'NA', 'NA', 'NA', 'NA', 'NA', 'NA', 'NA', 'NA', 'NA', 'NA', 'NA', 'NA', 'NA', 'NA', 'NA', 'NA', 'NA', 'NA', 'NA', 'NA', 'NA', 'NA', 'NA', 'NA', 'NA', 'NA', 'NA', 'NA', 'NA', 'NA', 'NA', 'NA', 'NA', 'NA', 'NA', 'NA', 'NA', 'NA', 'NA', 'NA']\n",
      "Name: 4153\n",
      "Medaille 4153\n",
      "Pays 4153\n",
      "Resultat 4153\n",
      "Sport 4153\n",
      "Epreuve 4153\n",
      "Position 4153\n"
     ]
    },
    {
     "name": "stderr",
     "output_type": "stream",
     "text": [
      " 67%|██████▋   | 226/338 [00:40<00:20,  5.53it/s]"
     ]
    },
    {
     "name": "stdout",
     "output_type": "stream",
     "text": [
      "Scrapping:athletisme/marathon-h\n"
     ]
    },
    {
     "name": "stderr",
     "output_type": "stream",
     "text": [
      " 67%|██████▋   | 228/338 [00:40<00:25,  4.27it/s]"
     ]
    },
    {
     "name": "stdout",
     "output_type": "stream",
     "text": [
      "1\n",
      "1\n",
      "1\n",
      "cas individuel\n",
      "['Gold', 'Silver', 'Bronze', 'NA', 'NA', 'NA', 'NA', 'NA', 'NA', 'NA', 'NA', 'NA', 'NA', 'NA', 'NA', 'NA', 'NA', 'NA', 'NA', 'NA', 'NA', 'NA', 'NA', 'NA', 'NA', 'NA', 'NA', 'NA', 'NA', 'NA', 'NA', 'NA', 'NA', 'NA', 'NA', 'NA', 'NA', 'NA', 'NA', 'NA', 'NA', 'NA', 'NA', 'NA', 'NA', 'NA', 'NA', 'NA', 'NA', 'NA', 'NA', 'NA', 'NA', 'NA', 'NA', 'NA', 'NA', 'NA', 'NA', 'NA', 'NA', 'NA', 'NA', 'NA', 'NA', 'NA', 'NA', 'NA', 'NA', 'NA', 'NA', 'NA', 'NA', 'NA', 'NA', 'NA', 'NA', 'NA', 'NA', 'NA', 'NA', 'NA', 'NA', 'NA', 'NA', 'NA', 'NA', 'NA', 'NA', 'NA', 'NA', 'NA', 'NA', 'NA', 'NA', 'NA', 'NA', 'NA', 'NA', 'NA', 'NA', 'NA', 'NA', 'NA', 'NA', 'NA']\n",
      "Name: 4259\n",
      "Medaille 4259\n",
      "Pays 4259\n",
      "Resultat 4259\n",
      "Sport 4259\n",
      "Epreuve 4259\n",
      "Position 4259\n",
      "Scrapping:athletisme/saut-a-la-perche-f\n",
      "1\n",
      "1\n",
      "1\n",
      "cas individuel\n",
      "['Gold', 'Silver', 'Bronze', 'NA', 'NA', 'NA', 'NA', 'NA', 'NA', 'NA', 'NA', 'NA', 'NA', 'NA', 'NA']\n",
      "Name: 4274\n",
      "Medaille 4274\n",
      "Pays 4274\n",
      "Resultat 4274\n",
      "Sport 4274\n",
      "Epreuve 4274\n",
      "Position 4274\n",
      "Scrapping:tir/pistolet-25m-f\n"
     ]
    },
    {
     "name": "stderr",
     "output_type": "stream",
     "text": [
      " 68%|██████▊   | 229/338 [00:41<00:24,  4.45it/s]"
     ]
    },
    {
     "name": "stdout",
     "output_type": "stream",
     "text": [
      "1\n",
      "1\n",
      "1\n",
      "cas individuel\n",
      "['Gold', 'Silver', 'Bronze', 'NA', 'NA', 'NA', 'NA', 'NA', 'NA', 'NA', 'NA', 'NA', 'NA', 'NA', 'NA', 'NA', 'NA', 'NA', 'NA', 'NA', 'NA', 'NA', 'NA', 'NA', 'NA', 'NA', 'NA', 'NA', 'NA', 'NA', 'NA', 'NA', 'NA', 'NA', 'NA', 'NA', 'NA', 'NA', 'NA', 'NA', 'NA', 'NA', 'NA', 'NA']\n",
      "Name: 4318\n",
      "Medaille 4318\n",
      "Pays 4318\n",
      "Resultat 4318\n",
      "Sport 4318\n",
      "Epreuve 4318\n",
      "Position 4318\n",
      "Scrapping:natation/200m-nage-libre-f\n"
     ]
    },
    {
     "name": "stderr",
     "output_type": "stream",
     "text": [
      " 68%|██████▊   | 231/338 [00:41<00:23,  4.62it/s]"
     ]
    },
    {
     "name": "stdout",
     "output_type": "stream",
     "text": [
      "1\n",
      "1\n",
      "1\n",
      "cas individuel\n",
      "['Gold', 'Silver', 'Bronze', 'NA', 'NA', 'NA', 'NA', 'NA']\n",
      "Name: 4326\n",
      "Medaille 4326\n",
      "Pays 4326\n",
      "Resultat 4326\n",
      "Sport 4326\n",
      "Epreuve 4326\n",
      "Position 4326\n",
      "Scrapping:halterophilie/109kg-h\n",
      "1\n",
      "1\n",
      "1\n",
      "cas individuel\n",
      "['Gold', 'Silver', 'Bronze', 'NA', 'NA', 'NA', 'NA', 'NA', 'NA', 'NA', 'NA', 'NA', 'NA', 'NA']\n",
      "Name: 4340\n",
      "Medaille 4340\n",
      "Pays 4340\n",
      "Resultat 4340\n",
      "Sport 4340\n",
      "Epreuve 4340\n",
      "Position 4340\n"
     ]
    },
    {
     "name": "stderr",
     "output_type": "stream",
     "text": [
      " 69%|██████▊   | 232/338 [00:41<00:22,  4.70it/s]"
     ]
    },
    {
     "name": "stdout",
     "output_type": "stream",
     "text": [
      "Scrapping:natation/1500m-nage-libre-f\n",
      "1\n",
      "1\n",
      "1\n",
      "cas individuel\n",
      "['Gold', 'Silver', 'Bronze', 'NA', 'NA', 'NA', 'NA', 'NA']\n",
      "Name: 4348\n",
      "Medaille 4348\n",
      "Pays 4348\n",
      "Resultat 4348\n",
      "Sport 4348\n",
      "Epreuve 4348\n",
      "Position 4348\n",
      "Scrapping:canoe-sprint/canoe-double-1000m-h\n"
     ]
    },
    {
     "name": "stderr",
     "output_type": "stream",
     "text": [
      " 69%|██████▉   | 233/338 [00:42<00:24,  4.34it/s]"
     ]
    },
    {
     "name": "stdout",
     "output_type": "stream",
     "text": [
      "1\n",
      "1\n",
      "1\n",
      "cas team\n",
      "['Gold', 'Gold', 'Silver', 'Silver', 'Bronze', 'Bronze', 'NA', 'NA', 'NA', 'NA', 'NA', 'NA', 'NA', 'NA', 'NA', 'NA', 'NA', 'NA', 'NA', 'NA', 'NA', 'NA', 'NA', 'NA', 'NA', 'NA', 'NA', 'NA']\n",
      "Name: 4376\n",
      "Medaille 4376\n",
      "Pays 4376\n",
      "Resultat 4376\n",
      "Sport 4376\n",
      "Epreuve 4376\n",
      "Position 4376\n",
      "Scrapping:karate/kumite-61kg-f\n",
      "1\n",
      "1\n",
      "2\n",
      "cas individuel\n",
      "['Gold', 'Silver', 'Bronze', 'Bronze', 'NA', 'NA', 'NA', 'NA', 'NA', 'NA']\n",
      "Name: 4386\n",
      "Medaille 4386\n",
      "Pays 4386\n",
      "Resultat 4386\n",
      "Sport 4386\n",
      "Epreuve 4386\n",
      "Position 4386\n"
     ]
    },
    {
     "name": "stderr",
     "output_type": "stream",
     "text": [
      " 69%|██████▉   | 234/338 [00:42<00:23,  4.39it/s]"
     ]
    },
    {
     "name": "stdout",
     "output_type": "stream",
     "text": [
      "Scrapping:tennis/simple-f\n"
     ]
    },
    {
     "name": "stderr",
     "output_type": "stream",
     "text": [
      " 70%|███████   | 238/338 [00:42<00:14,  7.00it/s]"
     ]
    },
    {
     "name": "stdout",
     "output_type": "stream",
     "text": [
      "1\n",
      "1\n",
      "1\n",
      "cas individuel\n",
      "['Gold', 'Silver', 'Bronze', 'NA', 'NA', 'NA', 'NA', 'NA', 'NA', 'NA', 'NA', 'NA', 'NA', 'NA', 'NA', 'NA', 'NA', 'NA', 'NA', 'NA', 'NA', 'NA', 'NA', 'NA', 'NA', 'NA', 'NA', 'NA', 'NA', 'NA', 'NA', 'NA', 'NA', 'NA', 'NA', 'NA', 'NA', 'NA', 'NA', 'NA', 'NA', 'NA', 'NA', 'NA', 'NA', 'NA', 'NA', 'NA', 'NA', 'NA', 'NA', 'NA', 'NA', 'NA', 'NA', 'NA', 'NA', 'NA', 'NA', 'NA', 'NA', 'NA', 'NA', 'NA']\n",
      "Name: 4450\n",
      "Medaille 4450\n",
      "Pays 4450\n",
      "Resultat 4450\n",
      "Sport 4450\n",
      "Epreuve 4450\n",
      "Position 4450\n",
      "Scrapping:lutte/libre-65kg-h\n",
      "1\n",
      "1\n",
      "2\n",
      "cas individuel\n",
      "['Gold', 'Silver', 'Bronze', 'Bronze', 'NA', 'NA', 'NA', 'NA', 'NA', 'NA', 'NA', 'NA', 'NA', 'NA', 'NA', 'NA']\n",
      "Name: 4466\n",
      "Medaille 4466\n",
      "Pays 4466\n",
      "Resultat 4466\n",
      "Sport 4466\n",
      "Epreuve 4466\n",
      "Position 4466\n",
      "Scrapping:judo/90kg-h\n"
     ]
    },
    {
     "name": "stderr",
     "output_type": "stream",
     "text": [
      " 71%|███████   | 240/338 [00:43<00:17,  5.47it/s]"
     ]
    },
    {
     "name": "stdout",
     "output_type": "stream",
     "text": [
      "1\n",
      "1\n",
      "2\n",
      "cas individuel\n",
      "['Gold', 'Silver', 'Bronze', 'Bronze', 'NA', 'NA', 'NA', 'NA', 'NA', 'NA', 'NA', 'NA', 'NA', 'NA', 'NA', 'NA', 'NA', 'NA', 'NA', 'NA', 'NA', 'NA', 'NA', 'NA', 'NA', 'NA', 'NA', 'NA', 'NA', 'NA', 'NA', 'NA', 'NA']\n",
      "Name: 4499\n",
      "Medaille 4499\n",
      "Pays 4499\n",
      "Resultat 4499\n",
      "Sport 4499\n",
      "Epreuve 4499\n",
      "Position 4499\n",
      "Scrapping:athletisme/lancer-du-poids-h\n",
      "1\n",
      "1\n",
      "1\n",
      "cas individuel\n",
      "['Gold', 'Silver', 'Bronze', 'NA', 'NA', 'NA', 'NA', 'NA', 'NA', 'NA', 'NA', 'NA']\n",
      "Name: 4511\n",
      "Medaille 4511\n",
      "Pays 4511\n",
      "Resultat 4511\n",
      "Sport 4511\n",
      "Epreuve 4511\n",
      "Position 4511\n"
     ]
    },
    {
     "name": "stderr",
     "output_type": "stream",
     "text": [
      " 72%|███████▏  | 242/338 [00:43<00:13,  6.91it/s]"
     ]
    },
    {
     "name": "stdout",
     "output_type": "stream",
     "text": [
      "Scrapping:canoe-slalom/canoe-h\n",
      "1\n",
      "1\n",
      "1\n",
      "cas individuel\n",
      "['Gold', 'Silver', 'Bronze', 'NA', 'NA', 'NA', 'NA', 'NA', 'NA', 'NA', 'NA', 'NA', 'NA', 'NA', 'NA', 'NA', 'NA', 'NA']\n",
      "Name: 4529\n",
      "Medaille 4529\n",
      "Pays 4529\n",
      "Resultat 4529\n",
      "Sport 4529\n",
      "Epreuve 4529\n",
      "Position 4529\n",
      "Scrapping:gymnastique-rythmique/concours-general-individuel\n"
     ]
    },
    {
     "name": "stderr",
     "output_type": "stream",
     "text": [
      " 73%|███████▎  | 246/338 [00:43<00:09,  9.21it/s]"
     ]
    },
    {
     "name": "stdout",
     "output_type": "stream",
     "text": [
      "1\n",
      "1\n",
      "1\n",
      "cas individuel\n",
      "['Gold', 'Silver', 'Bronze', 'NA', 'NA', 'NA', 'NA', 'NA', 'NA', 'NA']\n",
      "Name: 4539\n",
      "Medaille 4539\n",
      "Pays 4539\n",
      "Resultat 4539\n",
      "Sport 4539\n",
      "Epreuve 4539\n",
      "Position 4539\n",
      "Scrapping:halterophilie/plus-de-87kg-f\n",
      "1\n",
      "1\n",
      "1\n",
      "cas individuel\n",
      "['Gold', 'Silver', 'Bronze', 'NA', 'NA', 'NA', 'NA', 'NA', 'NA', 'NA', 'NA', 'NA', 'NA', 'NA']\n",
      "Name: 4553\n",
      "Medaille 4553\n",
      "Pays 4553\n",
      "Resultat 4553\n",
      "Sport 4553\n",
      "Epreuve 4553\n",
      "Position 4553\n",
      "Scrapping:karate/kata-f\n"
     ]
    },
    {
     "name": "stderr",
     "output_type": "stream",
     "text": [
      " 73%|███████▎  | 248/338 [00:44<00:11,  7.86it/s]"
     ]
    },
    {
     "name": "stdout",
     "output_type": "stream",
     "text": [
      "1\n",
      "1\n",
      "2\n",
      "cas individuel\n",
      "['Gold', 'Silver', 'Bronze', 'Bronze', 'NA', 'NA', 'NA', 'NA', 'NA', 'NA']\n",
      "Name: 4563\n",
      "Medaille 4563\n",
      "Pays 4563\n",
      "Resultat 4563\n",
      "Sport 4563\n",
      "Epreuve 4563\n",
      "Position 4563\n",
      "Scrapping:judo/plus-de-78-kg-f\n",
      "1\n",
      "1\n",
      "2\n",
      "cas individuel\n",
      "['Gold', 'Silver', 'Bronze', 'Bronze', 'NA', 'NA', 'NA', 'NA', 'NA', 'NA', 'NA', 'NA', 'NA', 'NA', 'NA', 'NA', 'NA', 'NA', 'NA', 'NA', 'NA', 'NA', 'NA', 'NA', 'NA', 'NA', 'NA']\n",
      "Name: 4590\n",
      "Medaille 4590\n",
      "Pays 4590\n",
      "Resultat 4590\n",
      "Sport 4590\n",
      "Epreuve 4590\n",
      "Position 4590\n"
     ]
    },
    {
     "name": "stderr",
     "output_type": "stream",
     "text": [
      " 74%|███████▎  | 249/338 [00:44<00:12,  6.91it/s]"
     ]
    },
    {
     "name": "stdout",
     "output_type": "stream",
     "text": [
      "Scrapping:escrime/sabre-individuel-h\n",
      "1\n",
      "1\n",
      "1\n",
      "cas individuel\n",
      "['Gold', 'Silver', 'Bronze', 'NA', 'NA', 'NA', 'NA', 'NA', 'NA', 'NA', 'NA', 'NA', 'NA', 'NA', 'NA', 'NA', 'NA', 'NA', 'NA', 'NA', 'NA', 'NA', 'NA', 'NA', 'NA', 'NA', 'NA', 'NA', 'NA', 'NA', 'NA', 'NA', 'NA', 'NA', 'NA', 'NA']\n",
      "Name: 4626\n",
      "Medaille 4626\n",
      "Pays 4626\n",
      "Resultat 4626\n",
      "Sport 4626\n",
      "Epreuve 4626\n",
      "Position 4626\n",
      "Scrapping:pentathlon-moderne/individuel-f\n"
     ]
    },
    {
     "name": "stderr",
     "output_type": "stream",
     "text": [
      " 74%|███████▍  | 251/338 [00:44<00:15,  5.74it/s]"
     ]
    },
    {
     "name": "stdout",
     "output_type": "stream",
     "text": [
      "1\n",
      "1\n",
      "1\n",
      "cas individuel\n",
      "['Gold', 'Silver', 'Bronze', 'NA', 'NA', 'NA', 'NA', 'NA', 'NA', 'NA', 'NA', 'NA', 'NA', 'NA', 'NA', 'NA', 'NA', 'NA', 'NA', 'NA', 'NA', 'NA', 'NA', 'NA', 'NA', 'NA', 'NA', 'NA', 'NA', 'NA', 'NA', 'NA', 'NA', 'NA', 'NA', 'NA']\n",
      "Name: 4662\n",
      "Medaille 4662\n",
      "Pays 4662\n",
      "Resultat 4662\n",
      "Sport 4662\n",
      "Epreuve 4662\n",
      "Position 4662\n",
      "Scrapping:cyclisme-sur-piste/madison-h\n",
      "1\n",
      "1\n",
      "1\n",
      "cas team\n",
      "['Gold', 'Gold', 'Silver', 'Silver', 'Bronze', 'Bronze', 'NA', 'NA', 'NA', 'NA', 'NA', 'NA', 'NA', 'NA', 'NA', 'NA', 'NA', 'NA', 'NA', 'NA', 'NA', 'NA', 'NA', 'NA', 'NA', 'NA', 'NA', 'NA', 'NA', 'NA', 'NA', 'NA']\n",
      "Name: 4694\n",
      "Medaille 4694\n",
      "Pays 4694\n",
      "Resultat 4694\n",
      "Sport 4694\n",
      "Epreuve 4694\n",
      "Position 4694\n",
      "Scrapping:tir/pistolet-air-comprime-10m-h\n"
     ]
    },
    {
     "name": "stderr",
     "output_type": "stream",
     "text": [
      " 75%|███████▍  | 253/338 [00:45<00:18,  4.69it/s]"
     ]
    },
    {
     "name": "stdout",
     "output_type": "stream",
     "text": [
      "1\n",
      "1\n",
      "1\n",
      "cas individuel\n",
      "['Gold', 'Silver', 'Bronze', 'NA', 'NA', 'NA', 'NA', 'NA', 'NA', 'NA', 'NA', 'NA', 'NA', 'NA', 'NA', 'NA', 'NA', 'NA', 'NA', 'NA', 'NA', 'NA', 'NA', 'NA', 'NA', 'NA', 'NA', 'NA', 'NA', 'NA', 'NA', 'NA', 'NA', 'NA', 'NA', 'NA']\n",
      "Name: 4730\n",
      "Medaille 4730\n",
      "Pays 4730\n",
      "Resultat 4730\n",
      "Sport 4730\n",
      "Epreuve 4730\n",
      "Position 4730\n",
      "Scrapping:athletisme/saut-en-hauteur-f\n",
      "1\n",
      "1\n",
      "1\n",
      "cas individuel\n",
      "['Gold', 'Silver', 'Bronze', 'NA', 'NA', 'NA', 'NA', 'NA', 'NA', 'NA', 'NA', 'NA', 'NA', 'NA']\n",
      "Name: 4744\n",
      "Medaille 4744\n",
      "Pays 4744\n",
      "Resultat 4744\n",
      "Sport 4744\n",
      "Epreuve 4744\n",
      "Position 4744\n",
      "Scrapping:voile/rs-x-f\n"
     ]
    },
    {
     "name": "stderr",
     "output_type": "stream",
     "text": [
      " 75%|███████▌  | 254/338 [00:45<00:18,  4.66it/s]"
     ]
    },
    {
     "name": "stdout",
     "output_type": "stream",
     "text": [
      "1\n",
      "1\n",
      "1\n",
      "cas individuel\n",
      "['Gold', 'Silver', 'Bronze', 'NA', 'NA', 'NA', 'NA', 'NA', 'NA', 'NA', 'NA', 'NA', 'NA', 'NA', 'NA', 'NA', 'NA', 'NA', 'NA', 'NA', 'NA', 'NA', 'NA', 'NA', 'NA', 'NA', 'NA']\n",
      "Name: 4771\n",
      "Medaille 4771\n",
      "Pays 4771\n",
      "Resultat 4771\n",
      "Sport 4771\n",
      "Epreuve 4771\n",
      "Position 4771\n",
      "Scrapping:athletisme/saut-en-longueur-f\n"
     ]
    },
    {
     "name": "stderr",
     "output_type": "stream",
     "text": [
      " 75%|███████▌  | 255/338 [00:45<00:18,  4.39it/s]"
     ]
    },
    {
     "name": "stdout",
     "output_type": "stream",
     "text": [
      "1\n",
      "1\n",
      "1\n",
      "cas individuel\n",
      "['Gold', 'Silver', 'Bronze', 'NA', 'NA', 'NA', 'NA', 'NA', 'NA', 'NA', 'NA', 'NA']\n",
      "Name: 4783\n",
      "Medaille 4783\n",
      "Pays 4783\n",
      "Resultat 4783\n",
      "Sport 4783\n",
      "Epreuve 4783\n",
      "Position 4783\n",
      "Scrapping:plongeon/plateforme-synchronise-10m-f\n"
     ]
    },
    {
     "name": "stderr",
     "output_type": "stream",
     "text": [
      " 76%|███████▌  | 256/338 [00:46<00:21,  3.75it/s]"
     ]
    },
    {
     "name": "stdout",
     "output_type": "stream",
     "text": [
      "1\n",
      "1\n",
      "1\n",
      "cas team\n",
      "['Gold', 'Gold', 'Silver', 'Silver', 'Bronze', 'Bronze', 'NA', 'NA', 'NA', 'NA', 'NA', 'NA', 'NA', 'NA', 'NA', 'NA']\n",
      "Name: 4799\n",
      "Medaille 4799\n",
      "Pays 4799\n",
      "Resultat 4799\n",
      "Sport 4799\n",
      "Epreuve 4799\n",
      "Position 4799\n",
      "Scrapping:volleyball-de-plage/homme\n"
     ]
    },
    {
     "name": "stderr",
     "output_type": "stream",
     "text": [
      " 76%|███████▋  | 258/338 [00:46<00:19,  4.13it/s]"
     ]
    },
    {
     "name": "stdout",
     "output_type": "stream",
     "text": [
      "1\n",
      "1\n",
      "1\n",
      "cas team\n",
      "['Gold', 'Gold', 'Silver', 'Silver', 'Bronze', 'Bronze', 'NA', 'NA', 'NA', 'NA', 'NA', 'NA', 'NA', 'NA', 'NA', 'NA', 'NA', 'NA', 'NA', 'NA', 'NA', 'NA', 'NA', 'NA', 'NA', 'NA', 'NA', 'NA', 'NA', 'NA', 'NA', 'NA', 'NA', 'NA', 'NA', 'NA', 'NA', 'NA', 'NA', 'NA', 'NA', 'NA', 'NA', 'NA', 'NA', 'NA', 'NA', 'NA']\n",
      "Name: 4847\n",
      "Medaille 4847\n",
      "Pays 4847\n",
      "Resultat 4847\n",
      "Sport 4847\n",
      "Epreuve 4847\n",
      "Position 4847\n",
      "Scrapping:natation/200m-dos-h\n",
      "1\n",
      "1\n",
      "1\n",
      "cas individuel\n",
      "['Gold', 'Silver', 'Bronze', 'NA', 'NA', 'NA', 'NA', 'NA']\n",
      "Name: 4855\n",
      "Medaille 4855\n",
      "Pays 4855\n",
      "Resultat 4855\n",
      "Sport 4855\n",
      "Epreuve 4855\n",
      "Position 4855\n",
      "Scrapping:athletisme/100m-f\n"
     ]
    },
    {
     "name": "stderr",
     "output_type": "stream",
     "text": [
      " 77%|███████▋  | 261/338 [00:47<00:13,  5.65it/s]"
     ]
    },
    {
     "name": "stdout",
     "output_type": "stream",
     "text": [
      "1\n",
      "1\n",
      "1\n",
      "cas individuel\n",
      "['Gold', 'Silver', 'Bronze', 'NA', 'NA', 'NA', 'NA', 'NA']\n",
      "Name: 4863\n",
      "Medaille 4863\n",
      "Pays 4863\n",
      "Resultat 4863\n",
      "Sport 4863\n",
      "Epreuve 4863\n",
      "Position 4863\n",
      "Scrapping:lutte/greco-romaine-87kg-h\n",
      "1\n",
      "1\n",
      "2\n",
      "cas individuel\n",
      "['Gold', 'Silver', 'Bronze', 'Bronze', 'NA', 'NA', 'NA', 'NA', 'NA', 'NA', 'NA', 'NA', 'NA', 'NA', 'NA', 'NA']\n",
      "Name: 4879\n",
      "Medaille 4879\n",
      "Pays 4879\n",
      "Resultat 4879\n",
      "Sport 4879\n",
      "Epreuve 4879\n",
      "Position 4879\n",
      "Scrapping:natation-artistique/duo\n"
     ]
    },
    {
     "name": "stderr",
     "output_type": "stream",
     "text": [
      " 78%|███████▊  | 263/338 [00:47<00:14,  5.27it/s]"
     ]
    },
    {
     "name": "stdout",
     "output_type": "stream",
     "text": [
      "1\n",
      "1\n",
      "1\n",
      "cas team\n",
      "['Gold', 'Gold', 'Silver', 'Silver', 'Bronze', 'Bronze', 'NA', 'NA', 'NA', 'NA', 'NA', 'NA', 'NA', 'NA', 'NA', 'NA', 'NA', 'NA', 'NA', 'NA', 'NA', 'NA', 'NA', 'NA', 'NA', 'NA', 'NA', 'NA', 'NA', 'NA', 'NA', 'NA', 'NA', 'NA', 'NA', 'NA', 'NA', 'NA', 'NA', 'NA', 'NA', 'NA', 'NA', 'NA']\n",
      "Name: 4923\n",
      "Medaille 4923\n",
      "Pays 4923\n",
      "Resultat 4923\n",
      "Sport 4923\n",
      "Epreuve 4923\n",
      "Position 4923\n",
      "Scrapping:natation/100m-brasse-f\n",
      "1\n",
      "1\n",
      "1\n",
      "cas individuel\n",
      "['Gold', 'Silver', 'Bronze', 'NA', 'NA', 'NA', 'NA', 'NA']\n",
      "Name: 4931\n",
      "Medaille 4931\n",
      "Pays 4931\n",
      "Resultat 4931\n",
      "Sport 4931\n",
      "Epreuve 4931\n",
      "Position 4931\n",
      "Scrapping:triathlon/individuel-f\n"
     ]
    },
    {
     "name": "stderr",
     "output_type": "stream",
     "text": [
      " 78%|███████▊  | 264/338 [00:47<00:18,  3.98it/s]"
     ]
    },
    {
     "name": "stdout",
     "output_type": "stream",
     "text": [
      "1\n",
      "1\n",
      "1\n",
      "cas individuel\n",
      "['Gold', 'Silver', 'Bronze', 'NA', 'NA', 'NA', 'NA', 'NA', 'NA', 'NA', 'NA', 'NA', 'NA', 'NA', 'NA', 'NA', 'NA', 'NA', 'NA', 'NA', 'NA', 'NA', 'NA', 'NA', 'NA', 'NA', 'NA', 'NA', 'NA', 'NA', 'NA', 'NA', 'NA', 'NA', 'NA', 'NA', 'NA', 'NA', 'NA', 'NA', 'NA', 'NA', 'NA', 'NA', 'NA', 'NA', 'NA', 'NA', 'NA', 'NA', 'NA', 'NA', 'NA', 'NA']\n",
      "Name: 4985\n",
      "Medaille 4985\n",
      "Pays 4985\n",
      "Resultat 4985\n",
      "Sport 4985\n",
      "Epreuve 4985\n",
      "Position 4985\n",
      "Scrapping:karate/kumite-55kg-f\n",
      "1\n",
      "1\n",
      "2\n",
      "cas individuel\n",
      "['Gold', 'Silver', 'Bronze', 'Bronze', 'NA', 'NA', 'NA', 'NA', 'NA']\n",
      "Name: 4994\n",
      "Medaille 4994\n",
      "Pays 4994\n",
      "Resultat 4994\n",
      "Sport 4994\n",
      "Epreuve 4994\n",
      "Position 4994\n"
     ]
    },
    {
     "name": "stderr",
     "output_type": "stream",
     "text": [
      " 78%|███████▊  | 265/338 [00:48<00:17,  4.29it/s]"
     ]
    },
    {
     "name": "stdout",
     "output_type": "stream",
     "text": [
      "Scrapping:plongeon/plateforme-synchronise-10m-h\n"
     ]
    },
    {
     "name": "stderr",
     "output_type": "stream",
     "text": [
      " 79%|███████▊  | 266/338 [00:48<00:16,  4.25it/s]"
     ]
    },
    {
     "name": "stdout",
     "output_type": "stream",
     "text": [
      "1\n",
      "1\n",
      "1\n",
      "cas team\n",
      "['Gold', 'Gold', 'Silver', 'Silver', 'Bronze', 'Bronze', 'NA', 'NA', 'NA', 'NA', 'NA', 'NA', 'NA', 'NA', 'NA', 'NA']\n",
      "Name: 5010\n",
      "Medaille 5010\n",
      "Pays 5010\n",
      "Resultat 5010\n",
      "Sport 5010\n",
      "Epreuve 5010\n",
      "Position 5010\n",
      "Scrapping:tir/skeet-femme\n"
     ]
    },
    {
     "name": "stderr",
     "output_type": "stream",
     "text": [
      " 79%|███████▉  | 268/338 [00:48<00:14,  4.73it/s]"
     ]
    },
    {
     "name": "stdout",
     "output_type": "stream",
     "text": [
      "1\n",
      "1\n",
      "1\n",
      "cas individuel\n",
      "['Gold', 'Silver', 'Bronze', 'NA', 'NA', 'NA', 'NA', 'NA', 'NA', 'NA', 'NA', 'NA', 'NA', 'NA', 'NA', 'NA', 'NA', 'NA', 'NA', 'NA', 'NA', 'NA', 'NA', 'NA', 'NA', 'NA', 'NA', 'NA', 'NA']\n",
      "Name: 5039\n",
      "Medaille 5039\n",
      "Pays 5039\n",
      "Resultat 5039\n",
      "Sport 5039\n",
      "Epreuve 5039\n",
      "Position 5039\n",
      "Scrapping:aviron/deux-sans-barreur-f\n",
      "1\n",
      "1\n",
      "1\n",
      "cas team\n",
      "['Gold', 'Gold', 'Silver', 'Silver', 'Bronze', 'Bronze', 'NA', 'NA', 'NA', 'NA', 'NA', 'NA', 'NA', 'NA', 'NA', 'NA', 'NA', 'NA', 'NA', 'NA', 'NA', 'NA', 'NA', 'NA', 'NA', 'NA']\n",
      "Name: 5065\n",
      "Medaille 5065\n",
      "Pays 5065\n",
      "Resultat 5065\n",
      "Sport 5065\n",
      "Epreuve 5065\n",
      "Position 5065\n"
     ]
    },
    {
     "name": "stderr",
     "output_type": "stream",
     "text": [
      " 80%|███████▉  | 269/338 [00:48<00:14,  4.86it/s]"
     ]
    },
    {
     "name": "stdout",
     "output_type": "stream",
     "text": [
      "Scrapping:karate/kumite-plus-de-75kg-h\n"
     ]
    },
    {
     "name": "stderr",
     "output_type": "stream",
     "text": [
      " 80%|███████▉  | 270/338 [00:49<00:14,  4.67it/s]"
     ]
    },
    {
     "name": "stdout",
     "output_type": "stream",
     "text": [
      "1\n",
      "1\n",
      "2\n",
      "cas individuel\n",
      "['Gold', 'Silver', 'Bronze', 'Bronze', 'NA', 'NA', 'NA', 'NA', 'NA', 'NA']\n",
      "Name: 5075\n",
      "Medaille 5075\n",
      "Pays 5075\n",
      "Resultat 5075\n",
      "Sport 5075\n",
      "Epreuve 5075\n",
      "Position 5075\n",
      "Scrapping:aviron/deux-de-couple-f\n"
     ]
    },
    {
     "name": "stderr",
     "output_type": "stream",
     "text": [
      " 80%|████████  | 271/338 [00:49<00:20,  3.28it/s]"
     ]
    },
    {
     "name": "stdout",
     "output_type": "stream",
     "text": [
      "1\n",
      "1\n",
      "1\n",
      "cas team\n",
      "['Gold', 'Gold', 'Silver', 'Silver', 'Bronze', 'Bronze', 'NA', 'NA', 'NA', 'NA', 'NA', 'NA', 'NA', 'NA', 'NA', 'NA', 'NA', 'NA', 'NA', 'NA', 'NA', 'NA', 'NA', 'NA', 'NA', 'NA']\n",
      "Name: 5101\n",
      "Medaille 5101\n",
      "Pays 5101\n",
      "Resultat 5101\n",
      "Sport 5101\n",
      "Epreuve 5101\n",
      "Position 5101\n",
      "Scrapping:judo/66kg-h\n"
     ]
    },
    {
     "name": "stderr",
     "output_type": "stream",
     "text": [
      " 81%|████████  | 273/338 [00:50<00:16,  3.84it/s]"
     ]
    },
    {
     "name": "stdout",
     "output_type": "stream",
     "text": [
      "1\n",
      "1\n",
      "2\n",
      "cas individuel\n",
      "['Gold', 'Silver', 'Bronze', 'Bronze', 'NA', 'NA', 'NA', 'NA', 'NA', 'NA', 'NA', 'NA', 'NA', 'NA', 'NA', 'NA', 'NA', 'NA', 'NA', 'NA', 'NA', 'NA', 'NA', 'NA', 'NA', 'NA', 'NA']\n",
      "Name: 5128\n",
      "Medaille 5128\n",
      "Pays 5128\n",
      "Resultat 5128\n",
      "Sport 5128\n",
      "Epreuve 5128\n",
      "Position 5128\n",
      "Scrapping:tir/equipe-mixte-trap\n",
      "1\n",
      "1\n",
      "1\n",
      "cas team\n",
      "['Gold', 'Gold', 'Silver', 'Silver', 'Bronze', 'Bronze', 'NA', 'NA', 'NA', 'NA', 'NA', 'NA', 'NA', 'NA', 'NA', 'NA', 'NA', 'NA', 'NA', 'NA', 'NA', 'NA', 'NA', 'NA', 'NA', 'NA', 'NA', 'NA', 'NA', 'NA', 'NA', 'NA']\n",
      "Name: 5160\n",
      "Medaille 5160\n",
      "Pays 5160\n",
      "Resultat 5160\n",
      "Sport 5160\n",
      "Epreuve 5160\n",
      "Position 5160\n",
      "Scrapping:athletisme/20km-marche-h\n"
     ]
    },
    {
     "name": "stderr",
     "output_type": "stream",
     "text": [
      " 81%|████████  | 274/338 [00:50<00:18,  3.43it/s]"
     ]
    },
    {
     "name": "stdout",
     "output_type": "stream",
     "text": [
      "1\n",
      "1\n",
      "1\n",
      "cas individuel\n",
      "['Gold', 'Silver', 'Bronze', 'NA', 'NA', 'NA', 'NA', 'NA', 'NA', 'NA', 'NA', 'NA', 'NA', 'NA', 'NA', 'NA', 'NA', 'NA', 'NA', 'NA', 'NA', 'NA', 'NA', 'NA', 'NA', 'NA', 'NA', 'NA', 'NA', 'NA', 'NA', 'NA', 'NA', 'NA', 'NA', 'NA', 'NA', 'NA', 'NA', 'NA', 'NA', 'NA', 'NA', 'NA', 'NA', 'NA', 'NA', 'NA', 'NA', 'NA', 'NA', 'NA', 'NA', 'NA', 'NA', 'NA', 'NA']\n",
      "Name: 5217\n",
      "Medaille 5217\n",
      "Pays 5217\n",
      "Resultat 5217\n",
      "Sport 5217\n",
      "Epreuve 5217\n",
      "Position 5217\n",
      "Scrapping:athletisme/saut-a-la-perche-h\n",
      "1\n",
      "1\n",
      "1\n",
      "cas individuel\n",
      "['Gold', 'Silver', 'Bronze', 'NA', 'NA', 'NA', 'NA', 'NA', 'NA', 'NA', 'NA', 'NA', 'NA', 'NA']\n",
      "Name: 5231\n",
      "Medaille 5231\n",
      "Pays 5231\n",
      "Resultat 5231\n",
      "Sport 5231\n",
      "Epreuve 5231\n",
      "Position 5231\n"
     ]
    },
    {
     "name": "stderr",
     "output_type": "stream",
     "text": [
      " 81%|████████▏ | 275/338 [00:50<00:16,  3.80it/s]"
     ]
    },
    {
     "name": "stdout",
     "output_type": "stream",
     "text": [
      "Scrapping:natation/100m-nage-libre-f\n"
     ]
    },
    {
     "name": "stderr",
     "output_type": "stream",
     "text": [
      " 82%|████████▏ | 277/338 [00:51<00:13,  4.59it/s]"
     ]
    },
    {
     "name": "stdout",
     "output_type": "stream",
     "text": [
      "1\n",
      "1\n",
      "1\n",
      "cas individuel\n",
      "['Gold', 'Silver', 'Bronze', 'NA', 'NA', 'NA', 'NA', 'NA']\n",
      "Name: 5239\n",
      "Medaille 5239\n",
      "Pays 5239\n",
      "Resultat 5239\n",
      "Sport 5239\n",
      "Epreuve 5239\n",
      "Position 5239\n",
      "Scrapping:tir/carabine-air-comprime-10m-h\n"
     ]
    },
    {
     "name": "stderr",
     "output_type": "stream",
     "text": [
      " 82%|████████▏ | 278/338 [00:51<00:13,  4.48it/s]"
     ]
    },
    {
     "name": "stdout",
     "output_type": "stream",
     "text": [
      "1\n",
      "1\n",
      "1\n",
      "cas individuel\n",
      "['Gold', 'Silver', 'Bronze', 'NA', 'NA', 'NA', 'NA', 'NA', 'NA', 'NA', 'NA', 'NA', 'NA', 'NA', 'NA', 'NA', 'NA', 'NA', 'NA', 'NA', 'NA', 'NA', 'NA', 'NA', 'NA', 'NA', 'NA', 'NA', 'NA', 'NA', 'NA', 'NA', 'NA', 'NA', 'NA', 'NA', 'NA', 'NA', 'NA', 'NA', 'NA', 'NA', 'NA', 'NA', 'NA', 'NA', 'NA']\n",
      "Name: 5286\n",
      "Medaille 5286\n",
      "Pays 5286\n",
      "Resultat 5286\n",
      "Sport 5286\n",
      "Epreuve 5286\n",
      "Position 5286\n",
      "Scrapping:gymnastique-trampoline/femme\n"
     ]
    },
    {
     "name": "stderr",
     "output_type": "stream",
     "text": [
      " 83%|████████▎ | 279/338 [00:51<00:14,  4.09it/s]"
     ]
    },
    {
     "name": "stdout",
     "output_type": "stream",
     "text": [
      "1\n",
      "1\n",
      "1\n",
      "cas individuel\n",
      "['Gold', 'Silver', 'Bronze', 'NA', 'NA', 'NA', 'NA', 'NA']\n",
      "Name: 5294\n",
      "Medaille 5294\n",
      "Pays 5294\n",
      "Resultat 5294\n",
      "Sport 5294\n",
      "Epreuve 5294\n",
      "Position 5294\n",
      "Scrapping:escalade/combine-h\n"
     ]
    },
    {
     "name": "stderr",
     "output_type": "stream",
     "text": [
      " 83%|████████▎ | 281/338 [00:51<00:12,  4.41it/s]"
     ]
    },
    {
     "name": "stdout",
     "output_type": "stream",
     "text": [
      "1\n",
      "1\n",
      "1\n",
      "cas individuel\n",
      "['Gold', 'Silver', 'Bronze', 'NA', 'NA', 'NA', 'NA', 'NA', 'NA', 'NA', 'NA', 'NA', 'NA', 'NA', 'NA', 'NA', 'NA', 'NA', 'NA', 'NA']\n",
      "Name: 5314\n",
      "Medaille 5314\n",
      "Pays 5314\n",
      "Resultat 5314\n",
      "Sport 5314\n",
      "Epreuve 5314\n",
      "Position 5314\n",
      "Scrapping:tir/skeet-h\n",
      "1\n",
      "1\n",
      "1\n",
      "cas individuel\n",
      "['Gold', 'Silver', 'Bronze', 'NA', 'NA', 'NA', 'NA', 'NA', 'NA', 'NA', 'NA', 'NA', 'NA', 'NA', 'NA', 'NA', 'NA', 'NA', 'NA', 'NA', 'NA', 'NA', 'NA', 'NA', 'NA', 'NA', 'NA', 'NA', 'NA', 'NA']\n",
      "Name: 5344\n",
      "Medaille 5344\n",
      "Pays 5344\n",
      "Resultat 5344\n",
      "Sport 5344\n",
      "Epreuve 5344\n",
      "Position 5344\n",
      "Scrapping:plongeon/tremplin-3m-f\n"
     ]
    },
    {
     "name": "stderr",
     "output_type": "stream",
     "text": [
      " 83%|████████▎ | 282/338 [00:52<00:13,  4.05it/s]"
     ]
    },
    {
     "name": "stdout",
     "output_type": "stream",
     "text": [
      "1\n",
      "1\n",
      "1\n",
      "cas individuel\n",
      "['Gold', 'Silver', 'Bronze', 'NA', 'NA', 'NA', 'NA', 'NA', 'NA', 'NA', 'NA', 'NA', 'NA', 'NA', 'NA', 'NA', 'NA', 'NA', 'NA', 'NA', 'NA', 'NA', 'NA', 'NA', 'NA', 'NA', 'NA']\n",
      "Name: 5371\n",
      "Medaille 5371\n",
      "Pays 5371\n",
      "Resultat 5371\n",
      "Sport 5371\n",
      "Epreuve 5371\n",
      "Position 5371\n",
      "Scrapping:canoe-slalom/kayak-f\n"
     ]
    },
    {
     "name": "stderr",
     "output_type": "stream",
     "text": [
      " 84%|████████▍ | 285/338 [00:52<00:10,  5.22it/s]"
     ]
    },
    {
     "name": "stdout",
     "output_type": "stream",
     "text": [
      "1\n",
      "1\n",
      "1\n",
      "cas individuel\n",
      "['Gold', 'Silver', 'Bronze', 'NA', 'NA', 'NA', 'NA', 'NA', 'NA', 'NA', 'NA', 'NA', 'NA', 'NA', 'NA', 'NA', 'NA', 'NA', 'NA', 'NA', 'NA', 'NA', 'NA', 'NA', 'NA', 'NA', 'NA']\n",
      "Name: 5398\n",
      "Medaille 5398\n",
      "Pays 5398\n",
      "Resultat 5398\n",
      "Sport 5398\n",
      "Epreuve 5398\n",
      "Position 5398\n",
      "Scrapping:cyclisme-bmx-racing/homme\n",
      "1\n",
      "1\n",
      "1\n",
      "cas individuel\n",
      "['Gold', 'Silver', 'Bronze', 'NA', 'NA', 'NA', 'NA', 'NA', 'NA', 'NA', 'NA', 'NA', 'NA', 'NA', 'NA', 'NA', 'NA', 'NA', 'NA', 'NA', 'NA', 'NA', 'NA', 'NA']\n",
      "Name: 5422\n",
      "Medaille 5422\n",
      "Pays 5422\n",
      "Resultat 5422\n",
      "Sport 5422\n",
      "Epreuve 5422\n",
      "Position 5422\n"
     ]
    },
    {
     "name": "stderr",
     "output_type": "stream",
     "text": [
      " 85%|████████▍ | 286/338 [00:52<00:09,  5.32it/s]"
     ]
    },
    {
     "name": "stdout",
     "output_type": "stream",
     "text": [
      "Scrapping:boxe/super-lourd-plus-de-91kg-h\n",
      "1\n",
      "1\n",
      "2\n",
      "cas individuel\n",
      "['Gold', 'Silver', 'Bronze', 'Bronze', 'NA', 'NA', 'NA', 'NA', 'NA', 'NA', 'NA', 'NA', 'NA', 'NA', 'NA', 'NA', 'NA']\n",
      "Name: 5439\n",
      "Medaille 5439\n",
      "Pays 5439\n",
      "Resultat 5439\n",
      "Sport 5439\n",
      "Epreuve 5439\n",
      "Position 5439\n",
      "Scrapping:escrime/fleuret-individuel-h\n"
     ]
    },
    {
     "name": "stderr",
     "output_type": "stream",
     "text": [
      " 86%|████████▌ | 289/338 [00:53<00:08,  6.02it/s]"
     ]
    },
    {
     "name": "stdout",
     "output_type": "stream",
     "text": [
      "1\n",
      "1\n",
      "1\n",
      "cas individuel\n",
      "['Gold', 'Silver', 'Bronze', 'NA', 'NA', 'NA', 'NA', 'NA', 'NA', 'NA', 'NA', 'NA', 'NA', 'NA', 'NA', 'NA', 'NA', 'NA', 'NA', 'NA', 'NA', 'NA', 'NA', 'NA', 'NA', 'NA', 'NA', 'NA', 'NA', 'NA', 'NA', 'NA', 'NA', 'NA', 'NA', 'NA']\n",
      "Name: 5475\n",
      "Medaille 5475\n",
      "Pays 5475\n",
      "Resultat 5475\n",
      "Sport 5475\n",
      "Epreuve 5475\n",
      "Position 5475\n",
      "Scrapping:lutte/libre-76kg-f\n",
      "1\n",
      "1\n",
      "2\n",
      "cas individuel\n",
      "['Gold', 'Silver', 'Bronze', 'Bronze', 'NA', 'NA', 'NA', 'NA', 'NA', 'NA', 'NA', 'NA', 'NA', 'NA', 'NA', 'NA']\n",
      "Name: 5491\n",
      "Medaille 5491\n",
      "Pays 5491\n",
      "Resultat 5491\n",
      "Sport 5491\n",
      "Epreuve 5491\n",
      "Position 5491\n",
      "Scrapping:voile/470-h\n"
     ]
    },
    {
     "name": "stderr",
     "output_type": "stream",
     "text": [
      " 86%|████████▌ | 291/338 [00:53<00:06,  6.93it/s]"
     ]
    },
    {
     "name": "stdout",
     "output_type": "stream",
     "text": [
      "1\n",
      "1\n",
      "1\n",
      "cas team\n",
      "['Gold', 'Gold', 'Silver', 'Silver', 'Bronze', 'Bronze', 'NA', 'NA', 'NA', 'NA', 'NA', 'NA', 'NA', 'NA', 'NA', 'NA', 'NA', 'NA', 'NA', 'NA', 'NA', 'NA', 'NA', 'NA', 'NA', 'NA', 'NA', 'NA', 'NA', 'NA', 'NA', 'NA', 'NA', 'NA', 'NA', 'NA', 'NA', 'NA']\n",
      "Name: 5529\n",
      "Medaille 5529\n",
      "Pays 5529\n",
      "Resultat 5529\n",
      "Sport 5529\n",
      "Epreuve 5529\n",
      "Position 5529\n",
      "Scrapping:judo/70-kg-f\n"
     ]
    },
    {
     "name": "stderr",
     "output_type": "stream",
     "text": [
      " 87%|████████▋ | 293/338 [00:54<00:07,  5.82it/s]"
     ]
    },
    {
     "name": "stdout",
     "output_type": "stream",
     "text": [
      "1\n",
      "1\n",
      "2\n",
      "cas individuel\n",
      "['Gold', 'Silver', 'Bronze', 'Bronze', 'NA', 'NA', 'NA', 'NA', 'NA', 'NA', 'NA', 'NA', 'NA', 'NA', 'NA', 'NA', 'NA', 'NA', 'NA', 'NA', 'NA', 'NA', 'NA', 'NA', 'NA', 'NA', 'NA', 'NA']\n",
      "Name: 5557\n",
      "Medaille 5557\n",
      "Pays 5557\n",
      "Resultat 5557\n",
      "Sport 5557\n",
      "Epreuve 5557\n",
      "Position 5557\n",
      "Scrapping:halterophilie/49kg-f\n",
      "1\n",
      "1\n",
      "1\n",
      "cas individuel\n",
      "['Gold', 'Silver', 'Bronze', 'NA', 'NA', 'NA', 'NA', 'NA', 'NA', 'NA', 'NA', 'NA', 'NA', 'NA']\n",
      "Name: 5571\n",
      "Medaille 5571\n",
      "Pays 5571\n",
      "Resultat 5571\n",
      "Sport 5571\n",
      "Epreuve 5571\n",
      "Position 5571\n"
     ]
    },
    {
     "name": "stderr",
     "output_type": "stream",
     "text": [
      " 87%|████████▋ | 295/338 [00:54<00:06,  7.13it/s]"
     ]
    },
    {
     "name": "stdout",
     "output_type": "stream",
     "text": [
      "Scrapping:natation/50m-nage-libre-h\n",
      "1\n",
      "1\n",
      "1\n",
      "cas individuel\n",
      "['Gold', 'Silver', 'Bronze', 'NA', 'NA', 'NA', 'NA', 'NA']\n",
      "Name: 5579\n",
      "Medaille 5579\n",
      "Pays 5579\n",
      "Resultat 5579\n",
      "Sport 5579\n",
      "Epreuve 5579\n",
      "Position 5579\n",
      "Scrapping:karate/kumite-67kg-h\n"
     ]
    },
    {
     "name": "stderr",
     "output_type": "stream",
     "text": [
      " 88%|████████▊ | 297/338 [00:54<00:05,  7.36it/s]"
     ]
    },
    {
     "name": "stdout",
     "output_type": "stream",
     "text": [
      "1\n",
      "1\n",
      "2\n",
      "cas individuel\n",
      "['Gold', 'Silver', 'Bronze', 'Bronze', 'NA', 'NA', 'NA', 'NA', 'NA', 'NA', 'NA']\n",
      "Name: 5590\n",
      "Medaille 5590\n",
      "Pays 5590\n",
      "Resultat 5590\n",
      "Sport 5590\n",
      "Epreuve 5590\n",
      "Position 5590\n",
      "Scrapping:gymnastique-artistique/sol-f\n",
      "1\n",
      "1\n",
      "2\n",
      "cas individuel\n",
      "['Gold', 'Silver', 'Bronze', 'Bronze', 'NA', 'NA', 'NA', 'NA']\n",
      "Name: 5598\n",
      "Medaille 5598\n",
      "Pays 5598\n",
      "Resultat 5598\n",
      "Sport 5598\n",
      "Epreuve 5598\n",
      "Position 5598\n"
     ]
    },
    {
     "name": "stderr",
     "output_type": "stream",
     "text": [
      " 88%|████████▊ | 299/338 [00:54<00:06,  6.44it/s]"
     ]
    },
    {
     "name": "stdout",
     "output_type": "stream",
     "text": [
      "Scrapping:natation/200m-papillon-h\n",
      "1\n",
      "1\n",
      "1\n",
      "cas individuel\n",
      "['Gold', 'Silver', 'Bronze', 'NA', 'NA', 'NA', 'NA', 'NA']\n",
      "Name: 5606\n",
      "Medaille 5606\n",
      "Pays 5606\n",
      "Resultat 5606\n",
      "Sport 5606\n",
      "Epreuve 5606\n",
      "Position 5606\n"
     ]
    },
    {
     "name": "stderr",
     "output_type": "stream",
     "text": [
      " 89%|████████▉ | 300/338 [00:55<00:06,  5.87it/s]"
     ]
    },
    {
     "name": "stdout",
     "output_type": "stream",
     "text": [
      "Scrapping:halterophilie/59kg-f\n",
      "1\n",
      "1\n",
      "1\n",
      "cas individuel\n",
      "['Gold', 'Silver', 'Bronze', 'NA', 'NA', 'NA', 'NA', 'NA', 'NA', 'NA', 'NA', 'NA', 'NA', 'NA']\n",
      "Name: 5620\n",
      "Medaille 5620\n",
      "Pays 5620\n",
      "Resultat 5620\n",
      "Sport 5620\n",
      "Epreuve 5620\n",
      "Position 5620\n"
     ]
    },
    {
     "name": "stderr",
     "output_type": "stream",
     "text": [
      " 89%|████████▉ | 301/338 [00:55<00:06,  5.42it/s]"
     ]
    },
    {
     "name": "stdout",
     "output_type": "stream",
     "text": [
      "Scrapping:skateboard/park-f\n",
      "1\n",
      "1\n",
      "1\n",
      "cas individuel\n",
      "['Gold', 'Silver', 'Bronze', 'NA', 'NA', 'NA', 'NA', 'NA', 'NA', 'NA', 'NA', 'NA', 'NA', 'NA', 'NA', 'NA', 'NA', 'NA', 'NA', 'NA']\n",
      "Name: 5640\n",
      "Medaille 5640\n",
      "Pays 5640\n",
      "Resultat 5640\n",
      "Sport 5640\n",
      "Epreuve 5640\n",
      "Position 5640\n"
     ]
    },
    {
     "name": "stderr",
     "output_type": "stream",
     "text": [
      " 89%|████████▉ | 302/338 [00:55<00:07,  5.13it/s]"
     ]
    },
    {
     "name": "stdout",
     "output_type": "stream",
     "text": [
      "Scrapping:athletisme/3000m-steeple-f\n",
      "1\n",
      "1\n",
      "1\n",
      "cas individuel\n",
      "['Gold', 'Silver', 'Bronze', 'NA', 'NA', 'NA', 'NA', 'NA', 'NA', 'NA', 'NA', 'NA', 'NA', 'NA', 'NA', 'NA']\n",
      "Name: 5656\n",
      "Medaille 5656\n",
      "Pays 5656\n",
      "Resultat 5656\n",
      "Sport 5656\n",
      "Epreuve 5656\n",
      "Position 5656\n",
      "Scrapping:boxe/lourd-81-91kg-h\n"
     ]
    },
    {
     "name": "stderr",
     "output_type": "stream",
     "text": [
      " 90%|████████▉ | 303/338 [00:55<00:07,  4.95it/s]"
     ]
    },
    {
     "name": "stdout",
     "output_type": "stream",
     "text": [
      "1\n",
      "1\n",
      "2\n",
      "cas individuel\n",
      "['Gold', 'Silver', 'Bronze', 'Bronze', 'NA', 'NA', 'NA', 'NA', 'NA', 'NA', 'NA', 'NA', 'NA', 'NA', 'NA', 'NA', 'NA']\n",
      "Name: 5673\n",
      "Medaille 5673\n",
      "Pays 5673\n",
      "Resultat 5673\n",
      "Sport 5673\n",
      "Epreuve 5673\n",
      "Position 5673\n",
      "Scrapping:voile/49er-h\n"
     ]
    },
    {
     "name": "stderr",
     "output_type": "stream",
     "text": [
      " 90%|████████▉ | 304/338 [00:56<00:09,  3.75it/s]"
     ]
    },
    {
     "name": "stdout",
     "output_type": "stream",
     "text": [
      "1\n",
      "1\n",
      "1\n",
      "cas team\n",
      "['Gold', 'Gold', 'Silver', 'Silver', 'Bronze', 'Bronze', 'NA', 'NA', 'NA', 'NA', 'NA', 'NA', 'NA', 'NA', 'NA', 'NA', 'NA', 'NA', 'NA', 'NA', 'NA', 'NA', 'NA', 'NA', 'NA', 'NA', 'NA', 'NA', 'NA', 'NA', 'NA', 'NA', 'NA', 'NA', 'NA', 'NA', 'NA', 'NA']\n",
      "Name: 5711\n",
      "Medaille 5711\n",
      "Pays 5711\n",
      "Resultat 5711\n",
      "Sport 5711\n",
      "Epreuve 5711\n",
      "Position 5711\n",
      "Scrapping:cyclisme-sur-piste/keirin-f\n"
     ]
    },
    {
     "name": "stderr",
     "output_type": "stream",
     "text": [
      " 90%|█████████ | 305/338 [00:56<00:10,  3.25it/s]"
     ]
    },
    {
     "name": "stdout",
     "output_type": "stream",
     "text": [
      "1\n",
      "1\n",
      "1\n",
      "cas individuel\n",
      "['Gold', 'Silver', 'Bronze', 'NA', 'NA', 'NA', 'NA', 'NA', 'NA', 'NA', 'NA', 'NA', 'NA', 'NA', 'NA', 'NA', 'NA', 'NA', 'NA', 'NA', 'NA', 'NA', 'NA', 'NA', 'NA', 'NA', 'NA', 'NA', 'NA']\n",
      "Name: 5740\n",
      "Medaille 5740\n",
      "Pays 5740\n",
      "Resultat 5740\n",
      "Sport 5740\n",
      "Epreuve 5740\n",
      "Position 5740\n",
      "Scrapping:gymnastique-artistique/saut-de-cheval-h\n"
     ]
    },
    {
     "name": "stderr",
     "output_type": "stream",
     "text": [
      " 91%|█████████ | 306/338 [00:56<00:10,  3.00it/s]"
     ]
    },
    {
     "name": "stdout",
     "output_type": "stream",
     "text": [
      "1\n",
      "1\n",
      "1\n",
      "cas individuel\n",
      "['Gold', 'Silver', 'Bronze', 'NA', 'NA', 'NA', 'NA', 'NA']\n",
      "Name: 5748\n",
      "Medaille 5748\n",
      "Pays 5748\n",
      "Resultat 5748\n",
      "Sport 5748\n",
      "Epreuve 5748\n",
      "Position 5748\n",
      "Scrapping:athletisme/800m-f\n"
     ]
    },
    {
     "name": "stderr",
     "output_type": "stream",
     "text": [
      " 91%|█████████ | 307/338 [00:57<00:09,  3.23it/s]"
     ]
    },
    {
     "name": "stdout",
     "output_type": "stream",
     "text": [
      "1\n",
      "1\n",
      "1\n",
      "cas individuel\n",
      "['Gold', 'Silver', 'Bronze', 'NA', 'NA', 'NA', 'NA', 'NA']\n",
      "Name: 5756\n",
      "Medaille 5756\n",
      "Pays 5756\n",
      "Resultat 5756\n",
      "Sport 5756\n",
      "Epreuve 5756\n",
      "Position 5756\n",
      "Scrapping:vtt/cross-country-f\n"
     ]
    },
    {
     "name": "stderr",
     "output_type": "stream",
     "text": [
      " 92%|█████████▏| 310/338 [00:57<00:05,  4.93it/s]"
     ]
    },
    {
     "name": "stdout",
     "output_type": "stream",
     "text": [
      "1\n",
      "1\n",
      "1\n",
      "cas individuel\n",
      "['Gold', 'Silver', 'Bronze', 'NA', 'NA', 'NA', 'NA', 'NA', 'NA', 'NA', 'NA', 'NA', 'NA', 'NA', 'NA', 'NA', 'NA', 'NA', 'NA', 'NA', 'NA', 'NA', 'NA', 'NA', 'NA', 'NA', 'NA', 'NA', 'NA', 'NA', 'NA', 'NA', 'NA', 'NA', 'NA', 'NA', 'NA', 'NA']\n",
      "Name: 5794\n",
      "Medaille 5794\n",
      "Pays 5794\n",
      "Resultat 5794\n",
      "Sport 5794\n",
      "Epreuve 5794\n",
      "Position 5794\n",
      "Scrapping:gymnastique-trampoline/homme\n",
      "1\n",
      "1\n",
      "1\n",
      "cas individuel\n",
      "['Gold', 'Silver', 'Bronze', 'NA', 'NA', 'NA', 'NA', 'NA']\n",
      "Name: 5802\n",
      "Medaille 5802\n",
      "Pays 5802\n",
      "Resultat 5802\n",
      "Sport 5802\n",
      "Epreuve 5802\n",
      "Position 5802\n",
      "Scrapping:plongeon/plateforme-10m-f\n"
     ]
    },
    {
     "name": "stderr",
     "output_type": "stream",
     "text": [
      " 92%|█████████▏| 311/338 [00:57<00:05,  4.75it/s]"
     ]
    },
    {
     "name": "stdout",
     "output_type": "stream",
     "text": [
      "1\n",
      "1\n",
      "1\n",
      "cas individuel\n",
      "['Gold', 'Silver', 'Bronze', 'NA', 'NA', 'NA', 'NA', 'NA', 'NA', 'NA', 'NA', 'NA', 'NA', 'NA', 'NA', 'NA', 'NA', 'NA', 'NA', 'NA', 'NA', 'NA', 'NA', 'NA', 'NA', 'NA', 'NA', 'NA', 'NA', 'NA']\n",
      "Name: 5832\n",
      "Medaille 5832\n",
      "Pays 5832\n",
      "Resultat 5832\n",
      "Sport 5832\n",
      "Epreuve 5832\n",
      "Position 5832\n",
      "Scrapping:judo/57-kg-f\n"
     ]
    },
    {
     "name": "stderr",
     "output_type": "stream",
     "text": [
      " 93%|█████████▎| 313/338 [00:58<00:04,  5.68it/s]"
     ]
    },
    {
     "name": "stdout",
     "output_type": "stream",
     "text": [
      "1\n",
      "1\n",
      "2\n",
      "cas individuel\n",
      "['Gold', 'Silver', 'Bronze', 'Bronze', 'NA', 'NA', 'NA', 'NA', 'NA', 'NA', 'NA', 'NA', 'NA', 'NA', 'NA', 'NA', 'NA', 'NA', 'NA', 'NA', 'NA', 'NA', 'NA', 'NA', 'NA']\n",
      "Name: 5857\n",
      "Medaille 5857\n",
      "Pays 5857\n",
      "Resultat 5857\n",
      "Sport 5857\n",
      "Epreuve 5857\n",
      "Position 5857\n",
      "Scrapping:voile/laser-h\n"
     ]
    },
    {
     "name": "stderr",
     "output_type": "stream",
     "text": [
      " 93%|█████████▎| 314/338 [00:58<00:05,  4.67it/s]"
     ]
    },
    {
     "name": "stdout",
     "output_type": "stream",
     "text": [
      "1\n",
      "1\n",
      "1\n",
      "cas individuel\n",
      "['Gold', 'Silver', 'Bronze', 'NA', 'NA', 'NA', 'NA', 'NA', 'NA', 'NA', 'NA', 'NA', 'NA', 'NA', 'NA', 'NA', 'NA', 'NA', 'NA', 'NA', 'NA', 'NA', 'NA', 'NA', 'NA', 'NA', 'NA', 'NA', 'NA', 'NA', 'NA', 'NA', 'NA', 'NA', 'NA']\n",
      "Name: 5892\n",
      "Medaille 5892\n",
      "Pays 5892\n",
      "Resultat 5892\n",
      "Sport 5892\n",
      "Epreuve 5892\n",
      "Position 5892\n",
      "Scrapping:natation/200m-brasse-f\n",
      "1\n",
      "1\n",
      "1\n",
      "cas individuel\n",
      "['Gold', 'Silver', 'Bronze', 'NA', 'NA', 'NA', 'NA', 'NA']\n",
      "Name: 5900\n",
      "Medaille 5900\n",
      "Pays 5900\n",
      "Resultat 5900\n",
      "Sport 5900\n",
      "Epreuve 5900\n",
      "Position 5900\n"
     ]
    },
    {
     "name": "stderr",
     "output_type": "stream",
     "text": [
      " 94%|█████████▍| 317/338 [00:58<00:02,  7.03it/s]"
     ]
    },
    {
     "name": "stdout",
     "output_type": "stream",
     "text": [
      "Scrapping:athletisme/heptathlon-f\n"
     ]
    },
    {
     "name": "stderr",
     "output_type": "stream",
     "text": [
      " 94%|█████████▍| 319/338 [00:59<00:03,  5.68it/s]"
     ]
    },
    {
     "name": "stdout",
     "output_type": "stream",
     "text": [
      "1\n",
      "1\n",
      "1\n",
      "cas individuel\n",
      "['Gold', 'Silver', 'Bronze', 'NA', 'NA', 'NA', 'NA', 'NA', 'NA', 'NA', 'NA', 'NA', 'NA', 'NA', 'NA', 'NA', 'NA', 'NA', 'NA', 'NA', 'NA', 'NA', 'NA', 'NA']\n",
      "Name: 5924\n",
      "Medaille 5924\n",
      "Pays 5924\n",
      "Resultat 5924\n",
      "Sport 5924\n",
      "Epreuve 5924\n",
      "Position 5924\n",
      "Scrapping:natation/200m-nage-libre-h\n",
      "1\n",
      "1\n",
      "1\n",
      "cas individuel\n",
      "['Gold', 'Silver', 'Bronze', 'NA', 'NA', 'NA', 'NA', 'NA']\n",
      "Name: 5932\n",
      "Medaille 5932\n",
      "Pays 5932\n",
      "Resultat 5932\n",
      "Sport 5932\n",
      "Epreuve 5932\n",
      "Position 5932\n",
      "Scrapping:athletisme/lancer-du-marteau-f\n"
     ]
    },
    {
     "name": "stderr",
     "output_type": "stream",
     "text": [
      " 95%|█████████▍| 321/338 [00:59<00:03,  4.52it/s]"
     ]
    },
    {
     "name": "stdout",
     "output_type": "stream",
     "text": [
      "1\n",
      "1\n",
      "1\n",
      "cas individuel\n",
      "['Gold', 'Silver', 'Bronze', 'NA', 'NA', 'NA', 'NA', 'NA', 'NA', 'NA', 'NA', 'NA']\n",
      "Name: 5944\n",
      "Medaille 5944\n",
      "Pays 5944\n",
      "Resultat 5944\n",
      "Sport 5944\n",
      "Epreuve 5944\n",
      "Position 5944\n",
      "Scrapping:natation/100m-dos-h\n",
      "1\n",
      "1\n",
      "1\n",
      "cas individuel\n",
      "['Gold', 'Silver', 'Bronze', 'NA', 'NA', 'NA', 'NA', 'NA']\n",
      "Name: 5952\n",
      "Medaille 5952\n",
      "Pays 5952\n",
      "Resultat 5952\n",
      "Sport 5952\n",
      "Epreuve 5952\n",
      "Position 5952\n"
     ]
    },
    {
     "name": "stderr",
     "output_type": "stream",
     "text": [
      " 95%|█████████▌| 322/338 [01:00<00:03,  4.57it/s]"
     ]
    },
    {
     "name": "stdout",
     "output_type": "stream",
     "text": [
      "Scrapping:gymnastique-artistique/barres-asymetriques-f\n",
      "1\n",
      "1\n",
      "1\n",
      "cas individuel\n",
      "['Gold', 'Silver', 'Bronze', 'NA', 'NA', 'NA', 'NA', 'NA']\n",
      "Name: 5960\n",
      "Medaille 5960\n",
      "Pays 5960\n",
      "Resultat 5960\n",
      "Sport 5960\n",
      "Epreuve 5960\n",
      "Position 5960\n"
     ]
    },
    {
     "name": "stderr",
     "output_type": "stream",
     "text": [
      " 96%|█████████▌| 323/338 [01:00<00:03,  4.60it/s]"
     ]
    },
    {
     "name": "stdout",
     "output_type": "stream",
     "text": [
      "Scrapping:cyclisme-bmx-racing/femme\n",
      "1\n",
      "1\n",
      "1\n",
      "cas individuel\n",
      "['Gold', 'Silver', 'Bronze', 'NA', 'NA', 'NA', 'NA', 'NA', 'NA', 'NA', 'NA', 'NA', 'NA', 'NA', 'NA', 'NA', 'NA', 'NA', 'NA', 'NA', 'NA', 'NA', 'NA', 'NA']\n",
      "Name: 5984\n",
      "Medaille 5984\n",
      "Pays 5984\n",
      "Resultat 5984\n",
      "Sport 5984\n",
      "Epreuve 5984\n",
      "Position 5984\n",
      "Scrapping:cyclisme-sur-route/course-sur-route-f\n"
     ]
    },
    {
     "name": "stderr",
     "output_type": "stream",
     "text": [
      " 96%|█████████▌| 324/338 [01:00<00:03,  3.67it/s]"
     ]
    },
    {
     "name": "stdout",
     "output_type": "stream",
     "text": [
      "1\n",
      "1\n",
      "1\n",
      "cas individuel\n",
      "['Gold', 'Silver', 'Bronze', 'NA', 'NA', 'NA', 'NA', 'NA', 'NA', 'NA', 'NA', 'NA', 'NA', 'NA', 'NA', 'NA', 'NA', 'NA', 'NA', 'NA', 'NA', 'NA', 'NA', 'NA', 'NA', 'NA', 'NA', 'NA', 'NA', 'NA', 'NA', 'NA', 'NA', 'NA', 'NA', 'NA', 'NA', 'NA', 'NA', 'NA', 'NA', 'NA', 'NA', 'NA', 'NA', 'NA', 'NA', 'NA', 'NA', 'NA', 'NA', 'NA', 'NA', 'NA', 'NA', 'NA', 'NA', 'NA', 'NA', 'NA', 'NA', 'NA', 'NA', 'NA', 'NA', 'NA', 'NA']\n",
      "Name: 6051\n",
      "Medaille 6051\n",
      "Pays 6051\n",
      "Resultat 6051\n",
      "Sport 6051\n",
      "Epreuve 6051\n",
      "Position 6051\n",
      "Scrapping:badminton/double-mixte\n",
      "1\n",
      "1\n",
      "1\n",
      "cas team\n",
      "['Gold', 'Gold', 'Silver', 'Silver', 'Bronze', 'Bronze', 'NA', 'NA', 'NA', 'NA', 'NA', 'NA', 'NA', 'NA', 'NA', 'NA', 'NA', 'NA', 'NA', 'NA', 'NA', 'NA', 'NA', 'NA', 'NA', 'NA', 'NA', 'NA', 'NA', 'NA', 'NA', 'NA']\n",
      "Name: 6083\n",
      "Medaille 6083\n",
      "Pays 6083\n",
      "Resultat 6083\n",
      "Sport 6083\n",
      "Epreuve 6083\n",
      "Position 6083\n"
     ]
    },
    {
     "name": "stderr",
     "output_type": "stream",
     "text": [
      " 96%|█████████▌| 325/338 [01:00<00:03,  3.89it/s]"
     ]
    },
    {
     "name": "stdout",
     "output_type": "stream",
     "text": [
      "Scrapping:canoe-sprint/canoe-simple-1000m-h\n"
     ]
    },
    {
     "name": "stderr",
     "output_type": "stream",
     "text": [
      " 96%|█████████▋| 326/338 [01:01<00:03,  3.85it/s]"
     ]
    },
    {
     "name": "stdout",
     "output_type": "stream",
     "text": [
      "1\n",
      "1\n",
      "1\n",
      "cas individuel\n",
      "['Gold', 'Silver', 'Bronze', 'NA', 'NA', 'NA', 'NA', 'NA', 'NA', 'NA', 'NA', 'NA', 'NA', 'NA', 'NA', 'NA', 'NA', 'NA', 'NA', 'NA', 'NA', 'NA', 'NA', 'NA', 'NA', 'NA', 'NA', 'NA', 'NA', 'NA', 'NA', 'NA', 'NA']\n",
      "Name: 6116\n",
      "Medaille 6116\n",
      "Pays 6116\n",
      "Resultat 6116\n",
      "Sport 6116\n",
      "Epreuve 6116\n",
      "Position 6116\n",
      "Scrapping:judo/48kg-f\n",
      "1\n",
      "1\n",
      "2\n",
      "cas individuel\n",
      "['Gold', 'Silver', 'Bronze', 'Bronze', 'NA', 'NA', 'NA', 'NA', 'NA', 'NA', 'NA', 'NA', 'NA', 'NA', 'NA', 'NA', 'NA', 'NA', 'NA', 'NA', 'NA', 'NA', 'NA', 'NA', 'NA', 'NA', 'NA', 'NA']\n",
      "Name: 6144\n",
      "Medaille 6144\n",
      "Pays 6144\n",
      "Resultat 6144\n",
      "Sport 6144\n",
      "Epreuve 6144\n",
      "Position 6144\n"
     ]
    },
    {
     "name": "stderr",
     "output_type": "stream",
     "text": [
      " 97%|█████████▋| 327/338 [01:01<00:02,  4.00it/s]"
     ]
    },
    {
     "name": "stdout",
     "output_type": "stream",
     "text": [
      "Scrapping:athletisme/50km-marche-h\n"
     ]
    },
    {
     "name": "stderr",
     "output_type": "stream",
     "text": [
      " 97%|█████████▋| 328/338 [01:01<00:03,  3.32it/s]"
     ]
    },
    {
     "name": "stdout",
     "output_type": "stream",
     "text": [
      "1\n",
      "1\n",
      "1\n",
      "cas individuel\n",
      "['Gold', 'Silver', 'Bronze', 'NA', 'NA', 'NA', 'NA', 'NA', 'NA', 'NA', 'NA', 'NA', 'NA', 'NA', 'NA', 'NA', 'NA', 'NA', 'NA', 'NA', 'NA', 'NA', 'NA', 'NA', 'NA', 'NA', 'NA', 'NA', 'NA', 'NA', 'NA', 'NA', 'NA', 'NA', 'NA', 'NA', 'NA', 'NA', 'NA', 'NA', 'NA', 'NA', 'NA', 'NA', 'NA', 'NA', 'NA', 'NA', 'NA', 'NA', 'NA', 'NA', 'NA', 'NA', 'NA', 'NA', 'NA', 'NA', 'NA']\n",
      "Name: 6203\n",
      "Medaille 6203\n",
      "Pays 6203\n",
      "Resultat 6203\n",
      "Sport 6203\n",
      "Epreuve 6203\n",
      "Position 6203\n",
      "Scrapping:athletisme/5000m-f\n"
     ]
    },
    {
     "name": "stderr",
     "output_type": "stream",
     "text": [
      " 97%|█████████▋| 329/338 [01:02<00:03,  2.74it/s]"
     ]
    },
    {
     "name": "stdout",
     "output_type": "stream",
     "text": [
      "1\n",
      "1\n",
      "1\n",
      "cas individuel\n",
      "['Gold', 'Silver', 'Bronze', 'NA', 'NA', 'NA', 'NA', 'NA', 'NA', 'NA', 'NA', 'NA', 'NA', 'NA', 'NA']\n",
      "Name: 6218\n",
      "Medaille 6218\n",
      "Pays 6218\n",
      "Resultat 6218\n",
      "Sport 6218\n",
      "Epreuve 6218\n",
      "Position 6218\n",
      "Scrapping:canoe-sprint/kayak-simple-500m-f\n"
     ]
    },
    {
     "name": "stderr",
     "output_type": "stream",
     "text": [
      " 98%|█████████▊| 330/338 [01:02<00:02,  2.86it/s]"
     ]
    },
    {
     "name": "stdout",
     "output_type": "stream",
     "text": [
      "1\n",
      "1\n",
      "1\n",
      "cas individuel\n",
      "['Gold', 'Silver', 'Bronze', 'NA', 'NA', 'NA', 'NA', 'NA', 'NA', 'NA', 'NA', 'NA', 'NA', 'NA', 'NA', 'NA', 'NA', 'NA', 'NA', 'NA', 'NA', 'NA', 'NA', 'NA', 'NA', 'NA', 'NA', 'NA', 'NA', 'NA', 'NA', 'NA', 'NA', 'NA', 'NA', 'NA', 'NA', 'NA', 'NA', 'NA', 'NA']\n",
      "Name: 6259\n",
      "Medaille 6259\n",
      "Pays 6259\n",
      "Resultat 6259\n",
      "Sport 6259\n",
      "Epreuve 6259\n",
      "Position 6259\n",
      "Scrapping:golf/stroke-play-individuel-f\n"
     ]
    },
    {
     "name": "stderr",
     "output_type": "stream",
     "text": [
      " 98%|█████████▊| 331/338 [01:02<00:02,  2.89it/s]"
     ]
    },
    {
     "name": "stdout",
     "output_type": "stream",
     "text": [
      "1\n",
      "1\n",
      "1\n",
      "cas individuel\n",
      "['Gold', 'Silver', 'Bronze', 'NA', 'NA', 'NA', 'NA', 'NA', 'NA', 'NA', 'NA', 'NA', 'NA', 'NA', 'NA', 'NA', 'NA', 'NA', 'NA', 'NA', 'NA', 'NA', 'NA', 'NA', 'NA', 'NA', 'NA', 'NA', 'NA', 'NA', 'NA', 'NA', 'NA', 'NA', 'NA', 'NA', 'NA', 'NA', 'NA', 'NA', 'NA', 'NA', 'NA', 'NA', 'NA', 'NA', 'NA', 'NA', 'NA', 'NA', 'NA', 'NA', 'NA', 'NA', 'NA', 'NA', 'NA', 'NA', 'NA', 'NA']\n",
      "Name: 6319\n",
      "Medaille 6319\n",
      "Pays 6319\n",
      "Resultat 6319\n",
      "Sport 6319\n",
      "Epreuve 6319\n",
      "Position 6319\n",
      "Scrapping:badminton/simple-h\n"
     ]
    },
    {
     "name": "stderr",
     "output_type": "stream",
     "text": [
      " 98%|█████████▊| 332/338 [01:03<00:01,  3.10it/s]"
     ]
    },
    {
     "name": "stdout",
     "output_type": "stream",
     "text": [
      "1\n",
      "1\n",
      "1\n",
      "cas individuel\n",
      "['Gold', 'Silver', 'Bronze', 'NA', 'NA', 'NA', 'NA', 'NA', 'NA', 'NA', 'NA', 'NA', 'NA', 'NA', 'NA', 'NA', 'NA', 'NA', 'NA', 'NA', 'NA', 'NA', 'NA', 'NA', 'NA', 'NA', 'NA', 'NA', 'NA', 'NA', 'NA', 'NA', 'NA', 'NA', 'NA', 'NA', 'NA', 'NA', 'NA', 'NA', 'NA', 'NA']\n",
      "Name: 6361\n",
      "Medaille 6361\n",
      "Pays 6361\n",
      "Resultat 6361\n",
      "Sport 6361\n",
      "Epreuve 6361\n",
      "Position 6361\n",
      "Scrapping:boxe/leger-57-63kg-h\n",
      "1\n",
      "1\n",
      "2\n",
      "cas individuel\n",
      "['Gold', 'Silver', 'Bronze', 'Bronze', 'NA', 'NA', 'NA', 'NA', 'NA', 'NA', 'NA', 'NA', 'NA', 'NA', 'NA', 'NA', 'NA', 'NA', 'NA', 'NA', 'NA', 'NA', 'NA', 'NA', 'NA', 'NA', 'NA', 'NA', 'NA']\n",
      "Name: 6390\n",
      "Medaille 6390\n",
      "Pays 6390\n",
      "Resultat 6390\n",
      "Sport 6390\n",
      "Epreuve 6390\n",
      "Position 6390\n"
     ]
    },
    {
     "name": "stderr",
     "output_type": "stream",
     "text": [
      " 99%|█████████▊| 333/338 [01:03<00:01,  3.47it/s]"
     ]
    },
    {
     "name": "stdout",
     "output_type": "stream",
     "text": [
      "Scrapping:athletisme/lancer-du-disque-f\n"
     ]
    },
    {
     "name": "stderr",
     "output_type": "stream",
     "text": [
      " 99%|█████████▉| 334/338 [01:03<00:01,  3.52it/s]"
     ]
    },
    {
     "name": "stdout",
     "output_type": "stream",
     "text": [
      "1\n",
      "1\n",
      "1\n",
      "cas individuel\n",
      "['Gold', 'Silver', 'Bronze', 'NA', 'NA', 'NA', 'NA', 'NA', 'NA', 'NA', 'NA', 'NA']\n",
      "Name: 6402\n",
      "Medaille 6402\n",
      "Pays 6402\n",
      "Resultat 6402\n",
      "Sport 6402\n",
      "Epreuve 6402\n",
      "Position 6402\n",
      "Scrapping:gymnastique-artistique/anneaux-h\n",
      "1\n",
      "1\n",
      "1\n",
      "cas individuel\n",
      "['Gold', 'Silver', 'Bronze', 'NA', 'NA', 'NA', 'NA', 'NA']\n",
      "Name: 6410\n",
      "Medaille 6410\n",
      "Pays 6410\n",
      "Resultat 6410\n",
      "Sport 6410\n",
      "Epreuve 6410\n",
      "Position 6410\n"
     ]
    },
    {
     "name": "stderr",
     "output_type": "stream",
     "text": [
      "100%|██████████| 338/338 [01:03<00:00,  5.29it/s]"
     ]
    },
    {
     "name": "stdout",
     "output_type": "stream",
     "text": [
      "Name: 6410\n",
      "Medaille 6410\n",
      "Pays 6410\n",
      "Resultat 6410\n",
      "Sport 6410\n",
      "Epreuve 6410\n",
      "Position 6410\n"
     ]
    },
    {
     "name": "stderr",
     "output_type": "stream",
     "text": [
      "\n"
     ]
    }
   ],
   "source": [
    "list_name=[]\n",
    "list_epreuve=[]\n",
    "list_pays=[]\n",
    "list_resultat=[]\n",
    "list_sport=[]\n",
    "list_medaille=[]\n",
    "listtocheck=[]\n",
    "list_position=[]\n",
    "\n",
    "from tqdm import tqdm\n",
    "for epreuve,team in tqdm(liste_epreuve_team):\n",
    "    \n",
    "    session = HTMLSession()\n",
    "    if team==0:\n",
    "        print(\"Scrapping:\"+epreuve)\n",
    "        url=\"https://olympics.com/fr/olympic-games/tokyo-2020/results/\" +epreuve\n",
    "        #url=\"https://olympics.com/fr/olympic-games/tokyo-2020/results/lutte/libre-97kg-h\"\n",
    "        resp = session.get(url)\n",
    "        if(resp.status_code==404):\n",
    "            print(url+\":\"+ str(resp.status_code))\n",
    "        string2=resp.html.html\n",
    "        soup = BeautifulSoup(string2, 'html.parser')\n",
    "\n",
    "        # with open(\"res.txt\",\"w\") as f:\n",
    "        #     f.write(string2)\n",
    "        # with open(\"res.txt\",\"w\",encoding=\"utf-8\") as f:\n",
    "        #     f.write(string2)\n",
    "\n",
    "\n",
    "        name_nodes = soup.find_all('h3', class_=\"styles__AthleteName-sc-1yhe77y-3 jkTgwS\")\n",
    "        \n",
    "        \n",
    "        \n",
    "        Position_nodes=soup.find_all('span',class_=\"Medalstyles__Medal-sc-1tu6huk-1 kWBkBo\")\n",
    "        #print(\"position\",len(Position_nodes))\n",
    "        pays_nodes= soup.find_all('span', class_=\"styles__CountryName-sc-1r5phm6-1 bojjbG\")\n",
    "        \n",
    "        resultat_nodes=soup.find_all('span',class_=\"styles__Info-sc-cjoz4h-0 kLiUyB\")\n",
    "        \n",
    "        # pays_nodes))\n",
    "\n",
    "        if(len(name_nodes)>len(pays_nodes)):\n",
    "            in_team=1\n",
    "        else:\n",
    "            in_team=0\n",
    "\n",
    "\n",
    "\n",
    "\n",
    "        #NOM OK\n",
    "        for e in name_nodes:\n",
    "            list_name.append(e.text)\n",
    "\n",
    "        #RESULTAT OK\n",
    "\n",
    "        if(in_team==0):# individuel\n",
    "            if(len(name_nodes)==len(resultat_nodes)):\n",
    "                for res in resultat_nodes:\n",
    "                    list_resultat.append(res.text)\n",
    "            else:\n",
    "                  for j in range(len(name_nodes)):\n",
    "                      list_resultat.append(\"Unknown\") \n",
    "        else:#team\n",
    "            if(len(name_nodes)==2*len(resultat_nodes)):\n",
    "                for res in resultat_nodes:\n",
    "                    for i in range(2):\n",
    "                        list_resultat.append(res.text)\n",
    "            else:\n",
    "                for j in range(len(name_nodes)):\n",
    "                    list_resultat.append(\"Unknown\") \n",
    "\n",
    "        try:\n",
    "            list_resultat.remove('DNS')\n",
    "        except:\n",
    "                pass\n",
    "        try:\n",
    "            list_resultat.remove('DNF')\n",
    "        except:\n",
    "                pass\n",
    "        try:\n",
    "            list_resultat.remove('DQ')\n",
    "        except:\n",
    "            pass\n",
    "            \n",
    "\n",
    "        #PAYS OK\n",
    "        if(in_team==0):# individuel\n",
    "            \n",
    "            for p in pays_nodes:\n",
    "                list_pays.append(p.text)\n",
    "\n",
    "        else:#team  \n",
    "            \n",
    "            for p in pays_nodes:\n",
    "                for j in range(2):\n",
    "                    list_pays.append(p.text)\n",
    "            \n",
    "\n",
    "        #POSITION \n",
    "\n",
    "        nbOr=len(soup.find_all('span',class_=\"Medalstyles__Medal-sc-1tu6huk-1 gHnuPI\"))\n",
    "        nbArgent=len(soup.find_all('span',class_=\"Medalstyles__Medal-sc-1tu6huk-1 lzFVJ\"))\n",
    "        nbBronze=len(soup.find_all('span',class_=\"Medalstyles__Medal-sc-1tu6huk-1 brSNnJ\"))\n",
    "\n",
    "        print(nbOr)\n",
    "        print(nbArgent)\n",
    "        print(nbBronze)\n",
    "        \n",
    "        listtocheck=[]\n",
    "        if(in_team==0):# individuel // il faut ajouter\n",
    "            for j in range(nbOr):\n",
    "                list_position.append(\"1\")\n",
    "                # listtocheck.append(\"1\")\n",
    "            for j in range(nbArgent):\n",
    "                list_position.append(\"2\")\n",
    "                # listtocheck.append(\"2\")\n",
    "            for j in range(nbBronze):\n",
    "                list_position.append(\"3\")\n",
    "                # listtocheck.append(\"3\")\n",
    "            \n",
    "            for p in Position_nodes:\n",
    "                list_position.append(p.text)\n",
    "                # listtocheck.append(p.text)\n",
    "            \n",
    "            \n",
    "        else:#team  \n",
    "            \n",
    "                for j in range(nbOr):\n",
    "                    list_position.append(\"1\")\n",
    "                    list_position.append(\"1\")\n",
    "                    # listtocheck.append(\"1\")\n",
    "                    # listtocheck.append(\"1\")\n",
    "                for j in range(nbArgent):\n",
    "                    list_position.append(\"2\")\n",
    "                    list_position.append(\"2\")\n",
    "                    # listtocheck.append(\"2\")\n",
    "                    # listtocheck.append(\"2\")\n",
    "                for j in range(nbBronze):\n",
    "                    list_position.append(\"3\")\n",
    "                    list_position.append(\"3\")\n",
    "                    # listtocheck.append(\"3\")\n",
    "                    # listtocheck.append(\"3\")\n",
    "#['1', '2', '3', '4', '4', '5', '5', '6', '6', '7', '7', '8', '8', '9', '9', '10', '10', '11', '11', '12', '12', '13', '13']\n",
    "\n",
    "\n",
    "\n",
    "            \n",
    "                for p in Position_nodes:\n",
    "                    for j in range(2):\n",
    "                        list_position.append(p.text)\n",
    "                        # listtocheck.append(p.text)\n",
    "        # print(listtocheck)\n",
    "        #print(nbOr,nbArgent,nbBronze)\n",
    "        #print(in_team)\n",
    "\n",
    "        #list_position = list(map(lambda x: if x==\"\" x.replace('', 'Non classé') else x, list_position))\n",
    "            \n",
    "\n",
    "            \n",
    "        #MEDAILLE\n",
    "        if(in_team==0):# individuel\n",
    "            print(\"cas individuel\")\n",
    "            for i,name in enumerate(name_nodes):\n",
    "                if(i<nbOr):\n",
    "                    list_medaille.append('Gold')\n",
    "                    listtocheck.append('Gold')\n",
    "                elif(i>=nbOr and i<nbOr+nbArgent):\n",
    "                    list_medaille.append('Silver')\n",
    "                    listtocheck.append('Silver')\n",
    "                elif(i>=nbArgent+nbOr and i<(nbArgent+nbOr+nbBronze)):\n",
    "                    list_medaille.append('Bronze')\n",
    "                    listtocheck.append('Bronze')\n",
    "                else:\n",
    "                    list_medaille.append('NA')\n",
    "                    listtocheck.append('NA')\n",
    "\n",
    "        else:#team   \n",
    "            print(\"cas team\")\n",
    "            for i,name in enumerate(pays_nodes):\n",
    "                if(i<nbOr):\n",
    "                    for j in range(2):\n",
    "                        list_medaille.append('Gold')\n",
    "                        listtocheck.append('Gold')\n",
    "                elif(i>=nbOr and i<nbOr+nbArgent):\n",
    "                    for j in range(2):\n",
    "                        list_medaille.append('Silver')\n",
    "                        listtocheck.append('Silver')\n",
    "                elif(i>=nbArgent+nbOr and i<nbArgent+nbOr+nbBronze):\n",
    "                    for j in range(2):\n",
    "                        list_medaille.append('Bronze')\n",
    "                        listtocheck.append('Bronze')\n",
    "                else:\n",
    "                    for j in range(2):\n",
    "                        list_medaille.append('NA')\n",
    "                        listtocheck.append('NA')\n",
    "        print(listtocheck)\n",
    "                \n",
    "\n",
    "        # SPORT EPREUVE\n",
    "        for j in range(len(name_nodes)):\n",
    "            list_sport.append(epreuve.split(\"/\")[0])\n",
    "            list_epreuve.append(epreuve.split(\"/\")[1])\n",
    "        \n",
    "        print(\"Name:\",len(list_name))\n",
    "        print(\"Medaille\",len(list_medaille))\n",
    "        print(\"Pays\",len(list_pays))\n",
    "        print(\"Resultat\",len(list_resultat))\n",
    "        print(\"Sport\",len(list_sport))\n",
    "        print(\"Epreuve\",len(list_epreuve))\n",
    "        print(\"Position\",len(list_position))\n",
    "            \n",
    "        # if(len(name_nodes)!=len(pays_nodes) and len(name_nodes)!=2*len(resultat_nodes)):\n",
    "        #     print(epreuve)\n",
    "        #     print(\"We should have \"+str(len(name_nodes)))\n",
    "        #     print(\"adding element in pays\"+str(len(pays_nodes)))\n",
    "        #     print(\"adding element in resultat\"+str(len(resultat_nodes)))\n",
    "        #     print(\"\\n\")\n",
    "list_position=['Non classé' if e=='' else e for e in list_position]    \n",
    "print(\"Name:\",len(list_name))\n",
    "print(\"Medaille\",len(list_medaille))\n",
    "print(\"Pays\",len(list_pays))\n",
    "print(\"Resultat\",len(list_resultat))\n",
    "print(\"Sport\",len(list_sport))\n",
    "print(\"Epreuve\",len(list_epreuve))\n",
    "print(\"Position\",len(list_position))\n",
    "#print(\"Position\",len(list_position))\n",
    "df=pd.DataFrame({\"Nom complet\":list_name,\"Pays\":list_pays,\"Résultat\":list_resultat,\"Sport\":list_sport,\"Epreuve\":list_epreuve,\"Médaille\":list_medaille,\"Position\":list_position})\n",
    "    #print(df)\n",
    "df.to_csv(\"dataInd.csv\",index=False)\n",
    "\n",
    "    "
   ]
  },
  {
   "cell_type": "code",
   "execution_count": 86,
   "metadata": {},
   "outputs": [
    {
     "name": "stdout",
     "output_type": "stream",
     "text": [
      "['Gold', 'Silver', 'Bronze', 'Bronze', 'NA', 'NA', 'NA', 'NA', 'NA', 'NA', 'NA', 'NA', 'NA', 'NA', 'NA', 'NA']\n"
     ]
    }
   ],
   "source": [
    "print(list_medaille)"
   ]
  },
  {
   "cell_type": "code",
   "execution_count": null,
   "metadata": {},
   "outputs": [
    {
     "name": "stdout",
     "output_type": "stream",
     "text": [
      "6427\n",
      "5922\n",
      "3479\n",
      "6427\n",
      "6427\n",
      "6427\n"
     ]
    }
   ],
   "source": [
    "print(len(list_name))\n",
    "print(len(list_pays))\n",
    "print(len(list_resultat))\n",
    "print(len(list_epreuve))\n",
    "print(len(list_sport))\n",
    "print(len(list_medaille))\n"
   ]
  },
  {
   "cell_type": "code",
   "execution_count": null,
   "metadata": {},
   "outputs": [],
   "source": [
    "df.to_csv(\"jo2020.csv\",index=False)"
   ]
  },
  {
   "attachments": {},
   "cell_type": "markdown",
   "metadata": {},
   "source": [
    "## Test scrapping cas équipe"
   ]
  },
  {
   "cell_type": "code",
   "execution_count": null,
   "metadata": {},
   "outputs": [
    {
     "name": "stdout",
     "output_type": "stream",
     "text": [
      "0\n"
     ]
    }
   ],
   "source": [
    "url=\"https://olympics.com/fr/olympic-games/tokyo-2020/results/athletisme/relais-4x100m-h\"\n",
    "resp = session.get(url)\n",
    "\n",
    "html=resp.html.html.replace('styles__TeamMembers-sc-rh9yz9-10 eAbNQi','styles__TeamMembers-sc-rh9yz9-10 eAbNQi open')\n",
    "\n",
    "\n",
    "from requests_html import HTML\n",
    "resp=HTML(html=html)\n",
    "html=resp.html\n",
    "with open('example.html','w',encoding=\"utf-8\") as f:\n",
    "     f.write(str(html))\n",
    "\n",
    "\n",
    "\n",
    "#buttons=resp.html.find(\".Iconstyles__Icon-sc-1x3fvd7-0 dwiRxK icon icon-caret-down \")\n",
    "\n",
    "# for button in buttons:\n",
    "#     resp=button.click()\n",
    "#  buttons))\n",
    "# print(resp)\n",
    "#string2=resp.html.html\n",
    "soup = BeautifulSoup(html, 'html.parser')\n",
    "pays_nodes= soup.find_all('span', class_=\"styles__CountryName-sc-rh9yz9-8 iFleUJ\")\n",
    "athlete_nodes=soup.find_all('a',class_=\"styles__AthleteLink-sc-12ivwwp-1 LVhbz\")\n",
    "# for pays in pays_nodes:\n",
    "#     print(pays.text.strip())\n",
    "\n",
    "print(len(athlete_nodes))\n",
    "for ath in athlete_nodes:\n",
    "    print(ath.text)\n",
    "    \n"
   ]
  },
  {
   "attachments": {},
   "cell_type": "markdown",
   "metadata": {},
   "source": [
    "## utilisation de selenium pour scrapper les données provenant  des epreuves en equipe\n"
   ]
  },
  {
   "cell_type": "code",
   "execution_count": 15,
   "metadata": {},
   "outputs": [
    {
     "name": "stdout",
     "output_type": "stream",
     "text": [
      "0\n"
     ]
    }
   ],
   "source": [
    "from selenium import webdriver\n",
    "from selenium.webdriver.common.by import By\n",
    "import time\n",
    "driver=webdriver.Firefox()\n",
    "driver.get(\"https://olympics.com/fr/olympic-games/tokyo-2020/results/athletisme/relais-4x100m-h\")\n",
    "time.sleep(3)\n",
    "driver.find_element(By.ID,\"onetrust-accept-btn-handler\").click()\n",
    "buttons=driver.find_elements(By.CLASS_NAME,\"styles__IconWrapper-sc-rh9yz9-7 hnlCLQ\")\n",
    "print(len(buttons))"
   ]
  },
  {
   "cell_type": "code",
   "execution_count": null,
   "metadata": {},
   "outputs": [],
   "source": [
    "b=driver.find_elements(By.CLASS_NAME,\"Iconstyles__Icon-sc-1x3fvd7-0.dwiRxK.icon.icon-caret-down\") \n",
    "for e in b:\n",
    "    try:\n",
    "        e.click()\n",
    "        time.sleep(0.1)\n",
    "    except:\n",
    "        pass\n",
    "#b[0].click()"
   ]
  },
  {
   "cell_type": "code",
   "execution_count": null,
   "metadata": {},
   "outputs": [
    {
     "name": "stdout",
     "output_type": "stream",
     "text": [
      "10\n",
      "32\n",
      "8\n",
      "['Gold', 'Gold', 'Gold', 'Gold', 'Silver', 'Silver', 'Silver', 'Silver', 'Bronze', 'Bronze', 'Bronze', 'Bronze', 'NA', 'NA', 'NA', 'NA', 'NA', 'NA', 'NA', 'NA', 'NA', 'NA', 'NA', 'NA', 'NA', 'NA', 'NA', 'NA', 'NA', 'NA', 'NA', 'NA']\n",
      "[' Italie', ' Italie', ' Italie', ' Italie', 'Canada', 'Canada', 'Canada', 'Canada', 'République populaire de Chine', 'République populaire de Chine', 'République populaire de Chine', 'République populaire de Chine', 'Jamaïque', 'Jamaïque', 'Jamaïque', 'Jamaïque', 'Allemagne', 'Allemagne', 'Allemagne', 'Allemagne', 'Japon', 'Japon', 'Japon', 'Japon', 'Ghana', 'Ghana', 'Ghana', 'Ghana', 'Grande-Bretagne', 'Grande-Bretagne', 'Grande-Bretagne', 'Grande-Bretagne']\n",
      "4\n",
      "                 Nom complet                           Pays  \\\n",
      "0              Eseosa Desalu                         Italie   \n",
      "1              Lorenzo Patta                         Italie   \n",
      "2      Lamont Marcell Jacobs                         Italie   \n",
      "3              Filippo Tortu                         Italie   \n",
      "4            Andre De Grasse                         Canada   \n",
      "5               Jerome Blake                         Canada   \n",
      "6             Brendon Rodney                         Canada   \n",
      "7                Aaron Brown                         Canada   \n",
      "8             Xingqiang Tang  République populaire de Chine   \n",
      "9                Zhiqiang Wu  République populaire de Chine   \n",
      "10               Bingtian Su  République populaire de Chine   \n",
      "11                Zhenye Xie  République populaire de Chine   \n",
      "12           Jevaughn Minzie                       Jamaïque   \n",
      "13               Yohan Blake                       Jamaïque   \n",
      "14           Oblique Seville                       Jamaïque   \n",
      "15              Julian Forte                       Jamaïque   \n",
      "16               Deniz Almas                      Allemagne   \n",
      "17        Lucas Ansah-Peprah                      Allemagne   \n",
      "18               Julian Reus                      Allemagne   \n",
      "19           Joshua Hartmann                      Allemagne   \n",
      "20               Shuhei Tada                          Japon   \n",
      "21            Ryota Yamagata                          Japon   \n",
      "22           Yoshihide Kiryu                          Japon   \n",
      "23                Yuki Koike                          Japon   \n",
      "24         Joseph Paul Amoah                          Ghana   \n",
      "25           Emmanuel Yeboah                          Ghana   \n",
      "26           Sean Safo-Antwi                          Ghana   \n",
      "27    Benjamin Azamati-Kwaku                          Ghana   \n",
      "28             Richard Kilty                Grande-Bretagne   \n",
      "29  Nethaneel Mitchell-Blake                Grande-Bretagne   \n",
      "30            Zharnel Hughes                Grande-Bretagne   \n",
      "31             Chijindu Ujah                Grande-Bretagne   \n",
      "\n",
      "                   Résultat Médaille  \n",
      "0                     37.50     Gold  \n",
      "1                     37.50     Gold  \n",
      "2                     37.50     Gold  \n",
      "3                     37.50     Gold  \n",
      "4                     37.70   Silver  \n",
      "5                     37.70   Silver  \n",
      "6                     37.70   Silver  \n",
      "7                     37.70   Silver  \n",
      "8                     37.79   Bronze  \n",
      "9                     37.79   Bronze  \n",
      "10                    37.79   Bronze  \n",
      "11                    37.79   Bronze  \n",
      "12                    37.84       NA  \n",
      "13                    37.84       NA  \n",
      "14                    37.84       NA  \n",
      "15                    37.84       NA  \n",
      "16                    38.12       NA  \n",
      "17                    38.12       NA  \n",
      "18                    38.12       NA  \n",
      "19                    38.12       NA  \n",
      "20          N'a pas terminé       NA  \n",
      "21          N'a pas terminé       NA  \n",
      "22          N'a pas terminé       NA  \n",
      "23          N'a pas terminé       NA  \n",
      "24              Disqualifié       NA  \n",
      "25              Disqualifié       NA  \n",
      "26              Disqualifié       NA  \n",
      "27              Disqualifié       NA  \n",
      "28  Disqualifié pour dopage       NA  \n",
      "29  Disqualifié pour dopage       NA  \n",
      "30  Disqualifié pour dopage       NA  \n",
      "31  Disqualifié pour dopage       NA  \n"
     ]
    }
   ],
   "source": [
    "list_athlete=[]\n",
    "list_pays=[]\n",
    "list_resultat=[]\n",
    "list_epreuve=[]\n",
    "list_sport=[]\n",
    "list_medaille=[]\n",
    "\n",
    "\n",
    "\n",
    "resultats=driver.find_elements(By.CLASS_NAME,\"styles__Info-sc-cjoz4h-0.kLiUyB\")\n",
    "list_resultat=[]\n",
    "for e in resultats:\n",
    "    list_resultat.append(e.text)\n",
    "print(len(list_resultat))\n",
    "\n",
    "list_resultat.remove('DNF')\n",
    "list_resultat.remove('DQ')\n",
    "list_resultat_f=[]\n",
    "for e in list_resultat:\n",
    "    for j in range(int(NbparEquipe)):\n",
    "        list_resultat_f.append(e)\n",
    "\n",
    "\n",
    "\n",
    "\n",
    "athletes=driver.find_elements(By.CLASS_NAME,\"styles__AthleteLink-sc-12ivwwp-1.LVhbz\")\n",
    "list_athlete=[e.text for e in athletes]\n",
    "\n",
    "print(len(athletes))\n",
    "pays=driver.find_elements(By.CLASS_NAME,\"styles__CountryName-sc-rh9yz9-8.iFleUJ\")\n",
    "print(len(pays))\n",
    "\n",
    "\n",
    "NbparEquipe=len(athletes)/len(pays)\n",
    "for i,p in enumerate(pays):\n",
    "    for j in range(int(NbparEquipe)):\n",
    "        list_pays.append(p.text)\n",
    "        if(i==0):\n",
    "            list_medaille.append(\"Gold\")\n",
    "        elif(i==1):\n",
    "            list_medaille.append(\"Silver\")\n",
    "        elif(i==2):\n",
    "            list_medaille.append(\"Bronze\")\n",
    "        else:\n",
    "            list_medaille.append(\"NA\")\n",
    "\n",
    "print(list_medaille)\n",
    "\n",
    "\n",
    "\n",
    "\n",
    "print(paysFinale)\n",
    "\n",
    "NbparEquipe=len(athletes)/len(pays)\n",
    "print(int(NbparEquipe))\n",
    "\n",
    "df=pd.DataFrame({\"Nom complet\":list_athlete,\"Pays\":list_pays,\"Résultat\":list_resultat_f,\"Médaille\":list_medaille})\n",
    "print(df)\n",
    "\n"
   ]
  },
  {
   "attachments": {},
   "cell_type": "markdown",
   "metadata": {},
   "source": [
    "## Mise en place de la boucle pour les sports d'équipes\n"
   ]
  },
  {
   "cell_type": "code",
   "execution_count": 29,
   "metadata": {},
   "outputs": [
    {
     "name": "stderr",
     "output_type": "stream",
     "text": [
      "  0%|          | 0/1 [00:00<?, ?it/s]"
     ]
    },
    {
     "name": "stdout",
     "output_type": "stream",
     "text": [
      "Scrapping:canoe-sprint/kayak-quatre-500m-h\n",
      "[4, 4, 4, 4, 4, 4, 4, 4, 4, 4, 4]\n"
     ]
    },
    {
     "name": "stderr",
     "output_type": "stream",
     "text": [
      "100%|██████████| 1/1 [00:15<00:00, 15.46s/it]"
     ]
    },
    {
     "name": "stdout",
     "output_type": "stream",
     "text": [
      "44\n",
      "44\n",
      "44\n",
      "44\n",
      "44\n",
      "44\n",
      "44\n",
      "44\n",
      "44\n",
      "44\n",
      "44\n",
      "44\n",
      "[]\n",
      "             Nom complet                           Pays  Résultat  \\\n",
      "0        Max Rendschmidt                      Allemagne  1:22.219   \n",
      "1              Max Lemke                      Allemagne  1:22.219   \n",
      "2           Ronald Rauhe                      Allemagne  1:22.219   \n",
      "3          Tom Liebscher                      Allemagne  1:22.219   \n",
      "4            Marcus Walz                        Espagne  1:22.445   \n",
      "5   Carlos Arevalo Lopez                        Espagne  1:22.445   \n",
      "6         Saul Craviotto                        Espagne  1:22.445   \n",
      "7        Rodrigo Germade                        Espagne  1:22.445   \n",
      "8            Denis Mysak                      Slovaquie  1:23.534   \n",
      "9             Erik Vlcek                      Slovaquie  1:23.534   \n",
      "10            Adam Botek                      Slovaquie  1:23.534   \n",
      "11          Samuel Balaz                      Slovaquie  1:23.534   \n",
      "12      Maxim Spesivtsev                            ROC  1:23.654   \n",
      "13        Roman Anoshkin                            ROC  1:23.654   \n",
      "14     Aleksandr Sergeev                            ROC  1:23.654   \n",
      "15     Artem Kuzakhmetov                            ROC  1:23.654   \n",
      "16     Dzmitry Natynchyk                        Bélarus  1:24.510   \n",
      "17        Ilya Fedarenka                        Bélarus  1:24.510   \n",
      "18        Mikita Borykau                        Bélarus  1:24.510   \n",
      "19   Uladzislau Litvinau                        Bélarus  1:24.510   \n",
      "20     Riley Fitzsimmons                      Australie  1:25.025   \n",
      "21          Lachlan Tame                      Australie  1:25.025   \n",
      "22        Murray Stewart                      Australie  1:25.025   \n",
      "23           Jordan Wood                      Australie  1:25.025   \n",
      "24          Sandor Totka                        Hongrie  1:25.068   \n",
      "25           Kornel Beke                        Hongrie  1:25.068   \n",
      "26           Bence Nadas                        Hongrie  1:25.068   \n",
      "27       Kolos Csizmadia                        Hongrie  1:25.068   \n",
      "28         Emanuel Silva                       Portugal  1:25.324   \n",
      "29      Messias Baptista                       Portugal  1:25.324   \n",
      "30          Joao Ribeiro                       Portugal  1:25.324   \n",
      "31          David Varela                       Portugal  1:25.324   \n",
      "32            Tingkai Bu  République populaire de Chine             \n",
      "33         Congkang Wang  République populaire de Chine             \n",
      "34           Xiaoxu Yang  République populaire de Chine             \n",
      "35            Dong Zhang  République populaire de Chine             \n",
      "36     Pierre-Luc Poulin                         Canada             \n",
      "37      Nicholas Matveev                         Canada             \n",
      "38        Simon Mctavish                         Canada             \n",
      "39         Mark De Jonge                         Canada             \n",
      "40         Yusuke Miyata                          Japon             \n",
      "41   Momotaro Matsushita                          Japon             \n",
      "42        Keiji Mizumoto                          Japon             \n",
      "43      Hiroki Fujishima                          Japon             \n",
      "\n",
      "           Sport              Epreuve Médaille Position  \n",
      "0   canoe-sprint  kayak-quatre-500m-h     Gold  Unknown  \n",
      "1   canoe-sprint  kayak-quatre-500m-h     Gold  Unknown  \n",
      "2   canoe-sprint  kayak-quatre-500m-h     Gold  Unknown  \n",
      "3   canoe-sprint  kayak-quatre-500m-h     Gold  Unknown  \n",
      "4   canoe-sprint  kayak-quatre-500m-h   Silver  Unknown  \n",
      "5   canoe-sprint  kayak-quatre-500m-h   Silver  Unknown  \n",
      "6   canoe-sprint  kayak-quatre-500m-h   Silver  Unknown  \n",
      "7   canoe-sprint  kayak-quatre-500m-h   Silver  Unknown  \n",
      "8   canoe-sprint  kayak-quatre-500m-h   Bronze  Unknown  \n",
      "9   canoe-sprint  kayak-quatre-500m-h   Bronze  Unknown  \n",
      "10  canoe-sprint  kayak-quatre-500m-h   Bronze  Unknown  \n",
      "11  canoe-sprint  kayak-quatre-500m-h   Bronze  Unknown  \n",
      "12  canoe-sprint  kayak-quatre-500m-h       NA  Unknown  \n",
      "13  canoe-sprint  kayak-quatre-500m-h       NA  Unknown  \n",
      "14  canoe-sprint  kayak-quatre-500m-h       NA  Unknown  \n",
      "15  canoe-sprint  kayak-quatre-500m-h       NA  Unknown  \n",
      "16  canoe-sprint  kayak-quatre-500m-h       NA  Unknown  \n",
      "17  canoe-sprint  kayak-quatre-500m-h       NA  Unknown  \n",
      "18  canoe-sprint  kayak-quatre-500m-h       NA  Unknown  \n",
      "19  canoe-sprint  kayak-quatre-500m-h       NA  Unknown  \n",
      "20  canoe-sprint  kayak-quatre-500m-h       NA  Unknown  \n",
      "21  canoe-sprint  kayak-quatre-500m-h       NA  Unknown  \n",
      "22  canoe-sprint  kayak-quatre-500m-h       NA  Unknown  \n",
      "23  canoe-sprint  kayak-quatre-500m-h       NA  Unknown  \n",
      "24  canoe-sprint  kayak-quatre-500m-h       NA  Unknown  \n",
      "25  canoe-sprint  kayak-quatre-500m-h       NA  Unknown  \n",
      "26  canoe-sprint  kayak-quatre-500m-h       NA  Unknown  \n",
      "27  canoe-sprint  kayak-quatre-500m-h       NA  Unknown  \n",
      "28  canoe-sprint  kayak-quatre-500m-h       NA  Unknown  \n",
      "29  canoe-sprint  kayak-quatre-500m-h       NA  Unknown  \n",
      "30  canoe-sprint  kayak-quatre-500m-h       NA  Unknown  \n",
      "31  canoe-sprint  kayak-quatre-500m-h       NA  Unknown  \n",
      "32  canoe-sprint  kayak-quatre-500m-h       NA  Unknown  \n",
      "33  canoe-sprint  kayak-quatre-500m-h       NA  Unknown  \n",
      "34  canoe-sprint  kayak-quatre-500m-h       NA  Unknown  \n",
      "35  canoe-sprint  kayak-quatre-500m-h       NA  Unknown  \n",
      "36  canoe-sprint  kayak-quatre-500m-h       NA  Unknown  \n",
      "37  canoe-sprint  kayak-quatre-500m-h       NA  Unknown  \n",
      "38  canoe-sprint  kayak-quatre-500m-h       NA  Unknown  \n",
      "39  canoe-sprint  kayak-quatre-500m-h       NA  Unknown  \n",
      "40  canoe-sprint  kayak-quatre-500m-h       NA  Unknown  \n",
      "41  canoe-sprint  kayak-quatre-500m-h       NA  Unknown  \n",
      "42  canoe-sprint  kayak-quatre-500m-h       NA  Unknown  \n",
      "43  canoe-sprint  kayak-quatre-500m-h       NA  Unknown  \n"
     ]
    },
    {
     "name": "stderr",
     "output_type": "stream",
     "text": [
      "\n"
     ]
    }
   ],
   "source": [
    "list_pays=[]\n",
    "list_resultat=[]\n",
    "list_epreuve=[]\n",
    "list_sport=[]\n",
    "list_medaille=[]\n",
    "list_resultat_f=[]\n",
    "list_athlete=[]\n",
    "\n",
    "\n",
    "list_echec=[]\n",
    "from tqdm import tqdm\n",
    "from selenium import webdriver\n",
    "from selenium.webdriver.common.by import By\n",
    "import time\n",
    "driver=webdriver.Firefox()\n",
    "driver.get(\"https://olympics.com/fr/olympic-games/tokyo-2020/results/athletisme/\")\n",
    "time.sleep(3)\n",
    "driver.find_element(By.ID,\"onetrust-accept-btn-handler\").click()\n",
    "liste_epreuve_team_1=[(epv,team) for epv,team in liste_epreuve_team if team==1 ]\n",
    "for epv,team in tqdm(liste_epreuve_team_1[35:36]):\n",
    "    found=False\n",
    "    \n",
    "    print(\"Scrapping:\"+epv)\n",
    "    driver.get(\"https://olympics.com/fr/olympic-games/tokyo-2020/results/\"+epv)\n",
    "    \n",
    "    \n",
    "    count=0\n",
    "    while(len(driver.find_elements(By.CLASS_NAME,\"styles__CountryName-sc-rh9yz9-8.iFleUJ\") )==0):\n",
    "        count+=1\n",
    "        time.sleep(0.1)\n",
    "        if(count>90):\n",
    "            print(\"STUCK ON PAYS\")\n",
    "            break\n",
    "    time.sleep(0.3)\n",
    "    # while(len(driver.find_elements(By.CLASS_NAME,\"Iconstyles__Icon-sc-1x3fvd7-0.dwiRxK.icon.icon-caret-down\"))==0):\n",
    "    #     time.sleep(0.1)\n",
    "    count3=0\n",
    "    b=driver.find_elements(By.CLASS_NAME,\"Iconstyles__Icon-sc-1x3fvd7-0.dwiRxK.icon.icon-caret-down\")\n",
    "    if(len(b)==0):                      \n",
    "        b=driver.find_elements(By.CLASS_NAME,\"Iconstyles__Icon-sc-1x3fvd7-0.dwiRxK.icon-caret-down\")\n",
    "\n",
    "    while(len(b)==0 ):\n",
    "        time.sleep(0.1)\n",
    "        count3+=1\n",
    "        b=driver.find_elements(By.CLASS_NAME,\"Iconstyles__Icon-sc-1x3fvd7-0.dwiRxK.icon.icon-caret-down\")\n",
    "        if(len(b)==0):                      \n",
    "            b=driver.find_elements(By.CLASS_NAME,\"Iconstyles__Icon-sc-1x3fvd7-0.dwiRxK.icon-caret-down\")\n",
    "        if(count3>90):\n",
    "            print(\"stuck on button\")\n",
    "            break\n",
    "                                                \n",
    "                \n",
    "    liste_Nb=[]\n",
    "    for i,e in enumerate(b):\n",
    "        try:\n",
    "            e.click()\n",
    "            time.sleep(0.1)\n",
    "            count2=0\n",
    "            if found==False:\n",
    "                while(len(driver.find_elements(By.CLASS_NAME,\"styles__AthleteLink-sc-12ivwwp-1.LVhbz\"))==0 or len(driver.find_elements(By.CLASS_NAME,\"styles__Wrapper-sc-12ivwwp-0.pcxpn\"))==0 ):\n",
    "                    time.sleep(0.1)                          \n",
    "                    count2+=1\n",
    "                    if(count2>90):\n",
    "                        print(\"STUCK ON ATHLETE IF\")\n",
    "                        break\n",
    "                \n",
    "                nb=len(driver.find_elements(By.CLASS_NAME,\"styles__AthleteLink-sc-12ivwwp-1.LVhbz\"))\n",
    "                if(nb==0):\n",
    "                    nb=len(driver.find_elements(By.CLASS_NAME,\"styles__Wrapper-sc-12ivwwp-0.pcxpn\"))\n",
    "                all=len(driver.find_elements(By.CLASS_NAME,\"styles__AthleteLink-sc-12ivwwp-1.LVhbz\"))\n",
    "                if(all==0):\n",
    "                    all=len(driver.find_elements(By.CLASS_NAME,\"styles__AthleteLink-sc-12ivwwp-1.LVhbz\"))\n",
    "                #print(nb)\n",
    "                liste_Nb.append(nb)\n",
    "                found=True\n",
    "\n",
    "            else:\n",
    "                while(all==len(driver.find_elements(By.CLASS_NAME,\"styles__AthleteLink-sc-12ivwwp-1.LVhbz\") or all==len(driver.find_elements(By.CLASS_NAME,\"styles__Wrapper-sc-12ivwwp-0.pcxpn\")))):\n",
    "                    time.sleep(0.1)\n",
    "                    if(count2>90):\n",
    "                        print(\"STUCK ON ATHLETE ELSE\")\n",
    "                        break\n",
    "                    \n",
    "                nb_current=len(driver.find_elements(By.CLASS_NAME,\"styles__AthleteLink-sc-12ivwwp-1.LVhbz\"))-nb\n",
    "                #print(nb_current)\n",
    "                liste_Nb.append(nb_current)\n",
    "                nb+=nb_current\n",
    "                all=len(driver.find_elements(By.CLASS_NAME,\"styles__AthleteLink-sc-12ivwwp-1.LVhbz\"))\n",
    "                if(all==0):\n",
    "                    all=len(driver.find_elements(By.CLASS_NAME,\"styles__Wrapper-sc-12ivwwp-0.pcxpn\"))\n",
    "\n",
    "                \n",
    "        except:\n",
    "            pass\n",
    "    \n",
    "    \n",
    "    print(liste_Nb)\n",
    "\n",
    "    athletes=driver.find_elements(By.CLASS_NAME,\"styles__AthleteLink-sc-12ivwwp-1.LVhbz\")\n",
    "    if(len(athletes)==0):\n",
    "        athletes=driver.find_elements(By.CLASS_NAME,\"styles__Wrapper-sc-12ivwwp-0.pcxpn\")\n",
    "        \n",
    "    list_athlete+=[e.text for e in athletes]\n",
    "\n",
    "    #print(\"Nombre d'athlete ajoutés\"+ str(len(athletes)))\n",
    "    pays=driver.find_elements(By.CLASS_NAME,\"styles__CountryName-sc-rh9yz9-8.iFleUJ\")\n",
    "    #print(len(pays))\n",
    "\n",
    "\n",
    "    \n",
    "\n",
    "\n",
    "    resultats=driver.find_elements(By.CLASS_NAME,\"styles__Info-sc-cjoz4h-0.kLiUyB\")\n",
    "    list_resultat=[]\n",
    "    for e in resultats:\n",
    "        list_resultat.append(e.text)\n",
    "    #print(len(list_resultat))\n",
    "    try:\n",
    "        list_resultat.remove('DNF')\n",
    "    except:\n",
    "        pass\n",
    "    try:\n",
    "        list_resultat.remove('DQ')\n",
    "    except:\n",
    "        pass\n",
    "    \n",
    "    \n",
    "    for index,r in enumerate(liste_Nb):\n",
    "        try:\n",
    "            list_resultat_f+=[list_resultat[index] for j in range(r)]\n",
    "        except:\n",
    "            list_resultat_f+=[\"\" for j in range(r)]\n",
    "        list_pays+=[pays[index].text for j in range(r)]\n",
    "        if(index==0):\n",
    "            list_medaille+=[\"Gold\" for j in range(r)]\n",
    "        elif(index==1):\n",
    "            list_medaille+=[\"Silver\" for j in range(r)]\n",
    "        elif(index==2):\n",
    "            list_medaille+=[\"Bronze\" for j in range(r)]\n",
    "        else:\n",
    "            list_medaille+=[\"NA\" for j in range(r)]\n",
    "    liste_Nb=[]\n",
    "    sport=epv.split(\"/\")[0]\n",
    "    epreuve=epv.split(\"/\")[1]\n",
    "            \n",
    "    list_sport+=[sport for j in range(len(athletes))]\n",
    "    list_epreuve+=[epreuve for j in range(len(athletes))]\n",
    "\n",
    "    print(len(list_athlete))\n",
    "    print(len(list_medaille))\n",
    "    print(len(list_pays))\n",
    "    print(len(list_resultat_f))\n",
    "    print(len(list_sport))\n",
    "    print(len(list_epreuve))\n",
    "    if(len(list_athlete)!=len(list_pays)):\n",
    "        list_echec.append(epv)\n",
    "        print(\"ECHEC\")\n",
    "\n",
    "\n",
    "\n",
    "list_position=[\"Unknown\" for i in range(len(list_athlete))]\n",
    "\n",
    "print(len(list_athlete))\n",
    "print(len(list_medaille))\n",
    "print(len(list_pays))\n",
    "print(len(list_resultat_f))\n",
    "print(len(list_sport))\n",
    "print(len(list_epreuve))\n",
    "print(list_echec)\n",
    "\n",
    "df=pd.DataFrame({\"Nom complet\":list_athlete,\"Pays\":list_pays,\"Résultat\":list_resultat_f,\"Sport\":list_sport,\"Epreuve\":list_epreuve,\"Médaille\":list_medaille,\"Position\":list_position})\n",
    "print(df)\n",
    "\n",
    "\n",
    "        \n",
    "df.to_csv(\"dataTeam.csv\",index=False)\n",
    "    "
   ]
  },
  {
   "cell_type": "code",
   "execution_count": null,
   "metadata": {},
   "outputs": [
    {
     "name": "stdout",
     "output_type": "stream",
     "text": [
      "['6:22.75', '6:22.75', '6:25.88', '6:25.88', '6:28.01', '6:28.01', '6:30.20', '6:30.20', '6:31.43', '6:31.43', '6:38.30', '6:38.30', '', '', '', '', '', '', '', '', '', '', '', '', '', '', '', '5:59.13', '5:59.13', '5:59.13', '5:59.13', '5:59.13', '5:59.13', '5:59.13', '5:59.13', '5:59.13', '6:00.04', '6:00.04', '6:00.04', '6:00.04', '6:00.04', '6:00.04', '6:00.04', '6:00.04', '6:00.04', '6:01.21', '6:01.21', '6:01.21', '6:01.21', '6:01.21', '6:01.21', '6:01.21', '6:01.21', '6:01.21', '6:02.78', '6:02.78', '6:02.78', '6:02.78', '6:02.78', '6:02.78', '6:02.78', '6:02.78', '6:02.78', '6:03.92', '6:03.92', '6:03.92', '6:03.92', '6:03.92', '6:03.92', '6:03.92', '6:03.92', '6:03.92', '6:04.06', '6:04.06', '6:04.06', '6:04.06', '6:04.06', '6:04.06', '6:04.06', '6:04.06', '6:04.06', '', '', '', '', '', '', '', '', '']\n"
     ]
    }
   ],
   "source": [
    "print(list_resultat_f)"
   ]
  },
  {
   "cell_type": "code",
   "execution_count": 10,
   "metadata": {},
   "outputs": [
    {
     "name": "stderr",
     "output_type": "stream",
     "text": [
      "  0%|          | 0/1 [00:00<?, ?it/s]"
     ]
    },
    {
     "name": "stdout",
     "output_type": "stream",
     "text": [
      "Scrapping:tir/carabine-air-comprime-10m-equipe-mixte\n",
      "[2, 2, 2, 4, 2, 2, 2, 2, 2, 2, 2, 2, 2, 2, 2, 2, 2, 2, 2, 2, 2, 2, 2, 2, 2, 2, 2, 2]\n"
     ]
    },
    {
     "name": "stderr",
     "output_type": "stream",
     "text": [
      "100%|██████████| 1/1 [00:24<00:00, 24.65s/it]"
     ]
    },
    {
     "name": "stdout",
     "output_type": "stream",
     "text": [
      "58\n",
      "58\n",
      "58\n",
      "58\n",
      "58\n",
      "58\n",
      "58\n",
      "58\n",
      "58\n",
      "58\n",
      "58\n",
      "58\n",
      "[]\n",
      "                  Nom complet                           Pays Résultat Sport  \\\n",
      "0                   Qian Yang  République populaire de Chine       17   tir   \n",
      "1                 Haoran Yang  République populaire de Chine       17   tir   \n",
      "2            Lucas Kozeniesky          États-Unis d'Amérique       13   tir   \n",
      "3        Mary Carolynn Tucker          États-Unis d'Amérique       13   tir   \n",
      "4                  Eunji Kwon            République de Corée            tir   \n",
      "5                  Taeyun Nam            République de Corée            tir   \n",
      "6            Sergey Kamenskiy                            ROC            tir   \n",
      "7              Yulia Karimova                            ROC            tir   \n",
      "8        Vladimir Maslennikov                            ROC            tir   \n",
      "9        Anastasiia Galashina                            ROC            tir   \n",
      "10             William Shaner          États-Unis d'Amérique            tir   \n",
      "11         Alison Marie Weisz          États-Unis d'Amérique            tir   \n",
      "12                Istvan Peni                        Hongrie            tir   \n",
      "13            Eszter Meszaros                        Hongrie            tir   \n",
      "14          Aneta Stankiewicz                        Pologne            tir   \n",
      "15             Tomasz Bartnik                        Pologne            tir   \n",
      "16           Jon-Hermann Hegg                        Norvège            tir   \n",
      "17                Jenny Stene                        Norvège            tir   \n",
      "18              Henrik Larsen                        Norvège            tir   \n",
      "19      Jeanette Hegg Duestad                        Norvège            tir   \n",
      "20                   Yu Zhang  République populaire de Chine            tir   \n",
      "21                Lihao Sheng  République populaire de Chine            tir   \n",
      "22         Elavenil Valarivan                           Inde            tir   \n",
      "23      Divyansh Singh Panwar                           Inde            tir   \n",
      "24           Haruka Nakaguchi                          Japon            tir   \n",
      "25                Naoya Okada                          Japon            tir   \n",
      "26              Ying-Shin Lin                 Chinese Taipei            tir   \n",
      "27              Shao-Chuan Lu                 Chinese Taipei            tir   \n",
      "28            Najmeh Khedmati    République islamique d'Iran            tir   \n",
      "29            Mahyar Sedaghat    République islamique d'Iran            tir   \n",
      "30         Milutin Stefanovic                         Serbie            tir   \n",
      "31             Andrea Arsovic                         Serbie            tir   \n",
      "32            Snjezana Pejcic                        Croatie            tir   \n",
      "33                Petar Gorsa                        Croatie            tir   \n",
      "34               Deepak Kumar                           Inde            tir   \n",
      "35              Anjum Moudgil                           Inde            tir   \n",
      "36              Elise Collier                      Australie            tir   \n",
      "37       Alex Chresten Hoberg                      Australie            tir   \n",
      "38                 Sangdo Kim            République de Corée            tir   \n",
      "39               Heemoon Park            République de Corée            tir   \n",
      "40               Anna Nielsen                       Danemark            tir   \n",
      "41              Steffen Olsen                       Danemark            tir   \n",
      "42      Katarina Rose Kowplos                      Australie            tir   \n",
      "43         Dane Kevin Sampson                      Australie            tir   \n",
      "44            Maria Martynova                        Bélarus            tir   \n",
      "45       Yury Shcherbatsevich                        Bélarus            tir   \n",
      "46              Marco Suppini                         Italie            tir   \n",
      "47           Sofia Ceccarello                         Italie            tir   \n",
      "48             David Hrckulak             République tchèque            tir   \n",
      "49            Nikola Mazurova             République tchèque            tir   \n",
      "50              Shiori Hirata                          Japon            tir   \n",
      "51         Takayuki Matsumoto                          Japon            tir   \n",
      "52  Alexis Exequiel Eberhardt                      Argentine            tir   \n",
      "53             Fernanda Russo                      Argentine            tir   \n",
      "54            Alzahraa Shaban                         Égypte            tir   \n",
      "55              Osama Elsaeid                         Égypte            tir   \n",
      "56              Milenko Sebic                         Serbie            tir   \n",
      "57          Sanja Vukasinovic                         Serbie            tir   \n",
      "\n",
      "                                   Epreuve Médaille Position  \n",
      "0   carabine-air-comprime-10m-equipe-mixte     Gold  Unknown  \n",
      "1   carabine-air-comprime-10m-equipe-mixte     Gold  Unknown  \n",
      "2   carabine-air-comprime-10m-equipe-mixte   Silver  Unknown  \n",
      "3   carabine-air-comprime-10m-equipe-mixte   Silver  Unknown  \n",
      "4   carabine-air-comprime-10m-equipe-mixte   Bronze  Unknown  \n",
      "5   carabine-air-comprime-10m-equipe-mixte   Bronze  Unknown  \n",
      "6   carabine-air-comprime-10m-equipe-mixte       NA  Unknown  \n",
      "7   carabine-air-comprime-10m-equipe-mixte       NA  Unknown  \n",
      "8   carabine-air-comprime-10m-equipe-mixte       NA  Unknown  \n",
      "9   carabine-air-comprime-10m-equipe-mixte       NA  Unknown  \n",
      "10  carabine-air-comprime-10m-equipe-mixte       NA  Unknown  \n",
      "11  carabine-air-comprime-10m-equipe-mixte       NA  Unknown  \n",
      "12  carabine-air-comprime-10m-equipe-mixte       NA  Unknown  \n",
      "13  carabine-air-comprime-10m-equipe-mixte       NA  Unknown  \n",
      "14  carabine-air-comprime-10m-equipe-mixte       NA  Unknown  \n",
      "15  carabine-air-comprime-10m-equipe-mixte       NA  Unknown  \n",
      "16  carabine-air-comprime-10m-equipe-mixte       NA  Unknown  \n",
      "17  carabine-air-comprime-10m-equipe-mixte       NA  Unknown  \n",
      "18  carabine-air-comprime-10m-equipe-mixte       NA  Unknown  \n",
      "19  carabine-air-comprime-10m-equipe-mixte       NA  Unknown  \n",
      "20  carabine-air-comprime-10m-equipe-mixte       NA  Unknown  \n",
      "21  carabine-air-comprime-10m-equipe-mixte       NA  Unknown  \n",
      "22  carabine-air-comprime-10m-equipe-mixte       NA  Unknown  \n",
      "23  carabine-air-comprime-10m-equipe-mixte       NA  Unknown  \n",
      "24  carabine-air-comprime-10m-equipe-mixte       NA  Unknown  \n",
      "25  carabine-air-comprime-10m-equipe-mixte       NA  Unknown  \n",
      "26  carabine-air-comprime-10m-equipe-mixte       NA  Unknown  \n",
      "27  carabine-air-comprime-10m-equipe-mixte       NA  Unknown  \n",
      "28  carabine-air-comprime-10m-equipe-mixte       NA  Unknown  \n",
      "29  carabine-air-comprime-10m-equipe-mixte       NA  Unknown  \n",
      "30  carabine-air-comprime-10m-equipe-mixte       NA  Unknown  \n",
      "31  carabine-air-comprime-10m-equipe-mixte       NA  Unknown  \n",
      "32  carabine-air-comprime-10m-equipe-mixte       NA  Unknown  \n",
      "33  carabine-air-comprime-10m-equipe-mixte       NA  Unknown  \n",
      "34  carabine-air-comprime-10m-equipe-mixte       NA  Unknown  \n",
      "35  carabine-air-comprime-10m-equipe-mixte       NA  Unknown  \n",
      "36  carabine-air-comprime-10m-equipe-mixte       NA  Unknown  \n",
      "37  carabine-air-comprime-10m-equipe-mixte       NA  Unknown  \n",
      "38  carabine-air-comprime-10m-equipe-mixte       NA  Unknown  \n",
      "39  carabine-air-comprime-10m-equipe-mixte       NA  Unknown  \n",
      "40  carabine-air-comprime-10m-equipe-mixte       NA  Unknown  \n",
      "41  carabine-air-comprime-10m-equipe-mixte       NA  Unknown  \n",
      "42  carabine-air-comprime-10m-equipe-mixte       NA  Unknown  \n",
      "43  carabine-air-comprime-10m-equipe-mixte       NA  Unknown  \n",
      "44  carabine-air-comprime-10m-equipe-mixte       NA  Unknown  \n",
      "45  carabine-air-comprime-10m-equipe-mixte       NA  Unknown  \n",
      "46  carabine-air-comprime-10m-equipe-mixte       NA  Unknown  \n",
      "47  carabine-air-comprime-10m-equipe-mixte       NA  Unknown  \n",
      "48  carabine-air-comprime-10m-equipe-mixte       NA  Unknown  \n",
      "49  carabine-air-comprime-10m-equipe-mixte       NA  Unknown  \n",
      "50  carabine-air-comprime-10m-equipe-mixte       NA  Unknown  \n",
      "51  carabine-air-comprime-10m-equipe-mixte       NA  Unknown  \n",
      "52  carabine-air-comprime-10m-equipe-mixte       NA  Unknown  \n",
      "53  carabine-air-comprime-10m-equipe-mixte       NA  Unknown  \n",
      "54  carabine-air-comprime-10m-equipe-mixte       NA  Unknown  \n",
      "55  carabine-air-comprime-10m-equipe-mixte       NA  Unknown  \n",
      "56  carabine-air-comprime-10m-equipe-mixte       NA  Unknown  \n",
      "57  carabine-air-comprime-10m-equipe-mixte       NA  Unknown  \n"
     ]
    },
    {
     "name": "stderr",
     "output_type": "stream",
     "text": [
      "\n"
     ]
    }
   ],
   "source": [
    "liste_epreuve_team=[('tir/carabine-air-comprime-10m-equipe-mixte',1)]\n",
    "list_pays=[]\n",
    "list_resultat=[]\n",
    "list_epreuve=[]\n",
    "list_sport=[]\n",
    "list_medaille=[]\n",
    "list_resultat_f=[]\n",
    "list_athlete=[]\n",
    "\n",
    "\n",
    "list_echec=[]\n",
    "from tqdm import tqdm\n",
    "from selenium import webdriver\n",
    "from selenium.webdriver.common.by import By\n",
    "import time\n",
    "driver=webdriver.Firefox()\n",
    "driver.get(\"https://olympics.com/fr/olympic-games/tokyo-2020/results/athletisme/\")\n",
    "time.sleep(3)\n",
    "driver.find_element(By.ID,\"onetrust-accept-btn-handler\").click()\n",
    "liste_epreuve_team_1=[(epv,team) for epv,team in liste_epreuve_team if team==1 ]\n",
    "for epv,team in tqdm(liste_epreuve_team_1):\n",
    "    found=False\n",
    "    \n",
    "    print(\"Scrapping:\"+epv)\n",
    "    driver.get(\"https://olympics.com/fr/olympic-games/tokyo-2020/results/\"+epv)\n",
    "    \n",
    "    \n",
    "    count=0\n",
    "    while(len(driver.find_elements(By.CLASS_NAME,\"styles__CountryName-sc-rh9yz9-8.iFleUJ\") )==0):\n",
    "        count+=1\n",
    "        time.sleep(0.1)\n",
    "        if(count>90):\n",
    "            print(\"STUCK ON PAYS\")\n",
    "            break\n",
    "    time.sleep(0.3)\n",
    "    # while(len(driver.find_elements(By.CLASS_NAME,\"Iconstyles__Icon-sc-1x3fvd7-0.dwiRxK.icon.icon-caret-down\"))==0):\n",
    "    #     time.sleep(0.1)\n",
    "    count3=0\n",
    "    b=driver.find_elements(By.CLASS_NAME,\"Iconstyles__Icon-sc-1x3fvd7-0.dwiRxK.icon.icon-caret-down\")\n",
    "    if(len(b)==0):                      \n",
    "        b=driver.find_elements(By.CLASS_NAME,\"Iconstyles__Icon-sc-1x3fvd7-0.dwiRxK.icon-caret-down\")\n",
    "\n",
    "    while(len(b)==0 ):\n",
    "        time.sleep(0.1)\n",
    "        count3+=1\n",
    "        b=driver.find_elements(By.CLASS_NAME,\"Iconstyles__Icon-sc-1x3fvd7-0.dwiRxK.icon.icon-caret-down\")\n",
    "        if(len(b)==0):                      \n",
    "            b=driver.find_elements(By.CLASS_NAME,\"Iconstyles__Icon-sc-1x3fvd7-0.dwiRxK.icon-caret-down\")\n",
    "        if(count3>90):\n",
    "            print(\"stuck on button\")\n",
    "            break\n",
    "                                                \n",
    "                \n",
    "    liste_Nb=[]\n",
    "    for i,e in enumerate(b):\n",
    "        try:\n",
    "            e.click()\n",
    "            time.sleep(0.1)\n",
    "            count2=0\n",
    "            if found==False:\n",
    "                while(len(driver.find_elements(By.CLASS_NAME,\"styles__AthleteLink-sc-12ivwwp-1.LVhbz\"))==0 or len(driver.find_elements(By.CLASS_NAME,\"styles__Wrapper-sc-12ivwwp-0.pcxpn\"))==0 ):\n",
    "                    time.sleep(0.1)                          \n",
    "                    count2+=1\n",
    "                    if(count2>90):\n",
    "                        print(\"STUCK ON ATHLETE IF\")\n",
    "                        break\n",
    "                \n",
    "                nb=len(driver.find_elements(By.CLASS_NAME,\"styles__AthleteLink-sc-12ivwwp-1.LVhbz\"))\n",
    "                if(nb==0):\n",
    "                    nb=len(driver.find_elements(By.CLASS_NAME,\"styles__Wrapper-sc-12ivwwp-0.pcxpn\"))\n",
    "                all=len(driver.find_elements(By.CLASS_NAME,\"styles__AthleteLink-sc-12ivwwp-1.LVhbz\"))\n",
    "                if(all==0):\n",
    "                    all=len(driver.find_elements(By.CLASS_NAME,\"styles__AthleteLink-sc-12ivwwp-1.LVhbz\"))\n",
    "                #print(nb)\n",
    "                liste_Nb.append(nb)\n",
    "                found=True\n",
    "\n",
    "            else:\n",
    "                while(all==len(driver.find_elements(By.CLASS_NAME,\"styles__AthleteLink-sc-12ivwwp-1.LVhbz\") or all==len(driver.find_elements(By.CLASS_NAME,\"styles__Wrapper-sc-12ivwwp-0.pcxpn\")))):\n",
    "                    time.sleep(0.1)\n",
    "                    if(count2>90):\n",
    "                        print(\"STUCK ON ATHLETE ELSE\")\n",
    "                        break\n",
    "                    \n",
    "                nb_current=len(driver.find_elements(By.CLASS_NAME,\"styles__AthleteLink-sc-12ivwwp-1.LVhbz\"))-nb\n",
    "                #print(nb_current)\n",
    "                liste_Nb.append(nb_current)\n",
    "                nb+=nb_current\n",
    "                all=len(driver.find_elements(By.CLASS_NAME,\"styles__AthleteLink-sc-12ivwwp-1.LVhbz\"))\n",
    "                if(all==0):\n",
    "                    all=len(driver.find_elements(By.CLASS_NAME,\"styles__Wrapper-sc-12ivwwp-0.pcxpn\"))\n",
    "\n",
    "                \n",
    "        except:\n",
    "            pass\n",
    "    \n",
    "    \n",
    "    print(liste_Nb)\n",
    "\n",
    "    athletes=driver.find_elements(By.CLASS_NAME,\"styles__AthleteLink-sc-12ivwwp-1.LVhbz\")\n",
    "    if(len(athletes)==0):\n",
    "        athletes=driver.find_elements(By.CLASS_NAME,\"styles__Wrapper-sc-12ivwwp-0.pcxpn\")\n",
    "        \n",
    "    list_athlete+=[e.text for e in athletes]\n",
    "\n",
    "    #print(\"Nombre d'athlete ajoutés\"+ str(len(athletes)))\n",
    "    pays=driver.find_elements(By.CLASS_NAME,\"styles__CountryName-sc-rh9yz9-8.iFleUJ\")\n",
    "    #print(len(pays))\n",
    "\n",
    "\n",
    "    \n",
    "\n",
    "\n",
    "    resultats=driver.find_elements(By.CLASS_NAME,\"styles__Info-sc-cjoz4h-0.kLiUyB\")\n",
    "    list_resultat=[]\n",
    "    for e in resultats:\n",
    "        list_resultat.append(e.text)\n",
    "    #print(len(list_resultat))\n",
    "    try:\n",
    "        list_resultat.remove('DNF')\n",
    "    except:\n",
    "        pass\n",
    "    try:\n",
    "        list_resultat.remove('DQ')\n",
    "    except:\n",
    "        pass\n",
    "    \n",
    "    \n",
    "    for index,r in enumerate(liste_Nb):\n",
    "        try:\n",
    "            list_resultat_f+=[list_resultat[index] for j in range(r)]\n",
    "        except:\n",
    "            list_resultat_f+=[\"\" for j in range(r)]\n",
    "        list_pays+=[pays[index].text for j in range(r)]\n",
    "        if(index==0):\n",
    "            list_medaille+=[\"Gold\" for j in range(r)]\n",
    "        elif(index==1):\n",
    "            list_medaille+=[\"Silver\" for j in range(r)]\n",
    "        elif(index==2):\n",
    "            list_medaille+=[\"Bronze\" for j in range(r)]\n",
    "        else:\n",
    "            list_medaille+=[\"NA\" for j in range(r)]\n",
    "    liste_Nb=[]\n",
    "    sport=epv.split(\"/\")[0]\n",
    "    epreuve=epv.split(\"/\")[1]\n",
    "            \n",
    "    list_sport+=[sport for j in range(len(athletes))]\n",
    "    list_epreuve+=[epreuve for j in range(len(athletes))]\n",
    "\n",
    "    print(len(list_athlete))\n",
    "    print(len(list_medaille))\n",
    "    print(len(list_pays))\n",
    "    print(len(list_resultat_f))\n",
    "    print(len(list_sport))\n",
    "    print(len(list_epreuve))\n",
    "    if(len(list_athlete)!=len(list_pays)):\n",
    "        list_echec.append(epv)\n",
    "        print(\"ECHEC\")\n",
    "\n",
    "\n",
    "\n",
    "list_position=[\"Unknown\" for i in range(len(list_athlete))]\n",
    "\n",
    "print(len(list_athlete))\n",
    "print(len(list_medaille))\n",
    "print(len(list_pays))\n",
    "print(len(list_resultat_f))\n",
    "print(len(list_sport))\n",
    "print(len(list_epreuve))\n",
    "print(list_echec)\n",
    "\n",
    "df=pd.DataFrame({\"Nom complet\":list_athlete,\"Pays\":list_pays,\"Résultat\":list_resultat_f,\"Sport\":list_sport,\"Epreuve\":list_epreuve,\"Médaille\":list_medaille,\"Position\":list_position})\n",
    "print(df)\n",
    "\n",
    "\n",
    "        \n",
    "df.to_csv(\"dataTeam.csv\",index=False)\n",
    "    \n"
   ]
  }
 ],
 "metadata": {
  "kernelspec": {
   "display_name": "Python 3",
   "language": "python",
   "name": "python3"
  },
  "language_info": {
   "codemirror_mode": {
    "name": "ipython",
    "version": 3
   },
   "file_extension": ".py",
   "mimetype": "text/x-python",
   "name": "python",
   "nbconvert_exporter": "python",
   "pygments_lexer": "ipython3",
   "version": "3.10.11"
  },
  "orig_nbformat": 4,
  "vscode": {
   "interpreter": {
    "hash": "28c8623b8cda6d927413803a7832c68e1a351a196940fb662dcc8e5f739bd8fe"
   }
  }
 },
 "nbformat": 4,
 "nbformat_minor": 2
}
